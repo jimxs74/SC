{
  "cells": [
    {
      "cell_type": "markdown",
      "metadata": {
        "id": "view-in-github",
        "colab_type": "text"
      },
      "source": [
        "<a href=\"https://colab.research.google.com/github/jimxs74/SC/blob/sc62_new-dashBoard/SC62_LembarKoordinasi_Script.ipynb\" target=\"_parent\"><img src=\"https://colab.research.google.com/assets/colab-badge.svg\" alt=\"Open In Colab\"/></a>"
      ]
    },
    {
      "cell_type": "markdown",
      "metadata": {
        "id": "j0rJv8nT5Tfo"
      },
      "source": [
        "# **SC62 Script Lembar Koordinasi**\n",
        "\n",
        "Tool ini berguna untuk mendapatkan gambaran progress overall SC project secara angka. agar bisa diidentifikasi letak work volume terbanyak ada diSystem/Disiplin mana\n",
        "\n",
        "UI/UX belum menjadi objective dari tool ini, akan dilanjutkan dengan framework yang lain"
      ]
    },
    {
      "cell_type": "code",
      "execution_count": 1,
      "metadata": {
        "id": "QZPNdd0pLL5y"
      },
      "outputs": [],
      "source": [
        "import pandas as pd\n",
        "import numpy as np\n",
        "import gspread"
      ]
    },
    {
      "cell_type": "code",
      "execution_count": 2,
      "metadata": {
        "id": "mW1m_tCNWRS0"
      },
      "outputs": [],
      "source": [
        "from gspread_dataframe import set_with_dataframe\n",
        "from google.colab import auth\n",
        "auth.authenticate_user()\n",
        "\n",
        "import gspread\n",
        "from gspread_dataframe import set_with_dataframe\n",
        "from google.auth import default\n",
        "creds, _ = default()\n",
        "\n",
        "gc = gspread.authorize(creds)"
      ]
    },
    {
      "cell_type": "code",
      "execution_count": 3,
      "metadata": {
        "id": "xoSG03msszmL"
      },
      "outputs": [],
      "source": [
        "def read_data(url, sheet='sheet1'):\n",
        "  gs = gc.open_by_url(url).worksheet(sheet).get_all_values()\n",
        "  gs = pd.DataFrame.from_records(gs)\n",
        "  gs.columns = gs.iloc[0]\n",
        "  gs = gs[1:]\n",
        "  return gs\n",
        "\n",
        "def write_data(url, result, sheet):\n",
        "  write = gc.open_by_url(url)\n",
        "  write = write.worksheet(sheet)\n",
        "  write.clear()\n",
        "  set_with_dataframe(worksheet=write, dataframe=result, include_index=False,include_column_header=True, resize=True)\n",
        "  return"
      ]
    },
    {
      "cell_type": "code",
      "source": [
        "# gsheet yang akan diolah dan analisis\n",
        "url_sc18 = 'https://docs.google.com/spreadsheets/d/1wrvBoSNka1f51hk8QuLd_bF7irVzSB6nDpg-Z_XqcG4/edit#gid=532748829'\n",
        "url_cert = \"https://docs.google.com/spreadsheets/d/1xPQanRi1XDmo7FlUyiV6Rt8pro_zjEHLOE0GLROTReQ/edit#gid=1035965456\"\n",
        "url_itr = \"https://docs.google.com/spreadsheets/d/1aB57SwMedoMSjBxt5w_EBNYgmMoUACTJC056gEbD9a0/edit#gid=1491426671\"\n",
        "url_cc = \"https://docs.google.com/spreadsheets/d/1ZrQjq30E58bFFiuuZ9aqAYy2StB4uKDRb2oDtM3m8wk/edit#gid=1688767959\"\n",
        "url_pc = \"https://docs.google.com/spreadsheets/d/1DHwpGa_I0sd42o9zfC5cUMSud9XfKwPtyYm7UHY9xl0/edit#gid=1494113475\"\n",
        "url_pl = \"https://docs.google.com/spreadsheets/d/19VIlyxleK14LjZCPls-4F9fjg0Sh46Q8oTk5UawJzhI/edit#gid=622809212\"\n",
        "url_sr = \"https://docs.google.com/spreadsheets/d/1X3Zy083zX2spgZWqlw9TfnzUpHh_LR_C3H1jXyEdB4A/edit#gid=253348165\"\n",
        "\n",
        "# Output tampilan\n",
        "url_sc62 = 'https://docs.google.com/spreadsheets/d/1BRdjDg45HbNN1oeN22UwpaBwTL7fDTqOkMTwBHs0g5g/edit#gid=2092045117'\n",
        "\n",
        "#dummy Test\n",
        "url_sc62_dummy = 'https://docs.google.com/spreadsheets/d/1nO9qBfJCS8vH7shuc_BAj9OGNsdjwqXkhBhFvhNdAcI/edit#gid=0'"
      ],
      "metadata": {
        "id": "zf8jA5VaR1kN"
      },
      "execution_count": 12,
      "outputs": []
    },
    {
      "cell_type": "markdown",
      "metadata": {
        "id": "VcDsDhbtIHpB"
      },
      "source": [
        "Buat tabel system owner dan subsystem owner"
      ]
    },
    {
      "cell_type": "code",
      "execution_count": 13,
      "metadata": {
        "id": "GSEp-M4KIKXX",
        "colab": {
          "base_uri": "https://localhost:8080/",
          "height": 424
        },
        "outputId": "4683d7ca-1ce6-4202-afc0-08493d6b692a"
      },
      "outputs": [
        {
          "output_type": "execute_result",
          "data": {
            "text/plain": [
              "    subsystem                              subsystem desc SSHOC or SHOC  \\\n",
              "0      009-01  Temporary Power MV (20/11kV) and LV (400V)         SSHOC   \n",
              "1      009-02                      Temporary Water Supply         SSHOC   \n",
              "2      009-03         Temporary Safety and Fire Equipment         SSHOC   \n",
              "3      009-04                              Temporary HVAC                 \n",
              "4      009-06                       Temporary Buyback Gas         SSHOC   \n",
              "..        ...                                         ...           ...   \n",
              "972    870-23                 Fire Area-12 (Substation-3)         SSHOC   \n",
              "973    870-24                 Fire Area-14 (Substation-4)         SSHOC   \n",
              "974    870-25             Fire Area-15 (Control Building)         SSHOC   \n",
              "975    999-01                                                             \n",
              "976    999-02                 Tools and Material Handling                 \n",
              "\n",
              "      system owner  \n",
              "0             Yadi  \n",
              "1    Fathur Rohman  \n",
              "2          Hasan H  \n",
              "3    Fathur Rohman  \n",
              "4          Estu YP  \n",
              "..             ...  \n",
              "972        Noprian  \n",
              "973        Noprian  \n",
              "974                 \n",
              "975                 \n",
              "976           Yadi  \n",
              "\n",
              "[977 rows x 4 columns]"
            ],
            "text/html": [
              "\n",
              "  <div id=\"df-1f2e6a69-3d3d-40bb-9e06-8fe8081d0af2\">\n",
              "    <div class=\"colab-df-container\">\n",
              "      <div>\n",
              "<style scoped>\n",
              "    .dataframe tbody tr th:only-of-type {\n",
              "        vertical-align: middle;\n",
              "    }\n",
              "\n",
              "    .dataframe tbody tr th {\n",
              "        vertical-align: top;\n",
              "    }\n",
              "\n",
              "    .dataframe thead th {\n",
              "        text-align: right;\n",
              "    }\n",
              "</style>\n",
              "<table border=\"1\" class=\"dataframe\">\n",
              "  <thead>\n",
              "    <tr style=\"text-align: right;\">\n",
              "      <th></th>\n",
              "      <th>subsystem</th>\n",
              "      <th>subsystem desc</th>\n",
              "      <th>SSHOC or SHOC</th>\n",
              "      <th>system owner</th>\n",
              "    </tr>\n",
              "  </thead>\n",
              "  <tbody>\n",
              "    <tr>\n",
              "      <th>0</th>\n",
              "      <td>009-01</td>\n",
              "      <td>Temporary Power MV (20/11kV) and LV (400V)</td>\n",
              "      <td>SSHOC</td>\n",
              "      <td>Yadi</td>\n",
              "    </tr>\n",
              "    <tr>\n",
              "      <th>1</th>\n",
              "      <td>009-02</td>\n",
              "      <td>Temporary Water Supply</td>\n",
              "      <td>SSHOC</td>\n",
              "      <td>Fathur Rohman</td>\n",
              "    </tr>\n",
              "    <tr>\n",
              "      <th>2</th>\n",
              "      <td>009-03</td>\n",
              "      <td>Temporary Safety and Fire Equipment</td>\n",
              "      <td>SSHOC</td>\n",
              "      <td>Hasan H</td>\n",
              "    </tr>\n",
              "    <tr>\n",
              "      <th>3</th>\n",
              "      <td>009-04</td>\n",
              "      <td>Temporary HVAC</td>\n",
              "      <td></td>\n",
              "      <td>Fathur Rohman</td>\n",
              "    </tr>\n",
              "    <tr>\n",
              "      <th>4</th>\n",
              "      <td>009-06</td>\n",
              "      <td>Temporary Buyback Gas</td>\n",
              "      <td>SSHOC</td>\n",
              "      <td>Estu YP</td>\n",
              "    </tr>\n",
              "    <tr>\n",
              "      <th>...</th>\n",
              "      <td>...</td>\n",
              "      <td>...</td>\n",
              "      <td>...</td>\n",
              "      <td>...</td>\n",
              "    </tr>\n",
              "    <tr>\n",
              "      <th>972</th>\n",
              "      <td>870-23</td>\n",
              "      <td>Fire Area-12 (Substation-3)</td>\n",
              "      <td>SSHOC</td>\n",
              "      <td>Noprian</td>\n",
              "    </tr>\n",
              "    <tr>\n",
              "      <th>973</th>\n",
              "      <td>870-24</td>\n",
              "      <td>Fire Area-14 (Substation-4)</td>\n",
              "      <td>SSHOC</td>\n",
              "      <td>Noprian</td>\n",
              "    </tr>\n",
              "    <tr>\n",
              "      <th>974</th>\n",
              "      <td>870-25</td>\n",
              "      <td>Fire Area-15 (Control Building)</td>\n",
              "      <td>SSHOC</td>\n",
              "      <td></td>\n",
              "    </tr>\n",
              "    <tr>\n",
              "      <th>975</th>\n",
              "      <td>999-01</td>\n",
              "      <td></td>\n",
              "      <td></td>\n",
              "      <td></td>\n",
              "    </tr>\n",
              "    <tr>\n",
              "      <th>976</th>\n",
              "      <td>999-02</td>\n",
              "      <td>Tools and Material Handling</td>\n",
              "      <td></td>\n",
              "      <td>Yadi</td>\n",
              "    </tr>\n",
              "  </tbody>\n",
              "</table>\n",
              "<p>977 rows × 4 columns</p>\n",
              "</div>\n",
              "      <button class=\"colab-df-convert\" onclick=\"convertToInteractive('df-1f2e6a69-3d3d-40bb-9e06-8fe8081d0af2')\"\n",
              "              title=\"Convert this dataframe to an interactive table.\"\n",
              "              style=\"display:none;\">\n",
              "        \n",
              "  <svg xmlns=\"http://www.w3.org/2000/svg\" height=\"24px\"viewBox=\"0 0 24 24\"\n",
              "       width=\"24px\">\n",
              "    <path d=\"M0 0h24v24H0V0z\" fill=\"none\"/>\n",
              "    <path d=\"M18.56 5.44l.94 2.06.94-2.06 2.06-.94-2.06-.94-.94-2.06-.94 2.06-2.06.94zm-11 1L8.5 8.5l.94-2.06 2.06-.94-2.06-.94L8.5 2.5l-.94 2.06-2.06.94zm10 10l.94 2.06.94-2.06 2.06-.94-2.06-.94-.94-2.06-.94 2.06-2.06.94z\"/><path d=\"M17.41 7.96l-1.37-1.37c-.4-.4-.92-.59-1.43-.59-.52 0-1.04.2-1.43.59L10.3 9.45l-7.72 7.72c-.78.78-.78 2.05 0 2.83L4 21.41c.39.39.9.59 1.41.59.51 0 1.02-.2 1.41-.59l7.78-7.78 2.81-2.81c.8-.78.8-2.07 0-2.86zM5.41 20L4 18.59l7.72-7.72 1.47 1.35L5.41 20z\"/>\n",
              "  </svg>\n",
              "      </button>\n",
              "      \n",
              "  <style>\n",
              "    .colab-df-container {\n",
              "      display:flex;\n",
              "      flex-wrap:wrap;\n",
              "      gap: 12px;\n",
              "    }\n",
              "\n",
              "    .colab-df-convert {\n",
              "      background-color: #E8F0FE;\n",
              "      border: none;\n",
              "      border-radius: 50%;\n",
              "      cursor: pointer;\n",
              "      display: none;\n",
              "      fill: #1967D2;\n",
              "      height: 32px;\n",
              "      padding: 0 0 0 0;\n",
              "      width: 32px;\n",
              "    }\n",
              "\n",
              "    .colab-df-convert:hover {\n",
              "      background-color: #E2EBFA;\n",
              "      box-shadow: 0px 1px 2px rgba(60, 64, 67, 0.3), 0px 1px 3px 1px rgba(60, 64, 67, 0.15);\n",
              "      fill: #174EA6;\n",
              "    }\n",
              "\n",
              "    [theme=dark] .colab-df-convert {\n",
              "      background-color: #3B4455;\n",
              "      fill: #D2E3FC;\n",
              "    }\n",
              "\n",
              "    [theme=dark] .colab-df-convert:hover {\n",
              "      background-color: #434B5C;\n",
              "      box-shadow: 0px 1px 3px 1px rgba(0, 0, 0, 0.15);\n",
              "      filter: drop-shadow(0px 1px 2px rgba(0, 0, 0, 0.3));\n",
              "      fill: #FFFFFF;\n",
              "    }\n",
              "  </style>\n",
              "\n",
              "      <script>\n",
              "        const buttonEl =\n",
              "          document.querySelector('#df-1f2e6a69-3d3d-40bb-9e06-8fe8081d0af2 button.colab-df-convert');\n",
              "        buttonEl.style.display =\n",
              "          google.colab.kernel.accessAllowed ? 'block' : 'none';\n",
              "\n",
              "        async function convertToInteractive(key) {\n",
              "          const element = document.querySelector('#df-1f2e6a69-3d3d-40bb-9e06-8fe8081d0af2');\n",
              "          const dataTable =\n",
              "            await google.colab.kernel.invokeFunction('convertToInteractive',\n",
              "                                                     [key], {});\n",
              "          if (!dataTable) return;\n",
              "\n",
              "          const docLinkHtml = 'Like what you see? Visit the ' +\n",
              "            '<a target=\"_blank\" href=https://colab.research.google.com/notebooks/data_table.ipynb>data table notebook</a>'\n",
              "            + ' to learn more about interactive tables.';\n",
              "          element.innerHTML = '';\n",
              "          dataTable['output_type'] = 'display_data';\n",
              "          await google.colab.output.renderOutput(dataTable, element);\n",
              "          const docLink = document.createElement('div');\n",
              "          docLink.innerHTML = docLinkHtml;\n",
              "          element.appendChild(docLink);\n",
              "        }\n",
              "      </script>\n",
              "    </div>\n",
              "  </div>\n",
              "  "
            ]
          },
          "metadata": {},
          "execution_count": 13
        }
      ],
      "source": [
        "gs_read = gc.open_by_url(url_sc18).worksheet('System List')\n",
        "gs_write = gc.open_by_url(url_sc62)\n",
        "\n",
        "df = gs_read.get_all_values()\n",
        "df = pd.DataFrame.from_records(df)\n",
        "\n",
        "# Ambil kolom yg di perlukan saja dari SC18\n",
        "df = df[[1,2,3,4,24,32]] \n",
        "df.columns = ['system','system desc','subsystem','subsystem desc', 'SSHOC or SHOC','system owner']\n",
        "df['system'].replace('',np.nan, inplace=True)\n",
        "df['subsystem'].replace('',np.nan, inplace=True)\n",
        "\n",
        "# pilih row yang diperlukan saja\n",
        "so = df[6:].drop(['subsystem','subsystem desc'], axis=1)\n",
        "\n",
        "# drop row yg mengandung blank pada column subsystem\n",
        "so.dropna(subset=['system'], inplace=True)\n",
        "so.reset_index(drop=True)\n",
        "\n",
        "# Generate summary table Sub-System Owner dari SC18\n",
        "# pilih row yang diperlukan saja\n",
        "sso = df[6:].drop(['system','system desc'], axis=1)\n",
        "\n",
        "# drop row yg mengandung blank pada column subsystem\n",
        "sso.dropna(subset=['subsystem'], inplace=True)\n",
        "sso.reset_index(drop=True)\n"
      ]
    },
    {
      "cell_type": "code",
      "source": [
        "so_sso = pd.concat([so, sso], axis=1)"
      ],
      "metadata": {
        "id": "YlAqIy0eVIA9"
      },
      "execution_count": 14,
      "outputs": []
    },
    {
      "cell_type": "code",
      "source": [
        "so.columns = ['system/subsystem','desc', 'SSHOC/SHOC','system owner']\n",
        "sso.columns = ['system/subsystem','desc', 'SSHOC/SHOC','system owner']\n",
        "so_sso = pd.concat([so, sso])"
      ],
      "metadata": {
        "id": "HJl-rYeGV5yx"
      },
      "execution_count": 20,
      "outputs": []
    },
    {
      "cell_type": "code",
      "source": [
        "#write tabel so dan sso tabel ini tidak perlu ditampilkan dalam frontend gsheet\n",
        "write_data(url_sc62_dummy, so, 'so')\n",
        "write_data(url_sc62_dummy, sso, 'sso')\n",
        "write_data(url_sc62_dummy, so_sso, 'so_sso')"
      ],
      "metadata": {
        "id": "8zwqr0uYSYh7"
      },
      "execution_count": 22,
      "outputs": []
    },
    {
      "cell_type": "markdown",
      "metadata": {
        "id": "_RnCl5FoLT3I"
      },
      "source": [
        "#1. Connect ke Data"
      ]
    },
    {
      "cell_type": "code",
      "execution_count": 23,
      "metadata": {
        "id": "BpMZ7a1job4D"
      },
      "outputs": [],
      "source": [
        "# link data dari p Supri. di update harian oleh p Supri\n",
        "cert = read_data(url_cert,'CERT')\n",
        "itr = read_data(url_itr,'ITR')\n",
        "cc = read_data(url_cc,'CC')\n",
        "pc = read_data(url_pc,'PC')\n",
        "pl = read_data(url_pl,'PL')\n",
        "sr = read_data(url_sr,'PHASE')"
      ]
    },
    {
      "cell_type": "markdown",
      "metadata": {
        "id": "TlqltVulcEmS"
      },
      "source": [
        "#2. Certificate connect dengan subsystem owner (cert+sso)"
      ]
    },
    {
      "cell_type": "code",
      "source": [
        "cert = cert[['Certificate No','System No','System Description','Sub System No','Sub System Description','Discipline','Status']]\n"
      ],
      "metadata": {
        "id": "UmQ6i0yEXwUu"
      },
      "execution_count": 24,
      "outputs": []
    },
    {
      "cell_type": "code",
      "source": [
        "cert.head(3)"
      ],
      "metadata": {
        "colab": {
          "base_uri": "https://localhost:8080/",
          "height": 144
        },
        "id": "e9IR35qmX1DE",
        "outputId": "3cfc35c1-e5f3-48e5-f518-e45a00587298"
      },
      "execution_count": 25,
      "outputs": [
        {
          "output_type": "execute_result",
          "data": {
            "text/plain": [
              "0 Certificate No System No System Description Sub System No  \\\n",
              "1        FAN-JTB                                              \n",
              "2       PSSR-JTB                                              \n",
              "3       RHIC-JTB                                              \n",
              "\n",
              "0 Sub System Description Discipline       Status  \n",
              "1                                    Outstanding  \n",
              "2                                    Outstanding  \n",
              "3                                    Outstanding  "
            ],
            "text/html": [
              "\n",
              "  <div id=\"df-bb074622-7bf9-4048-a34d-4fd95b4b67eb\">\n",
              "    <div class=\"colab-df-container\">\n",
              "      <div>\n",
              "<style scoped>\n",
              "    .dataframe tbody tr th:only-of-type {\n",
              "        vertical-align: middle;\n",
              "    }\n",
              "\n",
              "    .dataframe tbody tr th {\n",
              "        vertical-align: top;\n",
              "    }\n",
              "\n",
              "    .dataframe thead th {\n",
              "        text-align: right;\n",
              "    }\n",
              "</style>\n",
              "<table border=\"1\" class=\"dataframe\">\n",
              "  <thead>\n",
              "    <tr style=\"text-align: right;\">\n",
              "      <th></th>\n",
              "      <th>Certificate No</th>\n",
              "      <th>System No</th>\n",
              "      <th>System Description</th>\n",
              "      <th>Sub System No</th>\n",
              "      <th>Sub System Description</th>\n",
              "      <th>Discipline</th>\n",
              "      <th>Status</th>\n",
              "    </tr>\n",
              "  </thead>\n",
              "  <tbody>\n",
              "    <tr>\n",
              "      <th>1</th>\n",
              "      <td>FAN-JTB</td>\n",
              "      <td></td>\n",
              "      <td></td>\n",
              "      <td></td>\n",
              "      <td></td>\n",
              "      <td></td>\n",
              "      <td>Outstanding</td>\n",
              "    </tr>\n",
              "    <tr>\n",
              "      <th>2</th>\n",
              "      <td>PSSR-JTB</td>\n",
              "      <td></td>\n",
              "      <td></td>\n",
              "      <td></td>\n",
              "      <td></td>\n",
              "      <td></td>\n",
              "      <td>Outstanding</td>\n",
              "    </tr>\n",
              "    <tr>\n",
              "      <th>3</th>\n",
              "      <td>RHIC-JTB</td>\n",
              "      <td></td>\n",
              "      <td></td>\n",
              "      <td></td>\n",
              "      <td></td>\n",
              "      <td></td>\n",
              "      <td>Outstanding</td>\n",
              "    </tr>\n",
              "  </tbody>\n",
              "</table>\n",
              "</div>\n",
              "      <button class=\"colab-df-convert\" onclick=\"convertToInteractive('df-bb074622-7bf9-4048-a34d-4fd95b4b67eb')\"\n",
              "              title=\"Convert this dataframe to an interactive table.\"\n",
              "              style=\"display:none;\">\n",
              "        \n",
              "  <svg xmlns=\"http://www.w3.org/2000/svg\" height=\"24px\"viewBox=\"0 0 24 24\"\n",
              "       width=\"24px\">\n",
              "    <path d=\"M0 0h24v24H0V0z\" fill=\"none\"/>\n",
              "    <path d=\"M18.56 5.44l.94 2.06.94-2.06 2.06-.94-2.06-.94-.94-2.06-.94 2.06-2.06.94zm-11 1L8.5 8.5l.94-2.06 2.06-.94-2.06-.94L8.5 2.5l-.94 2.06-2.06.94zm10 10l.94 2.06.94-2.06 2.06-.94-2.06-.94-.94-2.06-.94 2.06-2.06.94z\"/><path d=\"M17.41 7.96l-1.37-1.37c-.4-.4-.92-.59-1.43-.59-.52 0-1.04.2-1.43.59L10.3 9.45l-7.72 7.72c-.78.78-.78 2.05 0 2.83L4 21.41c.39.39.9.59 1.41.59.51 0 1.02-.2 1.41-.59l7.78-7.78 2.81-2.81c.8-.78.8-2.07 0-2.86zM5.41 20L4 18.59l7.72-7.72 1.47 1.35L5.41 20z\"/>\n",
              "  </svg>\n",
              "      </button>\n",
              "      \n",
              "  <style>\n",
              "    .colab-df-container {\n",
              "      display:flex;\n",
              "      flex-wrap:wrap;\n",
              "      gap: 12px;\n",
              "    }\n",
              "\n",
              "    .colab-df-convert {\n",
              "      background-color: #E8F0FE;\n",
              "      border: none;\n",
              "      border-radius: 50%;\n",
              "      cursor: pointer;\n",
              "      display: none;\n",
              "      fill: #1967D2;\n",
              "      height: 32px;\n",
              "      padding: 0 0 0 0;\n",
              "      width: 32px;\n",
              "    }\n",
              "\n",
              "    .colab-df-convert:hover {\n",
              "      background-color: #E2EBFA;\n",
              "      box-shadow: 0px 1px 2px rgba(60, 64, 67, 0.3), 0px 1px 3px 1px rgba(60, 64, 67, 0.15);\n",
              "      fill: #174EA6;\n",
              "    }\n",
              "\n",
              "    [theme=dark] .colab-df-convert {\n",
              "      background-color: #3B4455;\n",
              "      fill: #D2E3FC;\n",
              "    }\n",
              "\n",
              "    [theme=dark] .colab-df-convert:hover {\n",
              "      background-color: #434B5C;\n",
              "      box-shadow: 0px 1px 3px 1px rgba(0, 0, 0, 0.15);\n",
              "      filter: drop-shadow(0px 1px 2px rgba(0, 0, 0, 0.3));\n",
              "      fill: #FFFFFF;\n",
              "    }\n",
              "  </style>\n",
              "\n",
              "      <script>\n",
              "        const buttonEl =\n",
              "          document.querySelector('#df-bb074622-7bf9-4048-a34d-4fd95b4b67eb button.colab-df-convert');\n",
              "        buttonEl.style.display =\n",
              "          google.colab.kernel.accessAllowed ? 'block' : 'none';\n",
              "\n",
              "        async function convertToInteractive(key) {\n",
              "          const element = document.querySelector('#df-bb074622-7bf9-4048-a34d-4fd95b4b67eb');\n",
              "          const dataTable =\n",
              "            await google.colab.kernel.invokeFunction('convertToInteractive',\n",
              "                                                     [key], {});\n",
              "          if (!dataTable) return;\n",
              "\n",
              "          const docLinkHtml = 'Like what you see? Visit the ' +\n",
              "            '<a target=\"_blank\" href=https://colab.research.google.com/notebooks/data_table.ipynb>data table notebook</a>'\n",
              "            + ' to learn more about interactive tables.';\n",
              "          element.innerHTML = '';\n",
              "          dataTable['output_type'] = 'display_data';\n",
              "          await google.colab.output.renderOutput(dataTable, element);\n",
              "          const docLink = document.createElement('div');\n",
              "          docLink.innerHTML = docLinkHtml;\n",
              "          element.appendChild(docLink);\n",
              "        }\n",
              "      </script>\n",
              "    </div>\n",
              "  </div>\n",
              "  "
            ]
          },
          "metadata": {},
          "execution_count": 25
        }
      ]
    },
    {
      "cell_type": "markdown",
      "metadata": {
        "id": "-6jt0XdQcQ2C"
      },
      "source": [
        " kelebihan : join system owner lebih specifik pada subsystem, lebih akurat <br>\n",
        " kekurangan : ada bug, SHOC/SCCC/RFSU tidak terambil datanya dan teralamatkan ke PIC SO"
      ]
    },
    {
      "cell_type": "code",
      "execution_count": null,
      "metadata": {
        "id": "OaTc1an6VAn0"
      },
      "outputs": [],
      "source": [
        "#ambil data certificate\n",
        "cert = cert[['Certificate No','System No','System Description','Sub System No','Sub System Description','Discipline','Status']]\n",
        "#cert['System No'] = pd.to_numeric(cert['System No'], errors='coerce').astype('Int64')\n",
        "\n",
        "#ambil data SC61 worksheet sso\n",
        "sso = read_data(url_sc62,'sso')\n",
        "\n",
        "# Merge data dengan CSystem Report Certificate Status dengan SC61\n",
        "sert_sso = pd.merge(cert, sso, left_on =\"Sub System No\", right_on=\"subsystem\" , how=\"left\") # previous is inner\n",
        "sert_sso = sert_sso.drop(['System No','System Description','subsystem','subsystem desc'], axis=1)\n",
        "\n",
        "# Sebaran Outstanding Certificate\n",
        "sert_sso = sert_sso[sert_sso['Status'].str.contains('Outstanding')]\n",
        "sso_load= sert_sso[\"system owner\"].value_counts()\n",
        "#print(\"Beban System Owner dalam subsystem lebih akurat : \")\n",
        "#print(sso_load)"
      ]
    },
    {
      "cell_type": "code",
      "execution_count": null,
      "metadata": {
        "id": "C55Ld8tQKGmF"
      },
      "outputs": [],
      "source": [
        "# save to gsheet diworksheet sso\n",
        "#write_data(url_sc62, sert_sso, sheet='sc_workfront')"
      ]
    },
    {
      "cell_type": "code",
      "execution_count": null,
      "metadata": {
        "id": "PdbLh3wqo6RY"
      },
      "outputs": [],
      "source": [
        "#update ke data system owner sertificate, untuk fungsi vlookup di lembar koordinasi\n",
        "so = read_data(url_sc62,'so')\n",
        "sert_so = pd.merge(cert, so, left_on =\"System No\", right_on=\"system\" , how=\"left\") # previosly inner\n",
        "sert_so = sert_so.drop(['Sub System No','Sub System Description','system','system desc'], axis=1)\n",
        "sert_so = sert_so.sort_values(by=['System No'])\n",
        "\n",
        "write_data(url_sc62, sert_so, sheet='so_wf_sert')"
      ]
    },
    {
      "cell_type": "markdown",
      "metadata": {
        "id": "ZyFnc4eaqgpT"
      },
      "source": [
        "#3. Connect to Summary Report (cert+sso+summary report)"
      ]
    },
    {
      "cell_type": "code",
      "execution_count": null,
      "metadata": {
        "id": "6Tob7Bapaj-5"
      },
      "outputs": [],
      "source": [
        "#sr = read_data(url_sr,'PHASE')"
      ]
    },
    {
      "cell_type": "code",
      "execution_count": null,
      "metadata": {
        "id": "xRCjW2107-jc"
      },
      "outputs": [],
      "source": [
        "sr = sr[['System No', 'System Description', 'Sub System No','Sub System Description', 'Discipline', 'ITR Outstanding', 'CC Checksheet Outstanding', 'PC Checksheet Outstanding', 'COMM Checksheet Outstanding']]\n",
        "#sr = sr.fillna(0)\n",
        "\n",
        "sr['System No'] = pd.to_numeric(sr['System No'], errors='coerce').astype('Int64')\n",
        "sr['ITR Outstanding'] = pd.to_numeric(sr['ITR Outstanding'], errors='coerce').astype('Int64')\n",
        "sr['CC Checksheet Outstanding'] = pd.to_numeric(sr['CC Checksheet Outstanding'], errors='coerce').astype('Int64')\n",
        "sr['PC Checksheet Outstanding'] = pd.to_numeric(sr['PC Checksheet Outstanding'], errors='coerce').astype('Int64')\n",
        "sr['COMM Checksheet Outstanding'] = pd.to_numeric(sr['COMM Checksheet Outstanding'], errors='coerce').astype('Int64')\n",
        "\n",
        "sr = sr.fillna(0)"
      ]
    },
    {
      "cell_type": "code",
      "execution_count": null,
      "metadata": {
        "id": "HBDjtFkigA1b"
      },
      "outputs": [],
      "source": [
        "# Filter yg masih outstanding saja di bagian CC Checksheet\n",
        "sr_cc = sr[['Sub System No','Discipline','CC Checksheet Outstanding']]\n",
        "sr_cc = sr_cc[sr_cc['CC Checksheet Outstanding'] != 0]\n",
        "\n",
        "# combine text on different column\n",
        "sr_cc[\"Discipline\"] = sr_cc[\"Discipline\"].astype(str) + \":\" + sr_cc[\"CC Checksheet Outstanding\"].astype(str)\n",
        "sr_cc = sr_cc.drop(columns=['CC Checksheet Outstanding'])\n",
        "sr_cc = sr_cc.set_index('Sub System No')\n",
        "\n",
        "# combine value as string ref : https://stackoverflow.com/questions/59914167/putting-all-the-same-value-indices-into-one-row\n",
        "sr_cc = sr_cc.assign(labels = sr_cc.groupby(level = 'Sub System No').cumcount()).groupby([sr_cc.index,'labels']).first().unstack('labels').sort_index(axis =1,level = 1).droplevel(1,axis = 1)\n",
        "sr_cc.columns = ['CC Outstanding', 'A','B','C']\n",
        "\n",
        "sr_cc[\"CC Outstanding\"] = sr_cc[\"CC Outstanding\"].astype(str) + \"/\" + sr_cc[\"A\"].astype(str) + \"/\" + sr_cc[\"B\"].astype(str) + \"/\" + sr_cc[\"C\"].astype(str)\n",
        "sr_cc = sr_cc.drop(columns=['A','B','C'])"
      ]
    },
    {
      "cell_type": "code",
      "execution_count": null,
      "metadata": {
        "id": "dCs780nMa9y8"
      },
      "outputs": [],
      "source": [
        "# Filter yg masih outstanding saja di bagian PC Checksheet\n",
        "sr_pc = sr[['Sub System No','Discipline','PC Checksheet Outstanding']]\n",
        "sr_pc = sr_pc[sr_pc['PC Checksheet Outstanding'] != 0]\n",
        "\n",
        "# combine text on different column\n",
        "sr_pc[\"Discipline\"] = sr_pc[\"Discipline\"].astype(str) + \":\" + sr_pc[\"PC Checksheet Outstanding\"].astype(str)\n",
        "sr_pc = sr_pc.drop(columns=['PC Checksheet Outstanding'])\n",
        "sr_pc = sr_pc.set_index('Sub System No')\n",
        "\n",
        "# combine value as string \n",
        "sr_pc = sr_pc.assign(labels = sr_pc.groupby(level = 'Sub System No').cumcount()).groupby([sr_pc.index,'labels']).first().unstack('labels').sort_index(axis =1,level = 1).droplevel(1,axis = 1)"
      ]
    },
    {
      "cell_type": "code",
      "execution_count": null,
      "metadata": {
        "id": "Yx8xIKBKarfs",
        "colab": {
          "base_uri": "https://localhost:8080/",
          "height": 175
        },
        "outputId": "a03e7fab-9112-4ac3-8163-0bd2d2f4d640"
      },
      "outputs": [
        {
          "output_type": "execute_result",
          "data": {
            "text/plain": [
              "0             Discipline Discipline Discipline Discipline Discipline\n",
              "Sub System No                                                       \n",
              "068-01               C:1        NaN        NaN        NaN        NaN\n",
              "068-08               C:1        NaN        NaN        NaN        NaN\n",
              "068-09               C:2        NaN        NaN        NaN        NaN"
            ],
            "text/html": [
              "\n",
              "  <div id=\"df-74ba1013-be66-47a8-9ace-f33f2b23fb33\">\n",
              "    <div class=\"colab-df-container\">\n",
              "      <div>\n",
              "<style scoped>\n",
              "    .dataframe tbody tr th:only-of-type {\n",
              "        vertical-align: middle;\n",
              "    }\n",
              "\n",
              "    .dataframe tbody tr th {\n",
              "        vertical-align: top;\n",
              "    }\n",
              "\n",
              "    .dataframe thead th {\n",
              "        text-align: right;\n",
              "    }\n",
              "</style>\n",
              "<table border=\"1\" class=\"dataframe\">\n",
              "  <thead>\n",
              "    <tr style=\"text-align: right;\">\n",
              "      <th></th>\n",
              "      <th>Discipline</th>\n",
              "      <th>Discipline</th>\n",
              "      <th>Discipline</th>\n",
              "      <th>Discipline</th>\n",
              "      <th>Discipline</th>\n",
              "    </tr>\n",
              "    <tr>\n",
              "      <th>Sub System No</th>\n",
              "      <th></th>\n",
              "      <th></th>\n",
              "      <th></th>\n",
              "      <th></th>\n",
              "      <th></th>\n",
              "    </tr>\n",
              "  </thead>\n",
              "  <tbody>\n",
              "    <tr>\n",
              "      <th>068-01</th>\n",
              "      <td>C:1</td>\n",
              "      <td>NaN</td>\n",
              "      <td>NaN</td>\n",
              "      <td>NaN</td>\n",
              "      <td>NaN</td>\n",
              "    </tr>\n",
              "    <tr>\n",
              "      <th>068-08</th>\n",
              "      <td>C:1</td>\n",
              "      <td>NaN</td>\n",
              "      <td>NaN</td>\n",
              "      <td>NaN</td>\n",
              "      <td>NaN</td>\n",
              "    </tr>\n",
              "    <tr>\n",
              "      <th>068-09</th>\n",
              "      <td>C:2</td>\n",
              "      <td>NaN</td>\n",
              "      <td>NaN</td>\n",
              "      <td>NaN</td>\n",
              "      <td>NaN</td>\n",
              "    </tr>\n",
              "  </tbody>\n",
              "</table>\n",
              "</div>\n",
              "      <button class=\"colab-df-convert\" onclick=\"convertToInteractive('df-74ba1013-be66-47a8-9ace-f33f2b23fb33')\"\n",
              "              title=\"Convert this dataframe to an interactive table.\"\n",
              "              style=\"display:none;\">\n",
              "        \n",
              "  <svg xmlns=\"http://www.w3.org/2000/svg\" height=\"24px\"viewBox=\"0 0 24 24\"\n",
              "       width=\"24px\">\n",
              "    <path d=\"M0 0h24v24H0V0z\" fill=\"none\"/>\n",
              "    <path d=\"M18.56 5.44l.94 2.06.94-2.06 2.06-.94-2.06-.94-.94-2.06-.94 2.06-2.06.94zm-11 1L8.5 8.5l.94-2.06 2.06-.94-2.06-.94L8.5 2.5l-.94 2.06-2.06.94zm10 10l.94 2.06.94-2.06 2.06-.94-2.06-.94-.94-2.06-.94 2.06-2.06.94z\"/><path d=\"M17.41 7.96l-1.37-1.37c-.4-.4-.92-.59-1.43-.59-.52 0-1.04.2-1.43.59L10.3 9.45l-7.72 7.72c-.78.78-.78 2.05 0 2.83L4 21.41c.39.39.9.59 1.41.59.51 0 1.02-.2 1.41-.59l7.78-7.78 2.81-2.81c.8-.78.8-2.07 0-2.86zM5.41 20L4 18.59l7.72-7.72 1.47 1.35L5.41 20z\"/>\n",
              "  </svg>\n",
              "      </button>\n",
              "      \n",
              "  <style>\n",
              "    .colab-df-container {\n",
              "      display:flex;\n",
              "      flex-wrap:wrap;\n",
              "      gap: 12px;\n",
              "    }\n",
              "\n",
              "    .colab-df-convert {\n",
              "      background-color: #E8F0FE;\n",
              "      border: none;\n",
              "      border-radius: 50%;\n",
              "      cursor: pointer;\n",
              "      display: none;\n",
              "      fill: #1967D2;\n",
              "      height: 32px;\n",
              "      padding: 0 0 0 0;\n",
              "      width: 32px;\n",
              "    }\n",
              "\n",
              "    .colab-df-convert:hover {\n",
              "      background-color: #E2EBFA;\n",
              "      box-shadow: 0px 1px 2px rgba(60, 64, 67, 0.3), 0px 1px 3px 1px rgba(60, 64, 67, 0.15);\n",
              "      fill: #174EA6;\n",
              "    }\n",
              "\n",
              "    [theme=dark] .colab-df-convert {\n",
              "      background-color: #3B4455;\n",
              "      fill: #D2E3FC;\n",
              "    }\n",
              "\n",
              "    [theme=dark] .colab-df-convert:hover {\n",
              "      background-color: #434B5C;\n",
              "      box-shadow: 0px 1px 3px 1px rgba(0, 0, 0, 0.15);\n",
              "      filter: drop-shadow(0px 1px 2px rgba(0, 0, 0, 0.3));\n",
              "      fill: #FFFFFF;\n",
              "    }\n",
              "  </style>\n",
              "\n",
              "      <script>\n",
              "        const buttonEl =\n",
              "          document.querySelector('#df-74ba1013-be66-47a8-9ace-f33f2b23fb33 button.colab-df-convert');\n",
              "        buttonEl.style.display =\n",
              "          google.colab.kernel.accessAllowed ? 'block' : 'none';\n",
              "\n",
              "        async function convertToInteractive(key) {\n",
              "          const element = document.querySelector('#df-74ba1013-be66-47a8-9ace-f33f2b23fb33');\n",
              "          const dataTable =\n",
              "            await google.colab.kernel.invokeFunction('convertToInteractive',\n",
              "                                                     [key], {});\n",
              "          if (!dataTable) return;\n",
              "\n",
              "          const docLinkHtml = 'Like what you see? Visit the ' +\n",
              "            '<a target=\"_blank\" href=https://colab.research.google.com/notebooks/data_table.ipynb>data table notebook</a>'\n",
              "            + ' to learn more about interactive tables.';\n",
              "          element.innerHTML = '';\n",
              "          dataTable['output_type'] = 'display_data';\n",
              "          await google.colab.output.renderOutput(dataTable, element);\n",
              "          const docLink = document.createElement('div');\n",
              "          docLink.innerHTML = docLinkHtml;\n",
              "          element.appendChild(docLink);\n",
              "        }\n",
              "      </script>\n",
              "    </div>\n",
              "  </div>\n",
              "  "
            ]
          },
          "metadata": {},
          "execution_count": 19
        }
      ],
      "source": [
        "sr_pc.head(3)"
      ]
    },
    {
      "cell_type": "code",
      "execution_count": null,
      "metadata": {
        "id": "YIKL3w1bcHD2"
      },
      "outputs": [],
      "source": [
        "#adjustment jumlah column A/B/C/D\n",
        "sr_pc.columns = ['PC Outstanding', 'A','B','C','D']\n",
        "sr_pc[\"PC Outstanding\"] = sr_pc[\"PC Outstanding\"].astype(str) + \"/\" + sr_pc[\"A\"].astype(str) + \"/\" + sr_pc[\"B\"].astype(str) + \"/\" + sr_pc[\"C\"].astype(str) + \"/\" + sr_pc[\"D\"].astype(str)\n",
        "sr_pc = sr_pc.drop(columns=['A','B','C','D'])\n",
        "\n",
        "#sr_pc.columns = ['PC Outstanding', 'A','B','C']\n",
        "#sr_pc[\"PC Outstanding\"] = sr_pc[\"PC Outstanding\"].astype(str) + \"/\" + sr_pc[\"A\"].astype(str) + \"/\" + sr_pc[\"B\"].astype(str) + \"/\" + sr_pc[\"C\"].astype(str)\n",
        "#sr_pc = sr_pc.drop(columns=['A','B','C'])"
      ]
    },
    {
      "cell_type": "markdown",
      "metadata": {
        "id": "NX5wmtkWDu2h"
      },
      "source": [
        "##4. Merge Certificate + SSO + Summary Report"
      ]
    },
    {
      "cell_type": "code",
      "execution_count": null,
      "metadata": {
        "id": "bXMg96p4whxs"
      },
      "outputs": [],
      "source": [
        "# merge cc_pc\n",
        "cc_pc = pd.merge(sr_cc, sr_pc, left_on =\"Sub System No\", right_on=\"Sub System No\" , how=\"outer\")\n",
        "# perlu ada fungsi untuk cleaning /nan/\n",
        "cc_pc['CC Outstanding'] = cc_pc['CC Outstanding'].str.replace(r'nan[/]','', regex=True).str.replace(r'/nan','', regex=True)\n",
        "cc_pc['PC Outstanding'] = cc_pc['PC Outstanding'].str.replace(r'nan[/]','', regex=True).str.replace(r'/nan','', regex=True)"
      ]
    },
    {
      "cell_type": "code",
      "execution_count": null,
      "metadata": {
        "id": "J3QGqIN8_gve"
      },
      "outputs": [],
      "source": [
        "# Merge dengan data system owner sert_so dengan sr_pc\n",
        "sert_sso = pd.merge(sso, cc_pc, left_on =\"subsystem\", right_on=\"Sub System No\" , how=\"inner\") # untuk menampilkan yg remaining saja\n",
        "#sert_sso = pd.merge(sso, cc_pc, left_on =\"subsystem\", right_on=\"Sub System No\" , how=\"left\") # untuk semua list agar masuk"
      ]
    },
    {
      "cell_type": "code",
      "source": [
        "sert_sso.head()"
      ],
      "metadata": {
        "colab": {
          "base_uri": "https://localhost:8080/",
          "height": 206
        },
        "id": "LxFYlgJzgxX1",
        "outputId": "b20af996-9aad-42f4-8a74-e78cbc1647af"
      },
      "execution_count": null,
      "outputs": [
        {
          "output_type": "execute_result",
          "data": {
            "text/plain": [
              "  subsystem                                     subsystem desc  system owner  \\\n",
              "0    068-01                              Main Control Building        Yuniar   \n",
              "1    068-08                   Substation at Sales Gas Metering  Andre Wisoyo   \n",
              "2    068-09                                    Guard House GPF        Yuniar   \n",
              "3    068-10  Guard House, Security Post Gayam Public Road J...  Andre Wisoyo   \n",
              "4    068-11                                 Reception Building  Andre Wisoyo   \n",
              "\n",
              "  CC Outstanding PC Outstanding  \n",
              "0            C:1            C:1  \n",
              "1            NaN            C:1  \n",
              "2            C:4            C:2  \n",
              "3            C:1            C:1  \n",
              "4            C:3            C:1  "
            ],
            "text/html": [
              "\n",
              "  <div id=\"df-e568d62e-35a6-4c1b-a2ea-c2e3ed7810c8\">\n",
              "    <div class=\"colab-df-container\">\n",
              "      <div>\n",
              "<style scoped>\n",
              "    .dataframe tbody tr th:only-of-type {\n",
              "        vertical-align: middle;\n",
              "    }\n",
              "\n",
              "    .dataframe tbody tr th {\n",
              "        vertical-align: top;\n",
              "    }\n",
              "\n",
              "    .dataframe thead th {\n",
              "        text-align: right;\n",
              "    }\n",
              "</style>\n",
              "<table border=\"1\" class=\"dataframe\">\n",
              "  <thead>\n",
              "    <tr style=\"text-align: right;\">\n",
              "      <th></th>\n",
              "      <th>subsystem</th>\n",
              "      <th>subsystem desc</th>\n",
              "      <th>system owner</th>\n",
              "      <th>CC Outstanding</th>\n",
              "      <th>PC Outstanding</th>\n",
              "    </tr>\n",
              "  </thead>\n",
              "  <tbody>\n",
              "    <tr>\n",
              "      <th>0</th>\n",
              "      <td>068-01</td>\n",
              "      <td>Main Control Building</td>\n",
              "      <td>Yuniar</td>\n",
              "      <td>C:1</td>\n",
              "      <td>C:1</td>\n",
              "    </tr>\n",
              "    <tr>\n",
              "      <th>1</th>\n",
              "      <td>068-08</td>\n",
              "      <td>Substation at Sales Gas Metering</td>\n",
              "      <td>Andre Wisoyo</td>\n",
              "      <td>NaN</td>\n",
              "      <td>C:1</td>\n",
              "    </tr>\n",
              "    <tr>\n",
              "      <th>2</th>\n",
              "      <td>068-09</td>\n",
              "      <td>Guard House GPF</td>\n",
              "      <td>Yuniar</td>\n",
              "      <td>C:4</td>\n",
              "      <td>C:2</td>\n",
              "    </tr>\n",
              "    <tr>\n",
              "      <th>3</th>\n",
              "      <td>068-10</td>\n",
              "      <td>Guard House, Security Post Gayam Public Road J...</td>\n",
              "      <td>Andre Wisoyo</td>\n",
              "      <td>C:1</td>\n",
              "      <td>C:1</td>\n",
              "    </tr>\n",
              "    <tr>\n",
              "      <th>4</th>\n",
              "      <td>068-11</td>\n",
              "      <td>Reception Building</td>\n",
              "      <td>Andre Wisoyo</td>\n",
              "      <td>C:3</td>\n",
              "      <td>C:1</td>\n",
              "    </tr>\n",
              "  </tbody>\n",
              "</table>\n",
              "</div>\n",
              "      <button class=\"colab-df-convert\" onclick=\"convertToInteractive('df-e568d62e-35a6-4c1b-a2ea-c2e3ed7810c8')\"\n",
              "              title=\"Convert this dataframe to an interactive table.\"\n",
              "              style=\"display:none;\">\n",
              "        \n",
              "  <svg xmlns=\"http://www.w3.org/2000/svg\" height=\"24px\"viewBox=\"0 0 24 24\"\n",
              "       width=\"24px\">\n",
              "    <path d=\"M0 0h24v24H0V0z\" fill=\"none\"/>\n",
              "    <path d=\"M18.56 5.44l.94 2.06.94-2.06 2.06-.94-2.06-.94-.94-2.06-.94 2.06-2.06.94zm-11 1L8.5 8.5l.94-2.06 2.06-.94-2.06-.94L8.5 2.5l-.94 2.06-2.06.94zm10 10l.94 2.06.94-2.06 2.06-.94-2.06-.94-.94-2.06-.94 2.06-2.06.94z\"/><path d=\"M17.41 7.96l-1.37-1.37c-.4-.4-.92-.59-1.43-.59-.52 0-1.04.2-1.43.59L10.3 9.45l-7.72 7.72c-.78.78-.78 2.05 0 2.83L4 21.41c.39.39.9.59 1.41.59.51 0 1.02-.2 1.41-.59l7.78-7.78 2.81-2.81c.8-.78.8-2.07 0-2.86zM5.41 20L4 18.59l7.72-7.72 1.47 1.35L5.41 20z\"/>\n",
              "  </svg>\n",
              "      </button>\n",
              "      \n",
              "  <style>\n",
              "    .colab-df-container {\n",
              "      display:flex;\n",
              "      flex-wrap:wrap;\n",
              "      gap: 12px;\n",
              "    }\n",
              "\n",
              "    .colab-df-convert {\n",
              "      background-color: #E8F0FE;\n",
              "      border: none;\n",
              "      border-radius: 50%;\n",
              "      cursor: pointer;\n",
              "      display: none;\n",
              "      fill: #1967D2;\n",
              "      height: 32px;\n",
              "      padding: 0 0 0 0;\n",
              "      width: 32px;\n",
              "    }\n",
              "\n",
              "    .colab-df-convert:hover {\n",
              "      background-color: #E2EBFA;\n",
              "      box-shadow: 0px 1px 2px rgba(60, 64, 67, 0.3), 0px 1px 3px 1px rgba(60, 64, 67, 0.15);\n",
              "      fill: #174EA6;\n",
              "    }\n",
              "\n",
              "    [theme=dark] .colab-df-convert {\n",
              "      background-color: #3B4455;\n",
              "      fill: #D2E3FC;\n",
              "    }\n",
              "\n",
              "    [theme=dark] .colab-df-convert:hover {\n",
              "      background-color: #434B5C;\n",
              "      box-shadow: 0px 1px 3px 1px rgba(0, 0, 0, 0.15);\n",
              "      filter: drop-shadow(0px 1px 2px rgba(0, 0, 0, 0.3));\n",
              "      fill: #FFFFFF;\n",
              "    }\n",
              "  </style>\n",
              "\n",
              "      <script>\n",
              "        const buttonEl =\n",
              "          document.querySelector('#df-e568d62e-35a6-4c1b-a2ea-c2e3ed7810c8 button.colab-df-convert');\n",
              "        buttonEl.style.display =\n",
              "          google.colab.kernel.accessAllowed ? 'block' : 'none';\n",
              "\n",
              "        async function convertToInteractive(key) {\n",
              "          const element = document.querySelector('#df-e568d62e-35a6-4c1b-a2ea-c2e3ed7810c8');\n",
              "          const dataTable =\n",
              "            await google.colab.kernel.invokeFunction('convertToInteractive',\n",
              "                                                     [key], {});\n",
              "          if (!dataTable) return;\n",
              "\n",
              "          const docLinkHtml = 'Like what you see? Visit the ' +\n",
              "            '<a target=\"_blank\" href=https://colab.research.google.com/notebooks/data_table.ipynb>data table notebook</a>'\n",
              "            + ' to learn more about interactive tables.';\n",
              "          element.innerHTML = '';\n",
              "          dataTable['output_type'] = 'display_data';\n",
              "          await google.colab.output.renderOutput(dataTable, element);\n",
              "          const docLink = document.createElement('div');\n",
              "          docLink.innerHTML = docLinkHtml;\n",
              "          element.appendChild(docLink);\n",
              "        }\n",
              "      </script>\n",
              "    </div>\n",
              "  </div>\n",
              "  "
            ]
          },
          "metadata": {},
          "execution_count": 25
        }
      ]
    },
    {
      "cell_type": "markdown",
      "metadata": {
        "id": "SrWxQ3pVRKmK"
      },
      "source": [
        "#5. Connect to PunchList Data (cert+sso+summary report + punch)"
      ]
    },
    {
      "cell_type": "code",
      "execution_count": null,
      "metadata": {
        "id": "hP7R5O3YvwJM"
      },
      "outputs": [],
      "source": [
        "#pl = read_data(url_pl,'PL')"
      ]
    },
    {
      "cell_type": "code",
      "execution_count": null,
      "metadata": {
        "id": "EuqjDFUMOMVg"
      },
      "outputs": [],
      "source": [
        "# select only useful column\n",
        "pl = pl[['Sub System No','Discipline','Category','Punchlist No','Punchlist Description','Status','Phase','Raised By']] \n",
        "pl = pl.loc[pl['Status']=='Outstanding'].drop(columns=['Status']) # hemat data yg outstanding saja yg di olah\n",
        "\n",
        "#membuat buffer percabangan untuk di buat table dedicated dalam worksheet pl_A dan pl_B\n",
        "pl_a = pl.loc[pl['Category'].isin(['A'])]\n",
        "pl_b = pl.loc[pl['Category'].isin(['B'])]\n",
        "pl_c = pl.loc[pl['Category'].isin(['C'])]\n",
        "\n",
        "pl_ab = pl.loc[pl['Category'].isin(['A','B'])]   # saat include C, line ini akan di escape\n",
        "\n"
      ]
    },
    {
      "cell_type": "code",
      "execution_count": null,
      "metadata": {
        "id": "-2GsZnipK2QD"
      },
      "outputs": [],
      "source": [
        "# Menghitung jumlah punch saja\n",
        "pl_ab = pl_ab.groupby(['Sub System No','Discipline','Category'])['Punchlist No'].count().reset_index(name=\"jumlah\")\n",
        "\n",
        "# Combine text Discipline/Category/Jumlah C:(B=4)\n",
        "pl_ab[\"Discipline\"] = pl_ab[\"Discipline\"].astype(str) + \":(\" + pl_ab[\"Category\"].astype(str) + \"=\" + pl_ab[\"jumlah\"].astype(str) + \")\"\n",
        "\n",
        "pl_ab = pl_ab.drop(columns=['Category','jumlah'])\n",
        "pl_ab = pl_ab.set_index('Sub System No')\n",
        "\n",
        "# combine value as string ref\n",
        "pl_ab = pl_ab.assign(labels = pl_ab.groupby(level = 'Sub System No').cumcount()).groupby([pl_ab.index,'labels']).first().unstack('labels').sort_index(axis =1,level = 1).droplevel(1,axis = 1)"
      ]
    },
    {
      "cell_type": "code",
      "execution_count": null,
      "metadata": {
        "id": "CeIdYiaKK8XJ",
        "colab": {
          "base_uri": "https://localhost:8080/",
          "height": 206
        },
        "outputId": "7b0cfbe6-2edb-4007-f882-029c91ef8a97"
      },
      "outputs": [
        {
          "output_type": "execute_result",
          "data": {
            "text/plain": [
              "              Discipline Discipline Discipline Discipline Discipline  \\\n",
              "Sub System No                                                          \n",
              "520-03           L:(A=1)        NaN        NaN        NaN        NaN   \n",
              "492-14           S:(B=2)        NaN        NaN        NaN        NaN   \n",
              "063-21           C:(A=6)        NaN        NaN        NaN        NaN   \n",
              "835-12           T:(A=2)        NaN        NaN        NaN        NaN   \n",
              "\n",
              "              Discipline Discipline  \n",
              "Sub System No                        \n",
              "520-03               NaN        NaN  \n",
              "492-14               NaN        NaN  \n",
              "063-21               NaN        NaN  \n",
              "835-12               NaN        NaN  "
            ],
            "text/html": [
              "\n",
              "  <div id=\"df-86d80ba6-00d2-478b-88a8-db29cae26379\">\n",
              "    <div class=\"colab-df-container\">\n",
              "      <div>\n",
              "<style scoped>\n",
              "    .dataframe tbody tr th:only-of-type {\n",
              "        vertical-align: middle;\n",
              "    }\n",
              "\n",
              "    .dataframe tbody tr th {\n",
              "        vertical-align: top;\n",
              "    }\n",
              "\n",
              "    .dataframe thead th {\n",
              "        text-align: right;\n",
              "    }\n",
              "</style>\n",
              "<table border=\"1\" class=\"dataframe\">\n",
              "  <thead>\n",
              "    <tr style=\"text-align: right;\">\n",
              "      <th></th>\n",
              "      <th>Discipline</th>\n",
              "      <th>Discipline</th>\n",
              "      <th>Discipline</th>\n",
              "      <th>Discipline</th>\n",
              "      <th>Discipline</th>\n",
              "      <th>Discipline</th>\n",
              "      <th>Discipline</th>\n",
              "    </tr>\n",
              "    <tr>\n",
              "      <th>Sub System No</th>\n",
              "      <th></th>\n",
              "      <th></th>\n",
              "      <th></th>\n",
              "      <th></th>\n",
              "      <th></th>\n",
              "      <th></th>\n",
              "      <th></th>\n",
              "    </tr>\n",
              "  </thead>\n",
              "  <tbody>\n",
              "    <tr>\n",
              "      <th>520-03</th>\n",
              "      <td>L:(A=1)</td>\n",
              "      <td>NaN</td>\n",
              "      <td>NaN</td>\n",
              "      <td>NaN</td>\n",
              "      <td>NaN</td>\n",
              "      <td>NaN</td>\n",
              "      <td>NaN</td>\n",
              "    </tr>\n",
              "    <tr>\n",
              "      <th>492-14</th>\n",
              "      <td>S:(B=2)</td>\n",
              "      <td>NaN</td>\n",
              "      <td>NaN</td>\n",
              "      <td>NaN</td>\n",
              "      <td>NaN</td>\n",
              "      <td>NaN</td>\n",
              "      <td>NaN</td>\n",
              "    </tr>\n",
              "    <tr>\n",
              "      <th>063-21</th>\n",
              "      <td>C:(A=6)</td>\n",
              "      <td>NaN</td>\n",
              "      <td>NaN</td>\n",
              "      <td>NaN</td>\n",
              "      <td>NaN</td>\n",
              "      <td>NaN</td>\n",
              "      <td>NaN</td>\n",
              "    </tr>\n",
              "    <tr>\n",
              "      <th>835-12</th>\n",
              "      <td>T:(A=2)</td>\n",
              "      <td>NaN</td>\n",
              "      <td>NaN</td>\n",
              "      <td>NaN</td>\n",
              "      <td>NaN</td>\n",
              "      <td>NaN</td>\n",
              "      <td>NaN</td>\n",
              "    </tr>\n",
              "  </tbody>\n",
              "</table>\n",
              "</div>\n",
              "      <button class=\"colab-df-convert\" onclick=\"convertToInteractive('df-86d80ba6-00d2-478b-88a8-db29cae26379')\"\n",
              "              title=\"Convert this dataframe to an interactive table.\"\n",
              "              style=\"display:none;\">\n",
              "        \n",
              "  <svg xmlns=\"http://www.w3.org/2000/svg\" height=\"24px\"viewBox=\"0 0 24 24\"\n",
              "       width=\"24px\">\n",
              "    <path d=\"M0 0h24v24H0V0z\" fill=\"none\"/>\n",
              "    <path d=\"M18.56 5.44l.94 2.06.94-2.06 2.06-.94-2.06-.94-.94-2.06-.94 2.06-2.06.94zm-11 1L8.5 8.5l.94-2.06 2.06-.94-2.06-.94L8.5 2.5l-.94 2.06-2.06.94zm10 10l.94 2.06.94-2.06 2.06-.94-2.06-.94-.94-2.06-.94 2.06-2.06.94z\"/><path d=\"M17.41 7.96l-1.37-1.37c-.4-.4-.92-.59-1.43-.59-.52 0-1.04.2-1.43.59L10.3 9.45l-7.72 7.72c-.78.78-.78 2.05 0 2.83L4 21.41c.39.39.9.59 1.41.59.51 0 1.02-.2 1.41-.59l7.78-7.78 2.81-2.81c.8-.78.8-2.07 0-2.86zM5.41 20L4 18.59l7.72-7.72 1.47 1.35L5.41 20z\"/>\n",
              "  </svg>\n",
              "      </button>\n",
              "      \n",
              "  <style>\n",
              "    .colab-df-container {\n",
              "      display:flex;\n",
              "      flex-wrap:wrap;\n",
              "      gap: 12px;\n",
              "    }\n",
              "\n",
              "    .colab-df-convert {\n",
              "      background-color: #E8F0FE;\n",
              "      border: none;\n",
              "      border-radius: 50%;\n",
              "      cursor: pointer;\n",
              "      display: none;\n",
              "      fill: #1967D2;\n",
              "      height: 32px;\n",
              "      padding: 0 0 0 0;\n",
              "      width: 32px;\n",
              "    }\n",
              "\n",
              "    .colab-df-convert:hover {\n",
              "      background-color: #E2EBFA;\n",
              "      box-shadow: 0px 1px 2px rgba(60, 64, 67, 0.3), 0px 1px 3px 1px rgba(60, 64, 67, 0.15);\n",
              "      fill: #174EA6;\n",
              "    }\n",
              "\n",
              "    [theme=dark] .colab-df-convert {\n",
              "      background-color: #3B4455;\n",
              "      fill: #D2E3FC;\n",
              "    }\n",
              "\n",
              "    [theme=dark] .colab-df-convert:hover {\n",
              "      background-color: #434B5C;\n",
              "      box-shadow: 0px 1px 3px 1px rgba(0, 0, 0, 0.15);\n",
              "      filter: drop-shadow(0px 1px 2px rgba(0, 0, 0, 0.3));\n",
              "      fill: #FFFFFF;\n",
              "    }\n",
              "  </style>\n",
              "\n",
              "      <script>\n",
              "        const buttonEl =\n",
              "          document.querySelector('#df-86d80ba6-00d2-478b-88a8-db29cae26379 button.colab-df-convert');\n",
              "        buttonEl.style.display =\n",
              "          google.colab.kernel.accessAllowed ? 'block' : 'none';\n",
              "\n",
              "        async function convertToInteractive(key) {\n",
              "          const element = document.querySelector('#df-86d80ba6-00d2-478b-88a8-db29cae26379');\n",
              "          const dataTable =\n",
              "            await google.colab.kernel.invokeFunction('convertToInteractive',\n",
              "                                                     [key], {});\n",
              "          if (!dataTable) return;\n",
              "\n",
              "          const docLinkHtml = 'Like what you see? Visit the ' +\n",
              "            '<a target=\"_blank\" href=https://colab.research.google.com/notebooks/data_table.ipynb>data table notebook</a>'\n",
              "            + ' to learn more about interactive tables.';\n",
              "          element.innerHTML = '';\n",
              "          dataTable['output_type'] = 'display_data';\n",
              "          await google.colab.output.renderOutput(dataTable, element);\n",
              "          const docLink = document.createElement('div');\n",
              "          docLink.innerHTML = docLinkHtml;\n",
              "          element.appendChild(docLink);\n",
              "        }\n",
              "      </script>\n",
              "    </div>\n",
              "  </div>\n",
              "  "
            ]
          },
          "metadata": {},
          "execution_count": 28
        }
      ],
      "source": [
        "pl_ab.sample(4)"
      ]
    },
    {
      "cell_type": "code",
      "execution_count": null,
      "metadata": {
        "id": "Asd2RGkZcbfF"
      },
      "outputs": [],
      "source": [
        "#pl_ab.columns = ['Punch', 'A','B','C','D','E'] \n",
        "pl_ab.columns = ['Punch', 'A','B','C','D','E','F'] # jika ada error jumlah element\n",
        "#pl_ab.columns = ['Punch', 'A','B','C','D','E','F','G','H','I']\n",
        "\n",
        "#pl_ab[\"Punch\"] = pl_ab[\"Punch\"].astype(str) + \"/\" + pl_ab[\"A\"].astype(str) + \"/\" + pl_ab[\"B\"].astype(str) + \"/\" + pl_ab[\"C\"].astype(str) + \"/\" + pl_ab[\"D\"].astype(str) + \"/\" + pl_ab[\"E\"].astype(str)\n",
        "pl_ab[\"Punch\"] = pl_ab[\"Punch\"].astype(str) + \"/\" + pl_ab[\"A\"].astype(str) + \"/\" + pl_ab[\"B\"].astype(str) + \"/\" + pl_ab[\"C\"].astype(str) + \"/\" + pl_ab[\"D\"].astype(str) + \"/\" + pl_ab[\"E\"].astype(str) + \"/\" + pl_ab[\"F\"].astype(str)\n",
        "#pl_ab[\"Punch\"] = pl_ab[\"Punch\"].astype(str) + \"/\" + pl_ab[\"A\"].astype(str) + \"/\" + pl_ab[\"B\"].astype(str) + \"/\" + pl_ab[\"C\"].astype(str) + \"/\" + pl_ab[\"D\"].astype(str) + \"/\" + pl_ab[\"E\"].astype(str) + \"/\" + pl_ab[\"F\"].astype(str) + \"/\" + pl_ab[\"G\"].astype(str)\n",
        "\n",
        "pl_ab = pl_ab.drop(columns=['A','B','C','D','E'])# jika ada error jumlah element\n",
        "#pl_ab = pl_ab.drop(columns=['A','B','C','D','E','F'])# jika ada error jumlah element\n",
        "#pl_ab = pl_ab.drop(columns=['A','B','C','D','E','F','G','H','I'])\n",
        "\n",
        "pl_ab['Punch'] = pl_ab['Punch'].str.replace(r'nan[/]','', regex=True).str.replace(r'/nan','', regex=True)\n"
      ]
    },
    {
      "cell_type": "code",
      "execution_count": null,
      "metadata": {
        "id": "N5wLdCeJ4uXZ"
      },
      "outputs": [],
      "source": [
        "# Merge dengan data subsystem owner sertificate sert_sso\n",
        "sert_sso = pd.merge(sert_sso, pl_ab, left_on =\"subsystem\", right_on=\"Sub System No\" , how=\"left\")"
      ]
    },
    {
      "cell_type": "code",
      "execution_count": null,
      "metadata": {
        "id": "uBVMDKwd5mWh"
      },
      "outputs": [],
      "source": [
        "# save to gsheet diworksheet sc_workfront\n",
        "#write_data(url_sc62, sert_sso, 'sc_workfront')\n"
      ]
    },
    {
      "cell_type": "markdown",
      "metadata": {
        "id": "6om1S5xLmVpz"
      },
      "source": [
        "#6. Connect to System Priority untuk dimasukan dalam tabel prioritas (cert+sso+summary report + punch + tol)"
      ]
    },
    {
      "cell_type": "code",
      "execution_count": null,
      "metadata": {
        "id": "dZGrcFf_PXU3"
      },
      "outputs": [],
      "source": [
        "# Mengambil data dari SC62 worksheet priority dan clean up\n",
        "priority = read_data(url_sc62,'priority')\n",
        "\n",
        "# select only yg tol yes & column subsystem/subsystem desc/Tol\n",
        "phase_2 = priority[['subsystem','subsystem desc','phase_2']]\n",
        "phase_2 = phase_2.loc[phase_2['phase_2']=='yes']\n",
        "\n",
        "# merge dengan table di sert_sso (worksheet sc_workfront)\n",
        "sert_ssox = pd.merge(sert_sso, phase_2, left_on =\"subsystem\", right_on=\"subsystem\" , how=\"left\")\n",
        "# reconfigure position column\n",
        "sert_ssox = sert_ssox.reindex(columns=['subsystem','subsystem desc_x', 'Tol','system owner','CC Outstanding','PC Outstanding','Punch']) # letak posisi salah."
      ]
    },
    {
      "cell_type": "code",
      "execution_count": null,
      "metadata": {
        "id": "H1SAkOG_a147",
        "colab": {
          "base_uri": "https://localhost:8080/",
          "height": 143
        },
        "outputId": "5acefe35-142a-4a7d-9d99-0d26ac28c113"
      },
      "outputs": [
        {
          "output_type": "execute_result",
          "data": {
            "text/plain": [
              "0   subsystem                                     subsystem desc phase_2\n",
              "309    241-09                             H2S Recycle Compressor     yes\n",
              "312    242-03                                2nd Stage Membrane      yes\n",
              "313    242-04  Permeate Recycle Compressor Suction Scrubber a...     yes"
            ],
            "text/html": [
              "\n",
              "  <div id=\"df-12662c35-0333-4b81-8559-e70caa6163c6\">\n",
              "    <div class=\"colab-df-container\">\n",
              "      <div>\n",
              "<style scoped>\n",
              "    .dataframe tbody tr th:only-of-type {\n",
              "        vertical-align: middle;\n",
              "    }\n",
              "\n",
              "    .dataframe tbody tr th {\n",
              "        vertical-align: top;\n",
              "    }\n",
              "\n",
              "    .dataframe thead th {\n",
              "        text-align: right;\n",
              "    }\n",
              "</style>\n",
              "<table border=\"1\" class=\"dataframe\">\n",
              "  <thead>\n",
              "    <tr style=\"text-align: right;\">\n",
              "      <th></th>\n",
              "      <th>subsystem</th>\n",
              "      <th>subsystem desc</th>\n",
              "      <th>phase_2</th>\n",
              "    </tr>\n",
              "  </thead>\n",
              "  <tbody>\n",
              "    <tr>\n",
              "      <th>309</th>\n",
              "      <td>241-09</td>\n",
              "      <td>H2S Recycle Compressor</td>\n",
              "      <td>yes</td>\n",
              "    </tr>\n",
              "    <tr>\n",
              "      <th>312</th>\n",
              "      <td>242-03</td>\n",
              "      <td>2nd Stage Membrane</td>\n",
              "      <td>yes</td>\n",
              "    </tr>\n",
              "    <tr>\n",
              "      <th>313</th>\n",
              "      <td>242-04</td>\n",
              "      <td>Permeate Recycle Compressor Suction Scrubber a...</td>\n",
              "      <td>yes</td>\n",
              "    </tr>\n",
              "  </tbody>\n",
              "</table>\n",
              "</div>\n",
              "      <button class=\"colab-df-convert\" onclick=\"convertToInteractive('df-12662c35-0333-4b81-8559-e70caa6163c6')\"\n",
              "              title=\"Convert this dataframe to an interactive table.\"\n",
              "              style=\"display:none;\">\n",
              "        \n",
              "  <svg xmlns=\"http://www.w3.org/2000/svg\" height=\"24px\"viewBox=\"0 0 24 24\"\n",
              "       width=\"24px\">\n",
              "    <path d=\"M0 0h24v24H0V0z\" fill=\"none\"/>\n",
              "    <path d=\"M18.56 5.44l.94 2.06.94-2.06 2.06-.94-2.06-.94-.94-2.06-.94 2.06-2.06.94zm-11 1L8.5 8.5l.94-2.06 2.06-.94-2.06-.94L8.5 2.5l-.94 2.06-2.06.94zm10 10l.94 2.06.94-2.06 2.06-.94-2.06-.94-.94-2.06-.94 2.06-2.06.94z\"/><path d=\"M17.41 7.96l-1.37-1.37c-.4-.4-.92-.59-1.43-.59-.52 0-1.04.2-1.43.59L10.3 9.45l-7.72 7.72c-.78.78-.78 2.05 0 2.83L4 21.41c.39.39.9.59 1.41.59.51 0 1.02-.2 1.41-.59l7.78-7.78 2.81-2.81c.8-.78.8-2.07 0-2.86zM5.41 20L4 18.59l7.72-7.72 1.47 1.35L5.41 20z\"/>\n",
              "  </svg>\n",
              "      </button>\n",
              "      \n",
              "  <style>\n",
              "    .colab-df-container {\n",
              "      display:flex;\n",
              "      flex-wrap:wrap;\n",
              "      gap: 12px;\n",
              "    }\n",
              "\n",
              "    .colab-df-convert {\n",
              "      background-color: #E8F0FE;\n",
              "      border: none;\n",
              "      border-radius: 50%;\n",
              "      cursor: pointer;\n",
              "      display: none;\n",
              "      fill: #1967D2;\n",
              "      height: 32px;\n",
              "      padding: 0 0 0 0;\n",
              "      width: 32px;\n",
              "    }\n",
              "\n",
              "    .colab-df-convert:hover {\n",
              "      background-color: #E2EBFA;\n",
              "      box-shadow: 0px 1px 2px rgba(60, 64, 67, 0.3), 0px 1px 3px 1px rgba(60, 64, 67, 0.15);\n",
              "      fill: #174EA6;\n",
              "    }\n",
              "\n",
              "    [theme=dark] .colab-df-convert {\n",
              "      background-color: #3B4455;\n",
              "      fill: #D2E3FC;\n",
              "    }\n",
              "\n",
              "    [theme=dark] .colab-df-convert:hover {\n",
              "      background-color: #434B5C;\n",
              "      box-shadow: 0px 1px 3px 1px rgba(0, 0, 0, 0.15);\n",
              "      filter: drop-shadow(0px 1px 2px rgba(0, 0, 0, 0.3));\n",
              "      fill: #FFFFFF;\n",
              "    }\n",
              "  </style>\n",
              "\n",
              "      <script>\n",
              "        const buttonEl =\n",
              "          document.querySelector('#df-12662c35-0333-4b81-8559-e70caa6163c6 button.colab-df-convert');\n",
              "        buttonEl.style.display =\n",
              "          google.colab.kernel.accessAllowed ? 'block' : 'none';\n",
              "\n",
              "        async function convertToInteractive(key) {\n",
              "          const element = document.querySelector('#df-12662c35-0333-4b81-8559-e70caa6163c6');\n",
              "          const dataTable =\n",
              "            await google.colab.kernel.invokeFunction('convertToInteractive',\n",
              "                                                     [key], {});\n",
              "          if (!dataTable) return;\n",
              "\n",
              "          const docLinkHtml = 'Like what you see? Visit the ' +\n",
              "            '<a target=\"_blank\" href=https://colab.research.google.com/notebooks/data_table.ipynb>data table notebook</a>'\n",
              "            + ' to learn more about interactive tables.';\n",
              "          element.innerHTML = '';\n",
              "          dataTable['output_type'] = 'display_data';\n",
              "          await google.colab.output.renderOutput(dataTable, element);\n",
              "          const docLink = document.createElement('div');\n",
              "          docLink.innerHTML = docLinkHtml;\n",
              "          element.appendChild(docLink);\n",
              "        }\n",
              "      </script>\n",
              "    </div>\n",
              "  </div>\n",
              "  "
            ]
          },
          "metadata": {},
          "execution_count": 34
        }
      ],
      "source": [
        "phase_2.head(3)"
      ]
    },
    {
      "cell_type": "code",
      "execution_count": null,
      "metadata": {
        "id": "T5PQ6zcgnGHK"
      },
      "outputs": [],
      "source": [
        "'''\n",
        "# membuat tabel sshoc tol\n",
        "shoc_tol = df_tol[['Certificate No','System No','sshoc tol']]\n",
        "\n",
        "#clean table dari blank row\n",
        "nan_value = float(\"NaN\")\n",
        "shoc_tol.replace(\"\", nan_value, inplace=True)\n",
        "shoc_tol.dropna(subset = [\"Certificate No\"], inplace=True)\n",
        "\n",
        "# select yg diperlukan gas in saja\n",
        "shoc_tol = shoc_tol.loc[shoc_tol['sshoc tol']=='yes']\n",
        "\n",
        "# merge SHOC tol dengan status certificate\n",
        "shoc_cert = pd.merge(shoc_tol, sert_so, how=\"left\").drop(columns=['Discipline']).sort_values(by=['Certificate No'])\n",
        "'''"
      ]
    },
    {
      "cell_type": "code",
      "execution_count": null,
      "metadata": {
        "id": "ayemdc2lwmQM"
      },
      "outputs": [],
      "source": [
        "# digabungkan dalam worksheet existing yg sudah ada isinya\n",
        "#write_data(url_sc62, shoc_cert, 'shoc_sert_tol gasin')"
      ]
    },
    {
      "cell_type": "markdown",
      "metadata": {
        "id": "yF3UCb-vqNu_"
      },
      "source": [
        "#7. Connect to Data ITR"
      ]
    },
    {
      "cell_type": "code",
      "execution_count": null,
      "metadata": {
        "id": "xBQMpicziAE2",
        "colab": {
          "base_uri": "https://localhost:8080/",
          "height": 254
        },
        "outputId": "92f69773-817f-4e7c-87bd-bf3a460730ba"
      },
      "outputs": [
        {
          "output_type": "execute_result",
          "data": {
            "text/plain": [
              "              Discipline Discipline Discipline Discipline Discipline  \\\n",
              "Sub System No                                                          \n",
              "009-06               L:1        NaN        NaN        NaN        NaN   \n",
              "062-04               C:6        NaN        NaN        NaN        NaN   \n",
              "063-01               C:4        NaN        NaN        NaN        NaN   \n",
              "\n",
              "              Discipline Discipline Discipline Discipline  \n",
              "Sub System No                                              \n",
              "009-06               NaN        NaN        NaN        NaN  \n",
              "062-04               NaN        NaN        NaN        NaN  \n",
              "063-01               NaN        NaN        NaN        NaN  "
            ],
            "text/html": [
              "\n",
              "  <div id=\"df-545269b4-5ce1-4545-980d-a6e18cfffda5\">\n",
              "    <div class=\"colab-df-container\">\n",
              "      <div>\n",
              "<style scoped>\n",
              "    .dataframe tbody tr th:only-of-type {\n",
              "        vertical-align: middle;\n",
              "    }\n",
              "\n",
              "    .dataframe tbody tr th {\n",
              "        vertical-align: top;\n",
              "    }\n",
              "\n",
              "    .dataframe thead th {\n",
              "        text-align: right;\n",
              "    }\n",
              "</style>\n",
              "<table border=\"1\" class=\"dataframe\">\n",
              "  <thead>\n",
              "    <tr style=\"text-align: right;\">\n",
              "      <th></th>\n",
              "      <th>Discipline</th>\n",
              "      <th>Discipline</th>\n",
              "      <th>Discipline</th>\n",
              "      <th>Discipline</th>\n",
              "      <th>Discipline</th>\n",
              "      <th>Discipline</th>\n",
              "      <th>Discipline</th>\n",
              "      <th>Discipline</th>\n",
              "      <th>Discipline</th>\n",
              "    </tr>\n",
              "    <tr>\n",
              "      <th>Sub System No</th>\n",
              "      <th></th>\n",
              "      <th></th>\n",
              "      <th></th>\n",
              "      <th></th>\n",
              "      <th></th>\n",
              "      <th></th>\n",
              "      <th></th>\n",
              "      <th></th>\n",
              "      <th></th>\n",
              "    </tr>\n",
              "  </thead>\n",
              "  <tbody>\n",
              "    <tr>\n",
              "      <th>009-06</th>\n",
              "      <td>L:1</td>\n",
              "      <td>NaN</td>\n",
              "      <td>NaN</td>\n",
              "      <td>NaN</td>\n",
              "      <td>NaN</td>\n",
              "      <td>NaN</td>\n",
              "      <td>NaN</td>\n",
              "      <td>NaN</td>\n",
              "      <td>NaN</td>\n",
              "    </tr>\n",
              "    <tr>\n",
              "      <th>062-04</th>\n",
              "      <td>C:6</td>\n",
              "      <td>NaN</td>\n",
              "      <td>NaN</td>\n",
              "      <td>NaN</td>\n",
              "      <td>NaN</td>\n",
              "      <td>NaN</td>\n",
              "      <td>NaN</td>\n",
              "      <td>NaN</td>\n",
              "      <td>NaN</td>\n",
              "    </tr>\n",
              "    <tr>\n",
              "      <th>063-01</th>\n",
              "      <td>C:4</td>\n",
              "      <td>NaN</td>\n",
              "      <td>NaN</td>\n",
              "      <td>NaN</td>\n",
              "      <td>NaN</td>\n",
              "      <td>NaN</td>\n",
              "      <td>NaN</td>\n",
              "      <td>NaN</td>\n",
              "      <td>NaN</td>\n",
              "    </tr>\n",
              "  </tbody>\n",
              "</table>\n",
              "</div>\n",
              "      <button class=\"colab-df-convert\" onclick=\"convertToInteractive('df-545269b4-5ce1-4545-980d-a6e18cfffda5')\"\n",
              "              title=\"Convert this dataframe to an interactive table.\"\n",
              "              style=\"display:none;\">\n",
              "        \n",
              "  <svg xmlns=\"http://www.w3.org/2000/svg\" height=\"24px\"viewBox=\"0 0 24 24\"\n",
              "       width=\"24px\">\n",
              "    <path d=\"M0 0h24v24H0V0z\" fill=\"none\"/>\n",
              "    <path d=\"M18.56 5.44l.94 2.06.94-2.06 2.06-.94-2.06-.94-.94-2.06-.94 2.06-2.06.94zm-11 1L8.5 8.5l.94-2.06 2.06-.94-2.06-.94L8.5 2.5l-.94 2.06-2.06.94zm10 10l.94 2.06.94-2.06 2.06-.94-2.06-.94-.94-2.06-.94 2.06-2.06.94z\"/><path d=\"M17.41 7.96l-1.37-1.37c-.4-.4-.92-.59-1.43-.59-.52 0-1.04.2-1.43.59L10.3 9.45l-7.72 7.72c-.78.78-.78 2.05 0 2.83L4 21.41c.39.39.9.59 1.41.59.51 0 1.02-.2 1.41-.59l7.78-7.78 2.81-2.81c.8-.78.8-2.07 0-2.86zM5.41 20L4 18.59l7.72-7.72 1.47 1.35L5.41 20z\"/>\n",
              "  </svg>\n",
              "      </button>\n",
              "      \n",
              "  <style>\n",
              "    .colab-df-container {\n",
              "      display:flex;\n",
              "      flex-wrap:wrap;\n",
              "      gap: 12px;\n",
              "    }\n",
              "\n",
              "    .colab-df-convert {\n",
              "      background-color: #E8F0FE;\n",
              "      border: none;\n",
              "      border-radius: 50%;\n",
              "      cursor: pointer;\n",
              "      display: none;\n",
              "      fill: #1967D2;\n",
              "      height: 32px;\n",
              "      padding: 0 0 0 0;\n",
              "      width: 32px;\n",
              "    }\n",
              "\n",
              "    .colab-df-convert:hover {\n",
              "      background-color: #E2EBFA;\n",
              "      box-shadow: 0px 1px 2px rgba(60, 64, 67, 0.3), 0px 1px 3px 1px rgba(60, 64, 67, 0.15);\n",
              "      fill: #174EA6;\n",
              "    }\n",
              "\n",
              "    [theme=dark] .colab-df-convert {\n",
              "      background-color: #3B4455;\n",
              "      fill: #D2E3FC;\n",
              "    }\n",
              "\n",
              "    [theme=dark] .colab-df-convert:hover {\n",
              "      background-color: #434B5C;\n",
              "      box-shadow: 0px 1px 3px 1px rgba(0, 0, 0, 0.15);\n",
              "      filter: drop-shadow(0px 1px 2px rgba(0, 0, 0, 0.3));\n",
              "      fill: #FFFFFF;\n",
              "    }\n",
              "  </style>\n",
              "\n",
              "      <script>\n",
              "        const buttonEl =\n",
              "          document.querySelector('#df-545269b4-5ce1-4545-980d-a6e18cfffda5 button.colab-df-convert');\n",
              "        buttonEl.style.display =\n",
              "          google.colab.kernel.accessAllowed ? 'block' : 'none';\n",
              "\n",
              "        async function convertToInteractive(key) {\n",
              "          const element = document.querySelector('#df-545269b4-5ce1-4545-980d-a6e18cfffda5');\n",
              "          const dataTable =\n",
              "            await google.colab.kernel.invokeFunction('convertToInteractive',\n",
              "                                                     [key], {});\n",
              "          if (!dataTable) return;\n",
              "\n",
              "          const docLinkHtml = 'Like what you see? Visit the ' +\n",
              "            '<a target=\"_blank\" href=https://colab.research.google.com/notebooks/data_table.ipynb>data table notebook</a>'\n",
              "            + ' to learn more about interactive tables.';\n",
              "          element.innerHTML = '';\n",
              "          dataTable['output_type'] = 'display_data';\n",
              "          await google.colab.output.renderOutput(dataTable, element);\n",
              "          const docLink = document.createElement('div');\n",
              "          docLink.innerHTML = docLinkHtml;\n",
              "          element.appendChild(docLink);\n",
              "        }\n",
              "      </script>\n",
              "    </div>\n",
              "  </div>\n",
              "  "
            ]
          },
          "metadata": {},
          "execution_count": 35
        }
      ],
      "source": [
        "#Ambil data ITR dan clean up\n",
        "itr = itr[['Sub System No','Discipline','Tag No','ITR No','ITR Description','Status']]\n",
        "# ambil hanya yang outstanding\n",
        "itr = itr.loc[(itr['Status']=='Outstanding')]\n",
        "# Membuat buffer percabangan untuk membuat tabel worksheet remaining ITR, utk digunakan nanti\n",
        "itr_show = itr.drop(columns=['Status'])\n",
        "# Menghitung jumlah ITR per subsystem\n",
        "itr = itr.groupby(['Sub System No','Discipline'])['ITR No'].count().reset_index(name=\"jumlah\")\n",
        "\n",
        "# Combine text Discipline/Category/Jumlah C:1\n",
        "itr[\"Discipline\"] = itr[\"Discipline\"].astype(str) + \":\" + itr[\"jumlah\"].astype(str)\n",
        "itr = itr.drop(columns=['jumlah'])\n",
        "itr = itr.set_index('Sub System No')\n",
        "\n",
        "# combine value as string\n",
        "itr = itr.assign(labels = itr.groupby(level = 'Sub System No').cumcount()).groupby([itr.index,'labels']).first().unstack('labels').sort_index(axis =1,level = 1).droplevel(1,axis = 1)\n",
        "itr.head(3)"
      ]
    },
    {
      "cell_type": "code",
      "execution_count": null,
      "metadata": {
        "id": "2ly0veH0jVDb"
      },
      "outputs": [],
      "source": [
        "itr.columns = ['ITR','A','B','C','D','E','F','G','H']\n",
        "\n",
        "itr[\"ITR\"] = itr[\"ITR\"].astype(str) + \"/\" + itr[\"A\"].astype(str) + \"/\" + itr[\"B\"].astype(str) + \"/\" + itr[\"C\"].astype(str) + \"/\" + itr[\"D\"].astype(str) + \"/\" + itr[\"E\"].astype(str) + \"/\" + itr[\"F\"].astype(str) + \"/\" + itr[\"G\"].astype(str) + \"/\" + itr[\"H\"].astype(str)\n",
        "itr = itr.drop(columns=['A','B','C','D','E','F','G','H'])\n",
        "\n",
        "# cleaning /nan/\n",
        "itr['ITR'] = itr['ITR'].str.replace(r'nan[/]','', regex=True).str.replace(r'/nan','', regex=True)"
      ]
    },
    {
      "cell_type": "code",
      "execution_count": null,
      "metadata": {
        "id": "7A0QPmdykDxy"
      },
      "outputs": [],
      "source": [
        "# merge dengan table di sert_sso (worksheet sc_workfront)\n",
        "sert_ssox2 = pd.merge(sert_ssox, itr, left_on =\"subsystem\", right_on=\"Sub System No\" , how=\"left\")\n",
        "sert_ssox2 = sert_ssox2.reindex(columns=['subsystem','subsystem desc_x', 'Tol','system owner', 'ITR', 'CC Outstanding','PC Outstanding','Punch'])"
      ]
    },
    {
      "cell_type": "code",
      "execution_count": null,
      "metadata": {
        "id": "8K0rlLuiVC3h"
      },
      "outputs": [],
      "source": [
        "# save to gsheet diworksheet sc_workfront\n",
        "write_data(url_sc62, sert_ssox2, 'sc_workfront')"
      ]
    },
    {
      "cell_type": "markdown",
      "metadata": {
        "id": "roeRQcCKvKsr"
      },
      "source": [
        "#8. Refresh Outstanding ITR/PC/CC/ITR"
      ]
    },
    {
      "cell_type": "code",
      "execution_count": null,
      "metadata": {
        "id": "ujERtT0-qywQ"
      },
      "outputs": [],
      "source": [
        "# merge dengan table phase_2 \n",
        "itr_show = pd.merge(itr_show, phase_2 , left_on =\"Sub System No\", right_on=\"subsystem\" , how=\"left\")\n",
        "# hanya tunjukan yg ada dalam jalur phase_2 \n",
        "itr_show = itr_show.loc[(itr_show['phase_2']=='yes')]\n",
        "itr_show = itr_show.drop(columns=[\"subsystem\"])\n",
        "\n",
        "# Update worksheet remaining ITR \n",
        "write_data(url_sc62, itr_show, 'itr')"
      ]
    },
    {
      "cell_type": "code",
      "execution_count": null,
      "metadata": {
        "id": "Km9y6dOdxlfW"
      },
      "outputs": [],
      "source": [
        "#Ambil data CC dan clean up\n",
        "cc = cc[['Sub System No','Discipline','Tag No','Checksheet Description','Status']]\n",
        "\n",
        "# ambil hanya yang outstanding\n",
        "cc = cc.loc[(cc['Status']=='Outstanding')]\n",
        "cc = cc.drop(columns=['Status'])\n",
        "\n",
        "# merge dengan table phase_2\n",
        "cc = pd.merge(cc, phase_2, left_on =\"Sub System No\", right_on=\"subsystem\" , how=\"left\")\n",
        "# hanya tunjukan yg ada dalam jalur phase_2\n",
        "cc = cc.loc[(cc['phase_2']=='yes')]\n",
        "cc = cc.drop(columns=[\"subsystem\"])\n",
        "\n",
        "# Update worksheet remaining CC\n",
        "write_data(url_sc62, cc, 'cc')"
      ]
    },
    {
      "cell_type": "code",
      "execution_count": null,
      "metadata": {
        "id": "sOxdKjz7xYhb"
      },
      "outputs": [],
      "source": [
        "# merge dengan table phase_2\n",
        "pl_a = pd.merge(pl_a, phase_2, left_on =\"Sub System No\", right_on=\"subsystem\" , how=\"left\")\n",
        "# hanya tunjukan yg ada dalam jalur phase_2\n",
        "pl_a = pl_a.loc[(pl_a['phase_2']=='yes')]\n",
        "pl_a = pl_a.drop(columns=[\"subsystem\"])\n",
        "\n",
        "# Update worksheet remaining PL-A\n",
        "write_data(url_sc62, pl_a, 'pl_A')"
      ]
    },
    {
      "cell_type": "code",
      "execution_count": null,
      "metadata": {
        "id": "TshreR1mxy3V"
      },
      "outputs": [],
      "source": [
        "#Ambil data PC dan clean up\n",
        "pc = pc[['Sub System No','Discipline','Tag No','Checksheet No','Checksheet Description','Status']]\n",
        "\n",
        "# ambil hanya yang outstanding\n",
        "pc = pc.loc[(pc['Status']=='Outstanding')]\n",
        "pc = pc.drop(columns=['Status'])\n",
        "\n",
        "# merge dengan table phase_2\n",
        "pc = pd.merge(pc, phase_2, left_on =\"Sub System No\", right_on=\"subsystem\" , how=\"left\")\n",
        "# hanya tunjukan yg ada dalam jalur phase_2\n",
        "pc = pc.loc[(pc['phase_2']=='yes')]\n",
        "pc = pc.drop(columns=[\"subsystem\"])\n",
        "\n",
        "# Update worksheet remaining PC # di pindahkan ke bawah\n",
        "write_data(url_sc62, pc, 'pc')"
      ]
    },
    {
      "cell_type": "code",
      "execution_count": null,
      "metadata": {
        "id": "bw3ipaf6x1AT"
      },
      "outputs": [],
      "source": [
        "# merge dengan table phase_2\n",
        "pl_b = pd.merge(pl_b, phase_2, left_on =\"Sub System No\", right_on=\"subsystem\" , how=\"left\")\n",
        "# hanya tunjukan yg ada dalam jalur phase_2\n",
        "pl_b = pl_b.loc[(pl_b['phase_2']=='yes')]\n",
        "pl_b = pl_b.drop(columns=[\"subsystem\"])\n",
        "\n",
        "# Update worksheet remaining PL-B\n",
        "write_data(url_sc62, pl_b, 'pl_B')"
      ]
    },
    {
      "cell_type": "markdown",
      "metadata": {
        "id": "-lmJNWBYlkjo"
      },
      "source": [
        "#9. Connect to Transmital SC17 (cc dan pc)"
      ]
    },
    {
      "cell_type": "code",
      "execution_count": null,
      "metadata": {
        "id": "xNr-VOgelube"
      },
      "outputs": [],
      "source": [
        "# terhubung dengan SC17\n",
        "url_sc17 = 'https://docs.google.com/spreadsheets/d/1nrdtZOiToC_kW95a8rKR_-J8hH5Io5Rp_JG2a8S2T3o/edit#gid=1274212197'\n",
        "\n",
        "sc17_cc = read_data(url_sc17,'CS Monitoring ')\n",
        "sc17_pc = read_data(url_sc17,'PC Monitoring')\n",
        "sc17_cert = read_data(url_sc17,'Certificate Monitoring')"
      ]
    },
    {
      "cell_type": "code",
      "execution_count": null,
      "metadata": {
        "id": "CeXP3zDxxY9D"
      },
      "outputs": [],
      "source": [
        "#ambil data transmital PC yg diperlukan dan clean up\n",
        "sc17_cc = sc17_cc[['Subsystem','Date','   Discipline','Tag No','Checksheet No','Status','Remarks','Transmital No']]\n",
        "#merge data\n",
        "cc_x1 = pd.merge(cc, sc17_cc, left_on =\"Tag No\", right_on=\"Tag No\" , how=\"left\")\n",
        "\n",
        "#di atur kolomnya\n",
        "cc_x1 = cc_x1.reindex(columns=['Sub System No','Discipline', 'Tag No','Checksheet Description', 'subsystem desc','Tol','Date','Status','Remarks','Transmital No'])\n",
        "cc_x1 = cc_x1.rename(columns={\"Date\": \"SC17_submit Date\", \"Remarks\": \"SC17 Status\"})\n",
        "\n",
        "# write cc\n",
        "#write_data(url_sc62, cc_x1, 'cc')"
      ]
    },
    {
      "cell_type": "code",
      "execution_count": null,
      "metadata": {
        "id": "k9Dro3jru91Z"
      },
      "outputs": [],
      "source": [
        "#ambil data transmital PC yg diperlukan dan clean up\n",
        "sc17_pc = sc17_pc[['Subsystem No.','Date','Discipline','Tag No.','Checksheet No','Checksheet Description','Status','Remarks','Transmital No']]\n",
        "\n",
        "#merge data\n",
        "#pc_x1 = pd.merge(pc, sc17_pc, left_on =\"Tag No\", right_on=\"Tag No.\" , how=\"left\") # ada merging yg kurang pas, karena tag number tidak unique di SC17\n",
        "pc_x1 = pd.merge(pc, sc17_pc, left_on =[\"Tag No\",\"Checksheet No\"], right_on=[\"Tag No.\",\"Checksheet No\"] , how=\"left\") # absorbing comment/finding bug p Adang, perlu check 2 column\n",
        "\n",
        "\n",
        "#di atur kolomnya\n",
        "pc_x1 = pc_x1.reindex(columns=['Sub System No','Discipline_x', 'Tag No','Checksheet No', 'Checksheet Description_x',\n",
        "'Tol','Date','Remarks','Transmital No'])\n",
        "pc_x1 = pc_x1.rename(columns={\"Date\": \"SC17_submit Date\", \"Remarks\": \"SC17 Status\"})\n",
        "\n",
        "# write pc\n",
        "write_data(url_sc62, pc_x1, 'pc')"
      ]
    },
    {
      "cell_type": "code",
      "execution_count": null,
      "metadata": {
        "id": "w9kR54hu3H1r"
      },
      "outputs": [],
      "source": [
        "sc17_cert = read_data(url_sc17,'Certificate Monitoring')"
      ]
    },
    {
      "cell_type": "code",
      "execution_count": null,
      "metadata": {
        "id": "lwY85OG_1FLs"
      },
      "outputs": [],
      "source": [
        "#ambil data transmital cert yg diperlukan dan clean up\n",
        "#sc17_cert = sc17_cert[['System/sub-system','Date','Discipline','Certificate','Re-submit','Remarks','Transmital No']]\n",
        "sc17_cert = sc17_cert[['Sub-System No.','Date','Discipline','Certificate','Submit','Remarks','Transmital No']]"
      ]
    }
  ],
  "metadata": {
    "colab": {
      "collapsed_sections": [
        "SrWxQ3pVRKmK"
      ],
      "name": "SC62_LembarKoordinasi  Script.ipynb",
      "provenance": [],
      "include_colab_link": true
    },
    "kernelspec": {
      "display_name": "Python 3",
      "name": "python3"
    },
    "language_info": {
      "name": "python"
    }
  },
  "nbformat": 4,
  "nbformat_minor": 0
}