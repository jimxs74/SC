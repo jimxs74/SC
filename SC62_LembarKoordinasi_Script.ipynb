{
  "cells": [
    {
      "cell_type": "markdown",
      "metadata": {
        "id": "view-in-github",
        "colab_type": "text"
      },
      "source": [
        "<a href=\"https://colab.research.google.com/github/jimxs74/SC/blob/main/SC62_LembarKoordinasi_Script.ipynb\" target=\"_parent\"><img src=\"https://colab.research.google.com/assets/colab-badge.svg\" alt=\"Open In Colab\"/></a>"
      ]
    },
    {
      "cell_type": "markdown",
      "metadata": {
        "id": "j0rJv8nT5Tfo"
      },
      "source": [
        "# **SC62 Script Lembar Koordinasi**\n",
        "\n",
        "Tool ini berguna untuk mendapatkan gambaran progress overall SC project secara angka. agar bisa diidentifikasi letak work volume terbanyak ada diSystem/Disiplin mana\n",
        "\n",
        "UI/UX belum menjadi objective dari tool ini, akan dilanjutkan dengan framework yang lain"
      ]
    },
    {
      "cell_type": "code",
      "execution_count": 201,
      "metadata": {
        "id": "QZPNdd0pLL5y"
      },
      "outputs": [],
      "source": [
        "import pandas as pd\n",
        "import numpy as np\n",
        "import gspread"
      ]
    },
    {
      "cell_type": "code",
      "execution_count": 202,
      "metadata": {
        "id": "mW1m_tCNWRS0"
      },
      "outputs": [],
      "source": [
        "from gspread_dataframe import set_with_dataframe\n",
        "from google.colab import auth\n",
        "auth.authenticate_user()\n",
        "\n",
        "import gspread\n",
        "from gspread_dataframe import set_with_dataframe\n",
        "from google.auth import default\n",
        "creds, _ = default()\n",
        "\n",
        "gc = gspread.authorize(creds)"
      ]
    },
    {
      "cell_type": "code",
      "execution_count": 203,
      "metadata": {
        "id": "xoSG03msszmL"
      },
      "outputs": [],
      "source": [
        "def read_data(url, sheet='sheet1'):\n",
        "  gs = gc.open_by_url(url).worksheet(sheet).get_all_values()\n",
        "  gs = pd.DataFrame.from_records(gs)\n",
        "  gs.columns = gs.iloc[0]\n",
        "  gs = gs[1:]\n",
        "  return gs\n",
        "\n",
        "def write_data(url, result, sheet):\n",
        "  write = gc.open_by_url(url)\n",
        "  write = write.worksheet(sheet)\n",
        "  write.clear()\n",
        "  set_with_dataframe(worksheet=write, dataframe=result, include_index=False,include_column_header=True, resize=True)\n",
        "  return"
      ]
    },
    {
      "cell_type": "code",
      "source": [
        "# gsheet yang akan diolah dan analisis\n",
        "url_sc18 = 'https://docs.google.com/spreadsheets/d/1wrvBoSNka1f51hk8QuLd_bF7irVzSB6nDpg-Z_XqcG4/edit#gid=532748829'\n",
        "url_cert = \"https://docs.google.com/spreadsheets/d/1xPQanRi1XDmo7FlUyiV6Rt8pro_zjEHLOE0GLROTReQ/edit#gid=1035965456\"\n",
        "url_itr = \"https://docs.google.com/spreadsheets/d/1aB57SwMedoMSjBxt5w_EBNYgmMoUACTJC056gEbD9a0/edit#gid=1491426671\"\n",
        "url_cc = \"https://docs.google.com/spreadsheets/d/1ZrQjq30E58bFFiuuZ9aqAYy2StB4uKDRb2oDtM3m8wk/edit#gid=1688767959\"\n",
        "url_pc = \"https://docs.google.com/spreadsheets/d/1DHwpGa_I0sd42o9zfC5cUMSud9XfKwPtyYm7UHY9xl0/edit#gid=1494113475\"\n",
        "url_pl = \"https://docs.google.com/spreadsheets/d/19VIlyxleK14LjZCPls-4F9fjg0Sh46Q8oTk5UawJzhI/edit#gid=622809212\"\n",
        "url_sr = \"https://docs.google.com/spreadsheets/d/1X3Zy083zX2spgZWqlw9TfnzUpHh_LR_C3H1jXyEdB4A/edit#gid=253348165\"\n",
        "url_com = 'https://docs.google.com/spreadsheets/d/1A2BrD-4wUNdJtoQmhoM2kxJD_yUPC9GcajIMdZWu9w0'\n",
        "\n",
        "# Output tampilan\n",
        "url_sc62 = 'https://docs.google.com/spreadsheets/d/1BRdjDg45HbNN1oeN22UwpaBwTL7fDTqOkMTwBHs0g5g/edit#gid=2092045117'\n",
        "\n",
        "#dummy Test\n",
        "#url_sc62 = 'https://docs.google.com/spreadsheets/d/1nO9qBfJCS8vH7shuc_BAj9OGNsdjwqXkhBhFvhNdAcI/edit#gid=0'"
      ],
      "metadata": {
        "id": "zf8jA5VaR1kN"
      },
      "execution_count": 204,
      "outputs": []
    },
    {
      "cell_type": "markdown",
      "metadata": {
        "id": "VcDsDhbtIHpB"
      },
      "source": [
        "Buat tabel system owner dan subsystem owner"
      ]
    },
    {
      "cell_type": "code",
      "execution_count": 205,
      "metadata": {
        "id": "GSEp-M4KIKXX",
        "colab": {
          "base_uri": "https://localhost:8080/",
          "height": 424
        },
        "outputId": "36a32b8c-5b05-4616-8320-db18c94ce7ed"
      },
      "outputs": [
        {
          "output_type": "execute_result",
          "data": {
            "text/plain": [
              "    subsystem                              subsystem desc SSHOC or SHOC  \\\n",
              "0      009-01  Temporary Power MV (20/11kV) and LV (400V)         SSHOC   \n",
              "1      009-02                      Temporary Water Supply         SSHOC   \n",
              "2      009-03         Temporary Safety and Fire Equipment         SSHOC   \n",
              "3      009-04                              Temporary HVAC                 \n",
              "4      009-06                       Temporary Buyback Gas         SSHOC   \n",
              "..        ...                                         ...           ...   \n",
              "972    870-23                 Fire Area-12 (Substation-3)         SSHOC   \n",
              "973    870-24                 Fire Area-14 (Substation-4)         SSHOC   \n",
              "974    870-25             Fire Area-15 (Control Building)         SSHOC   \n",
              "975    999-01                                                             \n",
              "976    999-02                 Tools and Material Handling                 \n",
              "\n",
              "      system owner  \n",
              "0             Yadi  \n",
              "1    Fathur Rohman  \n",
              "2          Hasan H  \n",
              "3    Fathur Rohman  \n",
              "4          Estu YP  \n",
              "..             ...  \n",
              "972        Noprian  \n",
              "973        Noprian  \n",
              "974                 \n",
              "975                 \n",
              "976           Yadi  \n",
              "\n",
              "[977 rows x 4 columns]"
            ],
            "text/html": [
              "\n",
              "  <div id=\"df-244c09d9-dc84-471d-ba71-d7c7bd0efbfd\">\n",
              "    <div class=\"colab-df-container\">\n",
              "      <div>\n",
              "<style scoped>\n",
              "    .dataframe tbody tr th:only-of-type {\n",
              "        vertical-align: middle;\n",
              "    }\n",
              "\n",
              "    .dataframe tbody tr th {\n",
              "        vertical-align: top;\n",
              "    }\n",
              "\n",
              "    .dataframe thead th {\n",
              "        text-align: right;\n",
              "    }\n",
              "</style>\n",
              "<table border=\"1\" class=\"dataframe\">\n",
              "  <thead>\n",
              "    <tr style=\"text-align: right;\">\n",
              "      <th></th>\n",
              "      <th>subsystem</th>\n",
              "      <th>subsystem desc</th>\n",
              "      <th>SSHOC or SHOC</th>\n",
              "      <th>system owner</th>\n",
              "    </tr>\n",
              "  </thead>\n",
              "  <tbody>\n",
              "    <tr>\n",
              "      <th>0</th>\n",
              "      <td>009-01</td>\n",
              "      <td>Temporary Power MV (20/11kV) and LV (400V)</td>\n",
              "      <td>SSHOC</td>\n",
              "      <td>Yadi</td>\n",
              "    </tr>\n",
              "    <tr>\n",
              "      <th>1</th>\n",
              "      <td>009-02</td>\n",
              "      <td>Temporary Water Supply</td>\n",
              "      <td>SSHOC</td>\n",
              "      <td>Fathur Rohman</td>\n",
              "    </tr>\n",
              "    <tr>\n",
              "      <th>2</th>\n",
              "      <td>009-03</td>\n",
              "      <td>Temporary Safety and Fire Equipment</td>\n",
              "      <td>SSHOC</td>\n",
              "      <td>Hasan H</td>\n",
              "    </tr>\n",
              "    <tr>\n",
              "      <th>3</th>\n",
              "      <td>009-04</td>\n",
              "      <td>Temporary HVAC</td>\n",
              "      <td></td>\n",
              "      <td>Fathur Rohman</td>\n",
              "    </tr>\n",
              "    <tr>\n",
              "      <th>4</th>\n",
              "      <td>009-06</td>\n",
              "      <td>Temporary Buyback Gas</td>\n",
              "      <td>SSHOC</td>\n",
              "      <td>Estu YP</td>\n",
              "    </tr>\n",
              "    <tr>\n",
              "      <th>...</th>\n",
              "      <td>...</td>\n",
              "      <td>...</td>\n",
              "      <td>...</td>\n",
              "      <td>...</td>\n",
              "    </tr>\n",
              "    <tr>\n",
              "      <th>972</th>\n",
              "      <td>870-23</td>\n",
              "      <td>Fire Area-12 (Substation-3)</td>\n",
              "      <td>SSHOC</td>\n",
              "      <td>Noprian</td>\n",
              "    </tr>\n",
              "    <tr>\n",
              "      <th>973</th>\n",
              "      <td>870-24</td>\n",
              "      <td>Fire Area-14 (Substation-4)</td>\n",
              "      <td>SSHOC</td>\n",
              "      <td>Noprian</td>\n",
              "    </tr>\n",
              "    <tr>\n",
              "      <th>974</th>\n",
              "      <td>870-25</td>\n",
              "      <td>Fire Area-15 (Control Building)</td>\n",
              "      <td>SSHOC</td>\n",
              "      <td></td>\n",
              "    </tr>\n",
              "    <tr>\n",
              "      <th>975</th>\n",
              "      <td>999-01</td>\n",
              "      <td></td>\n",
              "      <td></td>\n",
              "      <td></td>\n",
              "    </tr>\n",
              "    <tr>\n",
              "      <th>976</th>\n",
              "      <td>999-02</td>\n",
              "      <td>Tools and Material Handling</td>\n",
              "      <td></td>\n",
              "      <td>Yadi</td>\n",
              "    </tr>\n",
              "  </tbody>\n",
              "</table>\n",
              "<p>977 rows × 4 columns</p>\n",
              "</div>\n",
              "      <button class=\"colab-df-convert\" onclick=\"convertToInteractive('df-244c09d9-dc84-471d-ba71-d7c7bd0efbfd')\"\n",
              "              title=\"Convert this dataframe to an interactive table.\"\n",
              "              style=\"display:none;\">\n",
              "        \n",
              "  <svg xmlns=\"http://www.w3.org/2000/svg\" height=\"24px\"viewBox=\"0 0 24 24\"\n",
              "       width=\"24px\">\n",
              "    <path d=\"M0 0h24v24H0V0z\" fill=\"none\"/>\n",
              "    <path d=\"M18.56 5.44l.94 2.06.94-2.06 2.06-.94-2.06-.94-.94-2.06-.94 2.06-2.06.94zm-11 1L8.5 8.5l.94-2.06 2.06-.94-2.06-.94L8.5 2.5l-.94 2.06-2.06.94zm10 10l.94 2.06.94-2.06 2.06-.94-2.06-.94-.94-2.06-.94 2.06-2.06.94z\"/><path d=\"M17.41 7.96l-1.37-1.37c-.4-.4-.92-.59-1.43-.59-.52 0-1.04.2-1.43.59L10.3 9.45l-7.72 7.72c-.78.78-.78 2.05 0 2.83L4 21.41c.39.39.9.59 1.41.59.51 0 1.02-.2 1.41-.59l7.78-7.78 2.81-2.81c.8-.78.8-2.07 0-2.86zM5.41 20L4 18.59l7.72-7.72 1.47 1.35L5.41 20z\"/>\n",
              "  </svg>\n",
              "      </button>\n",
              "      \n",
              "  <style>\n",
              "    .colab-df-container {\n",
              "      display:flex;\n",
              "      flex-wrap:wrap;\n",
              "      gap: 12px;\n",
              "    }\n",
              "\n",
              "    .colab-df-convert {\n",
              "      background-color: #E8F0FE;\n",
              "      border: none;\n",
              "      border-radius: 50%;\n",
              "      cursor: pointer;\n",
              "      display: none;\n",
              "      fill: #1967D2;\n",
              "      height: 32px;\n",
              "      padding: 0 0 0 0;\n",
              "      width: 32px;\n",
              "    }\n",
              "\n",
              "    .colab-df-convert:hover {\n",
              "      background-color: #E2EBFA;\n",
              "      box-shadow: 0px 1px 2px rgba(60, 64, 67, 0.3), 0px 1px 3px 1px rgba(60, 64, 67, 0.15);\n",
              "      fill: #174EA6;\n",
              "    }\n",
              "\n",
              "    [theme=dark] .colab-df-convert {\n",
              "      background-color: #3B4455;\n",
              "      fill: #D2E3FC;\n",
              "    }\n",
              "\n",
              "    [theme=dark] .colab-df-convert:hover {\n",
              "      background-color: #434B5C;\n",
              "      box-shadow: 0px 1px 3px 1px rgba(0, 0, 0, 0.15);\n",
              "      filter: drop-shadow(0px 1px 2px rgba(0, 0, 0, 0.3));\n",
              "      fill: #FFFFFF;\n",
              "    }\n",
              "  </style>\n",
              "\n",
              "      <script>\n",
              "        const buttonEl =\n",
              "          document.querySelector('#df-244c09d9-dc84-471d-ba71-d7c7bd0efbfd button.colab-df-convert');\n",
              "        buttonEl.style.display =\n",
              "          google.colab.kernel.accessAllowed ? 'block' : 'none';\n",
              "\n",
              "        async function convertToInteractive(key) {\n",
              "          const element = document.querySelector('#df-244c09d9-dc84-471d-ba71-d7c7bd0efbfd');\n",
              "          const dataTable =\n",
              "            await google.colab.kernel.invokeFunction('convertToInteractive',\n",
              "                                                     [key], {});\n",
              "          if (!dataTable) return;\n",
              "\n",
              "          const docLinkHtml = 'Like what you see? Visit the ' +\n",
              "            '<a target=\"_blank\" href=https://colab.research.google.com/notebooks/data_table.ipynb>data table notebook</a>'\n",
              "            + ' to learn more about interactive tables.';\n",
              "          element.innerHTML = '';\n",
              "          dataTable['output_type'] = 'display_data';\n",
              "          await google.colab.output.renderOutput(dataTable, element);\n",
              "          const docLink = document.createElement('div');\n",
              "          docLink.innerHTML = docLinkHtml;\n",
              "          element.appendChild(docLink);\n",
              "        }\n",
              "      </script>\n",
              "    </div>\n",
              "  </div>\n",
              "  "
            ]
          },
          "metadata": {},
          "execution_count": 205
        }
      ],
      "source": [
        "gs_read = gc.open_by_url(url_sc18).worksheet('System List')\n",
        "gs_write = gc.open_by_url(url_sc62)\n",
        "\n",
        "df = gs_read.get_all_values()\n",
        "df = pd.DataFrame.from_records(df)\n",
        "\n",
        "# Ambil kolom yg di perlukan saja dari SC18\n",
        "df = df[[1,2,3,4,24,32]] \n",
        "df.columns = ['system','system desc','subsystem','subsystem desc', 'SSHOC or SHOC','system owner']\n",
        "df['system'].replace('',np.nan, inplace=True)\n",
        "df['subsystem'].replace('',np.nan, inplace=True)\n",
        "\n",
        "# pilih row yang diperlukan saja\n",
        "so = df[6:].drop(['subsystem','subsystem desc'], axis=1)\n",
        "\n",
        "# drop row yg mengandung blank pada column subsystem\n",
        "so.dropna(subset=['system'], inplace=True)\n",
        "so.reset_index(drop=True)\n",
        "\n",
        "# Generate summary table Sub-System Owner dari SC18\n",
        "# pilih row yang diperlukan saja\n",
        "sso = df[6:].drop(['system','system desc'], axis=1)\n",
        "\n",
        "# drop row yg mengandung blank pada column subsystem\n",
        "sso.dropna(subset=['subsystem'], inplace=True)\n",
        "sso.reset_index(drop=True)\n"
      ]
    },
    {
      "cell_type": "code",
      "source": [
        "so_sso = pd.concat([so, sso], axis=1)"
      ],
      "metadata": {
        "id": "YlAqIy0eVIA9"
      },
      "execution_count": 206,
      "outputs": []
    },
    {
      "cell_type": "code",
      "source": [
        "so.columns = ['system/subsystem','desc', 'SSHOC/SHOC','system owner']\n",
        "sso.columns = ['system/subsystem','desc', 'SSHOC/SHOC','system owner']\n",
        "so_sso = pd.concat([so, sso])"
      ],
      "metadata": {
        "id": "HJl-rYeGV5yx"
      },
      "execution_count": 207,
      "outputs": []
    },
    {
      "cell_type": "code",
      "source": [
        "'''\n",
        "#write tabel so dan sso tabel ini tidak perlu ditampilkan dalam frontend gsheet\n",
        "write_data(url_sc62, so, 'so')\n",
        "write_data(url_sc62, sso, 'sso')\n",
        "write_data(url_sc62, so_sso, 'so_sso')\n",
        "'''"
      ],
      "metadata": {
        "id": "8zwqr0uYSYh7",
        "colab": {
          "base_uri": "https://localhost:8080/",
          "height": 35
        },
        "outputId": "155b5363-31a5-4a38-c35a-7f146f036f78"
      },
      "execution_count": 208,
      "outputs": [
        {
          "output_type": "execute_result",
          "data": {
            "text/plain": [
              "\"\\n#write tabel so dan sso tabel ini tidak perlu ditampilkan dalam frontend gsheet\\nwrite_data(url_sc62, so, 'so')\\nwrite_data(url_sc62, sso, 'sso')\\nwrite_data(url_sc62, so_sso, 'so_sso')\\n\""
            ],
            "application/vnd.google.colaboratory.intrinsic+json": {
              "type": "string"
            }
          },
          "metadata": {},
          "execution_count": 208
        }
      ]
    },
    {
      "cell_type": "markdown",
      "metadata": {
        "id": "_RnCl5FoLT3I"
      },
      "source": [
        "#1. Connect ke Data"
      ]
    },
    {
      "cell_type": "code",
      "execution_count": 209,
      "metadata": {
        "id": "BpMZ7a1job4D",
        "colab": {
          "base_uri": "https://localhost:8080/",
          "height": 52
        },
        "outputId": "74efbf29-f2a0-482c-8a6a-e6695840d582"
      },
      "outputs": [
        {
          "output_type": "execute_result",
          "data": {
            "text/plain": [
              "\"\\n# link data dari p Supri. di update harian oleh p Supri\\ncert = read_data(url_cert,'CERT')\\nitr = read_data(url_itr,'ITR')\\ncc = read_data(url_cc,'CC')\\npc = read_data(url_pc,'PC')\\npl = read_data(url_pl,'PL')\\nsr = read_data(url_sr,'PHASE')\\ncom = read_data(url_com,'COM')\\n\""
            ],
            "application/vnd.google.colaboratory.intrinsic+json": {
              "type": "string"
            }
          },
          "metadata": {},
          "execution_count": 209
        }
      ],
      "source": [
        "'''\n",
        "# link data dari p Supri. di update harian oleh p Supri\n",
        "cert = read_data(url_cert,'CERT')\n",
        "itr = read_data(url_itr,'ITR')\n",
        "cc = read_data(url_cc,'CC')\n",
        "pc = read_data(url_pc,'PC')\n",
        "pl = read_data(url_pl,'PL')\n",
        "sr = read_data(url_sr,'PHASE')\n",
        "com = read_data(url_com,'COM')\n",
        "'''"
      ]
    },
    {
      "cell_type": "code",
      "source": [
        "# tabel prioritas\n",
        "# Mengambil data dari SC62 worksheet priority dan clean up\n",
        "priority = read_data(url_sc62,'priority')\n",
        "priority = priority[['subsystem','phase_2']]\n",
        "priority = priority.loc[priority['phase_2'].isin(['phase_1','phase_2'])]\n",
        "priority = priority.rename(columns={\"phase_2\": \"priority\"})"
      ],
      "metadata": {
        "id": "YJH8eAxsHK58"
      },
      "execution_count": 210,
      "outputs": []
    },
    {
      "cell_type": "markdown",
      "source": [
        "#2. Spread = Certificate + so_sso"
      ],
      "metadata": {
        "id": "mzShsq6O0Bhx"
      }
    },
    {
      "cell_type": "code",
      "source": [
        "cert = read_data(url_cert,'CERT')"
      ],
      "metadata": {
        "id": "E5uL2f7t0RD1"
      },
      "execution_count": 211,
      "outputs": []
    },
    {
      "cell_type": "code",
      "source": [
        "#ambil data certificate\n",
        "spread = cert[['Certificate No','System No','Sub System No','Sub System Description','Discipline','Status']]\n",
        "\n",
        "#merge dengan prioritas\n",
        "spread = pd.merge(spread, priority, left_on =\"Sub System No\", right_on=\"subsystem\" , how=\"left\").drop(columns=['subsystem'])\n"
      ],
      "metadata": {
        "id": "exzMBMHF0VcY"
      },
      "execution_count": 212,
      "outputs": []
    },
    {
      "cell_type": "code",
      "source": [
        "#merge dg so_sso\n",
        "spread = pd.merge(spread, so_sso, left_on =\"System No\", right_on=\"system/subsystem\" , how=\"left\")\n",
        "spread = pd.merge(spread, so_sso, left_on =\"Sub System No\", right_on=\"system/subsystem\" , how=\"left\")\n",
        "\n",
        "spread = pd.concat([spread.loc[spread['Sub System No'] == ''],spread.loc[spread['Sub System No'] != '']])\n",
        "spread = spread.drop(['system/subsystem_x','desc_x','SSHOC/SHOC_x','system/subsystem_y','desc_y','SSHOC/SHOC_y','system owner_y'], axis=1).sort_values(by=['System No','Sub System No'])\n",
        "\n",
        "spread = spread.reindex(columns=['System No','Sub System No', 'Sub System Description','Certificate No','Discipline','system owner_x','Status','priority'])"
      ],
      "metadata": {
        "id": "ocMoWffoJETw"
      },
      "execution_count": 213,
      "outputs": []
    },
    {
      "cell_type": "code",
      "source": [
        "#write_data(url_sc62, spread, 'spread')"
      ],
      "metadata": {
        "id": "5gZ3frGN-ud9"
      },
      "execution_count": 214,
      "outputs": []
    },
    {
      "cell_type": "markdown",
      "source": [
        "#2. Spread = spread + itr"
      ],
      "metadata": {
        "id": "CIWMi5gW_MtD"
      }
    },
    {
      "cell_type": "code",
      "source": [
        "itr = read_data(url_itr,'ITR')"
      ],
      "metadata": {
        "id": "VmuH3rXQ_QeE"
      },
      "execution_count": 215,
      "outputs": []
    },
    {
      "cell_type": "code",
      "source": [
        "#Ambil data ITR dan clean up\n",
        "itr = itr[['Sub System No','Discipline','Tag No','ITR No','ITR Description','Status']]\n",
        "# ambil hanya yang outstanding\n",
        "itr = itr.loc[(itr['Status']=='Outstanding')]\n",
        "\n",
        "# Membuat buffer percabangan untuk membuat tabel worksheet remaining ITR, utk digunakan nanti\n",
        "itr_show = itr.drop(columns=['Status'])\n",
        "\n",
        "# Menghitung jumlah ITR per subsystem\n",
        "itr = itr.groupby(['Sub System No','Discipline'])['ITR No'].count().reset_index(name=\"jumlah\")\n",
        "\n",
        "# Combine text Discipline/Category/Jumlah C:1\n",
        "itr[\"Discipline\"] = itr[\"Discipline\"].astype(str) + \":\" + itr[\"jumlah\"].astype(str)\n",
        "itr = itr.drop(columns=['jumlah'])\n",
        "itr = itr.set_index('Sub System No')\n",
        "\n",
        "# combine value as string\n",
        "itr = itr.assign(labels = itr.groupby(level = 'Sub System No').cumcount()).groupby([itr.index,'labels']).first().unstack('labels').sort_index(axis =1,level = 1).droplevel(1,axis = 1)\n",
        "itr.head(3)"
      ],
      "metadata": {
        "colab": {
          "base_uri": "https://localhost:8080/",
          "height": 0
        },
        "id": "COz-P2Dz_Zdy",
        "outputId": "d0430e8c-246b-4e97-eeed-7c8978a41a37"
      },
      "execution_count": 216,
      "outputs": [
        {
          "output_type": "execute_result",
          "data": {
            "text/plain": [
              "              Discipline Discipline Discipline Discipline Discipline  \\\n",
              "Sub System No                                                          \n",
              "009-06               L:1        NaN        NaN        NaN        NaN   \n",
              "062-04               C:6        NaN        NaN        NaN        NaN   \n",
              "063-01               C:4        NaN        NaN        NaN        NaN   \n",
              "\n",
              "              Discipline Discipline Discipline Discipline  \n",
              "Sub System No                                              \n",
              "009-06               NaN        NaN        NaN        NaN  \n",
              "062-04               NaN        NaN        NaN        NaN  \n",
              "063-01               NaN        NaN        NaN        NaN  "
            ],
            "text/html": [
              "\n",
              "  <div id=\"df-b0016076-d4d8-47b3-b3bc-0a9db7bd400b\">\n",
              "    <div class=\"colab-df-container\">\n",
              "      <div>\n",
              "<style scoped>\n",
              "    .dataframe tbody tr th:only-of-type {\n",
              "        vertical-align: middle;\n",
              "    }\n",
              "\n",
              "    .dataframe tbody tr th {\n",
              "        vertical-align: top;\n",
              "    }\n",
              "\n",
              "    .dataframe thead th {\n",
              "        text-align: right;\n",
              "    }\n",
              "</style>\n",
              "<table border=\"1\" class=\"dataframe\">\n",
              "  <thead>\n",
              "    <tr style=\"text-align: right;\">\n",
              "      <th></th>\n",
              "      <th>Discipline</th>\n",
              "      <th>Discipline</th>\n",
              "      <th>Discipline</th>\n",
              "      <th>Discipline</th>\n",
              "      <th>Discipline</th>\n",
              "      <th>Discipline</th>\n",
              "      <th>Discipline</th>\n",
              "      <th>Discipline</th>\n",
              "      <th>Discipline</th>\n",
              "    </tr>\n",
              "    <tr>\n",
              "      <th>Sub System No</th>\n",
              "      <th></th>\n",
              "      <th></th>\n",
              "      <th></th>\n",
              "      <th></th>\n",
              "      <th></th>\n",
              "      <th></th>\n",
              "      <th></th>\n",
              "      <th></th>\n",
              "      <th></th>\n",
              "    </tr>\n",
              "  </thead>\n",
              "  <tbody>\n",
              "    <tr>\n",
              "      <th>009-06</th>\n",
              "      <td>L:1</td>\n",
              "      <td>NaN</td>\n",
              "      <td>NaN</td>\n",
              "      <td>NaN</td>\n",
              "      <td>NaN</td>\n",
              "      <td>NaN</td>\n",
              "      <td>NaN</td>\n",
              "      <td>NaN</td>\n",
              "      <td>NaN</td>\n",
              "    </tr>\n",
              "    <tr>\n",
              "      <th>062-04</th>\n",
              "      <td>C:6</td>\n",
              "      <td>NaN</td>\n",
              "      <td>NaN</td>\n",
              "      <td>NaN</td>\n",
              "      <td>NaN</td>\n",
              "      <td>NaN</td>\n",
              "      <td>NaN</td>\n",
              "      <td>NaN</td>\n",
              "      <td>NaN</td>\n",
              "    </tr>\n",
              "    <tr>\n",
              "      <th>063-01</th>\n",
              "      <td>C:4</td>\n",
              "      <td>NaN</td>\n",
              "      <td>NaN</td>\n",
              "      <td>NaN</td>\n",
              "      <td>NaN</td>\n",
              "      <td>NaN</td>\n",
              "      <td>NaN</td>\n",
              "      <td>NaN</td>\n",
              "      <td>NaN</td>\n",
              "    </tr>\n",
              "  </tbody>\n",
              "</table>\n",
              "</div>\n",
              "      <button class=\"colab-df-convert\" onclick=\"convertToInteractive('df-b0016076-d4d8-47b3-b3bc-0a9db7bd400b')\"\n",
              "              title=\"Convert this dataframe to an interactive table.\"\n",
              "              style=\"display:none;\">\n",
              "        \n",
              "  <svg xmlns=\"http://www.w3.org/2000/svg\" height=\"24px\"viewBox=\"0 0 24 24\"\n",
              "       width=\"24px\">\n",
              "    <path d=\"M0 0h24v24H0V0z\" fill=\"none\"/>\n",
              "    <path d=\"M18.56 5.44l.94 2.06.94-2.06 2.06-.94-2.06-.94-.94-2.06-.94 2.06-2.06.94zm-11 1L8.5 8.5l.94-2.06 2.06-.94-2.06-.94L8.5 2.5l-.94 2.06-2.06.94zm10 10l.94 2.06.94-2.06 2.06-.94-2.06-.94-.94-2.06-.94 2.06-2.06.94z\"/><path d=\"M17.41 7.96l-1.37-1.37c-.4-.4-.92-.59-1.43-.59-.52 0-1.04.2-1.43.59L10.3 9.45l-7.72 7.72c-.78.78-.78 2.05 0 2.83L4 21.41c.39.39.9.59 1.41.59.51 0 1.02-.2 1.41-.59l7.78-7.78 2.81-2.81c.8-.78.8-2.07 0-2.86zM5.41 20L4 18.59l7.72-7.72 1.47 1.35L5.41 20z\"/>\n",
              "  </svg>\n",
              "      </button>\n",
              "      \n",
              "  <style>\n",
              "    .colab-df-container {\n",
              "      display:flex;\n",
              "      flex-wrap:wrap;\n",
              "      gap: 12px;\n",
              "    }\n",
              "\n",
              "    .colab-df-convert {\n",
              "      background-color: #E8F0FE;\n",
              "      border: none;\n",
              "      border-radius: 50%;\n",
              "      cursor: pointer;\n",
              "      display: none;\n",
              "      fill: #1967D2;\n",
              "      height: 32px;\n",
              "      padding: 0 0 0 0;\n",
              "      width: 32px;\n",
              "    }\n",
              "\n",
              "    .colab-df-convert:hover {\n",
              "      background-color: #E2EBFA;\n",
              "      box-shadow: 0px 1px 2px rgba(60, 64, 67, 0.3), 0px 1px 3px 1px rgba(60, 64, 67, 0.15);\n",
              "      fill: #174EA6;\n",
              "    }\n",
              "\n",
              "    [theme=dark] .colab-df-convert {\n",
              "      background-color: #3B4455;\n",
              "      fill: #D2E3FC;\n",
              "    }\n",
              "\n",
              "    [theme=dark] .colab-df-convert:hover {\n",
              "      background-color: #434B5C;\n",
              "      box-shadow: 0px 1px 3px 1px rgba(0, 0, 0, 0.15);\n",
              "      filter: drop-shadow(0px 1px 2px rgba(0, 0, 0, 0.3));\n",
              "      fill: #FFFFFF;\n",
              "    }\n",
              "  </style>\n",
              "\n",
              "      <script>\n",
              "        const buttonEl =\n",
              "          document.querySelector('#df-b0016076-d4d8-47b3-b3bc-0a9db7bd400b button.colab-df-convert');\n",
              "        buttonEl.style.display =\n",
              "          google.colab.kernel.accessAllowed ? 'block' : 'none';\n",
              "\n",
              "        async function convertToInteractive(key) {\n",
              "          const element = document.querySelector('#df-b0016076-d4d8-47b3-b3bc-0a9db7bd400b');\n",
              "          const dataTable =\n",
              "            await google.colab.kernel.invokeFunction('convertToInteractive',\n",
              "                                                     [key], {});\n",
              "          if (!dataTable) return;\n",
              "\n",
              "          const docLinkHtml = 'Like what you see? Visit the ' +\n",
              "            '<a target=\"_blank\" href=https://colab.research.google.com/notebooks/data_table.ipynb>data table notebook</a>'\n",
              "            + ' to learn more about interactive tables.';\n",
              "          element.innerHTML = '';\n",
              "          dataTable['output_type'] = 'display_data';\n",
              "          await google.colab.output.renderOutput(dataTable, element);\n",
              "          const docLink = document.createElement('div');\n",
              "          docLink.innerHTML = docLinkHtml;\n",
              "          element.appendChild(docLink);\n",
              "        }\n",
              "      </script>\n",
              "    </div>\n",
              "  </div>\n",
              "  "
            ]
          },
          "metadata": {},
          "execution_count": 216
        }
      ]
    },
    {
      "cell_type": "code",
      "source": [
        "itr.columns = ['ITR','A','B','C','D','E','F','G','H']\n",
        "\n",
        "itr[\"ITR\"] = itr[\"ITR\"].astype(str) + \"/\" + itr[\"A\"].astype(str) + \"/\" + itr[\"B\"].astype(str) + \"/\" + itr[\"C\"].astype(str) + \"/\" + itr[\"D\"].astype(str) + \"/\" + itr[\"E\"].astype(str) + \"/\" + itr[\"F\"].astype(str) + \"/\" + itr[\"G\"].astype(str) + \"/\" + itr[\"H\"].astype(str)\n",
        "itr = itr.drop(columns=['A','B','C','D','E','F','G','H'])\n",
        "\n",
        "# cleaning /nan/\n",
        "itr['ITR'] = itr['ITR'].str.replace(r'nan[/]','', regex=True).str.replace(r'/nan','', regex=True)"
      ],
      "metadata": {
        "id": "GqE_lyHbCWac"
      },
      "execution_count": 217,
      "outputs": []
    },
    {
      "cell_type": "code",
      "source": [
        "'''\n",
        "itr.columns = ['ITR','A','B','C','D','E','F','G','H','I']\n",
        "\n",
        "itr[\"ITR\"] = itr[\"ITR\"].astype(str) + \"/\" + itr[\"A\"].astype(str) + \"/\" + itr[\"B\"].astype(str) + \"/\" + itr[\"C\"].astype(str) + \"/\" + itr[\"D\"].astype(str) + \"/\" + itr[\"E\"].astype(str) + \"/\" + itr[\"F\"].astype(str) + \"/\" + itr[\"G\"].astype(str) + \"/\" + itr[\"H\"].astype(str) + \"/\" + itr[\"I\"].astype(str)\n",
        "itr = itr.drop(columns=['A','B','C','D','E','F','G','H','I'])\n",
        "\n",
        "# cleaning /nan/\n",
        "itr['ITR'] = itr['ITR'].str.replace(r'nan[/]','', regex=True).str.replace(r'/nan','', regex=True)\n",
        "'''"
      ],
      "metadata": {
        "colab": {
          "base_uri": "https://localhost:8080/",
          "height": 0
        },
        "id": "TRNgq27v_mgo",
        "outputId": "2b57c3d5-0395-45ad-ca6d-439cb6827185"
      },
      "execution_count": 218,
      "outputs": [
        {
          "output_type": "execute_result",
          "data": {
            "text/plain": [
              "'\\nitr.columns = [\\'ITR\\',\\'A\\',\\'B\\',\\'C\\',\\'D\\',\\'E\\',\\'F\\',\\'G\\',\\'H\\',\\'I\\']\\n\\nitr[\"ITR\"] = itr[\"ITR\"].astype(str) + \"/\" + itr[\"A\"].astype(str) + \"/\" + itr[\"B\"].astype(str) + \"/\" + itr[\"C\"].astype(str) + \"/\" + itr[\"D\"].astype(str) + \"/\" + itr[\"E\"].astype(str) + \"/\" + itr[\"F\"].astype(str) + \"/\" + itr[\"G\"].astype(str) + \"/\" + itr[\"H\"].astype(str) + \"/\" + itr[\"I\"].astype(str)\\nitr = itr.drop(columns=[\\'A\\',\\'B\\',\\'C\\',\\'D\\',\\'E\\',\\'F\\',\\'G\\',\\'H\\',\\'I\\'])\\n\\n# cleaning /nan/\\nitr[\\'ITR\\'] = itr[\\'ITR\\'].str.replace(r\\'nan[/]\\',\\'\\', regex=True).str.replace(r\\'/nan\\',\\'\\', regex=True)\\n'"
            ],
            "application/vnd.google.colaboratory.intrinsic+json": {
              "type": "string"
            }
          },
          "metadata": {},
          "execution_count": 218
        }
      ]
    },
    {
      "cell_type": "code",
      "source": [
        "# merge dengan table di sert_sso (worksheet sc_workfront)\n",
        "spread = pd.merge(spread, itr, left_on =\"Sub System No\", right_on=\"Sub System No\" , how=\"left\")"
      ],
      "metadata": {
        "id": "G0ZmYmNm_v_a"
      },
      "execution_count": 219,
      "outputs": []
    },
    {
      "cell_type": "code",
      "source": [
        "#write_data(url_sc62, spread, 'spread')"
      ],
      "metadata": {
        "id": "sGW2IBAr_yyO"
      },
      "execution_count": 220,
      "outputs": []
    },
    {
      "cell_type": "markdown",
      "source": [
        "#3. Spread = spread + summary report"
      ],
      "metadata": {
        "id": "TmdCvcr-3K1I"
      }
    },
    {
      "cell_type": "markdown",
      "source": [
        "ada bug kadang ada blank kadang ada data 0. perlu di buat dalam blank semua"
      ],
      "metadata": {
        "id": "0j0e2BbfDDYY"
      }
    },
    {
      "cell_type": "code",
      "source": [
        "sr = read_data(url_sr,'PHASE')"
      ],
      "metadata": {
        "id": "M11U4IhU3h0f"
      },
      "execution_count": 221,
      "outputs": []
    },
    {
      "cell_type": "code",
      "execution_count": 222,
      "metadata": {
        "id": "xRCjW2107-jc"
      },
      "outputs": [],
      "source": [
        "sr = sr[['System No', 'System Description', 'Sub System No','Sub System Description', 'Discipline', 'ITR Outstanding', 'CC Checksheet Outstanding', 'PC Checksheet Outstanding', 'COMM Checksheet Outstanding']]\n",
        "#sr = sr.fillna(0)\n",
        "\n",
        "sr['System No'] = pd.to_numeric(sr['System No'], errors='coerce').astype('Int64')\n",
        "sr['ITR Outstanding'] = pd.to_numeric(sr['ITR Outstanding'], errors='coerce').astype('Int64')\n",
        "sr['CC Checksheet Outstanding'] = pd.to_numeric(sr['CC Checksheet Outstanding'], errors='coerce').astype('Int64')\n",
        "sr['PC Checksheet Outstanding'] = pd.to_numeric(sr['PC Checksheet Outstanding'], errors='coerce').astype('Int64')\n",
        "sr['COMM Checksheet Outstanding'] = pd.to_numeric(sr['COMM Checksheet Outstanding'], errors='coerce').astype('Int64')\n",
        "\n",
        "sr = sr.fillna(0)"
      ]
    },
    {
      "cell_type": "code",
      "source": [
        "#sr['CC Checksheet Outstanding'] = sr['CC Checksheet Outstanding'].replace({'0':np.nan, 0:np.nan})\n",
        "#sr = sr.replace({'0':np.nan, 0:np.nan})"
      ],
      "metadata": {
        "id": "e28q_gQaq1Vl"
      },
      "execution_count": 223,
      "outputs": []
    },
    {
      "cell_type": "code",
      "source": [
        "# Filter yg masih outstanding saja di bagian CC Checksheet\n",
        "sr_cc = sr[['Sub System No','Discipline','CC Checksheet Outstanding']]\n",
        "\n",
        "# combine text on different column\n",
        "sr_cc[\"Discipline\"] = sr_cc[\"Discipline\"].astype(str) + \":\" + sr_cc[\"CC Checksheet Outstanding\"].astype(str)\n",
        "sr_cc = sr_cc.drop(columns=['CC Checksheet Outstanding'])\n",
        "sr_cc = sr_cc.set_index('Sub System No')\n",
        "\n",
        "# combine value as string ref : https://stackoverflow.com/questions/59914167/putting-all-the-same-value-indices-into-one-row\n",
        "sr_cc = sr_cc.assign(labels = sr_cc.groupby(level = 'Sub System No').cumcount()).groupby([sr_cc.index,'labels']).first().unstack('labels').sort_index(axis =1,level = 1).droplevel(1,axis = 1)\n",
        "\n",
        "# sering ada bug disini, dibuat complete biar tidak ada bug\n",
        "sr_cc.columns = ['CC', 'A','B','C','D','E']\n",
        "\n",
        "sr_cc[\"CC\"] = sr_cc[\"CC\"].astype(str) + \"/\" + sr_cc[\"A\"].astype(str) + \"/\" + sr_cc[\"B\"].astype(str) + \"/\" + sr_cc[\"C\"].astype(str) + \"/\" + sr_cc[\"D\"].astype(str) + \"/\" + sr_cc[\"E\"].astype(str)\n",
        "sr_cc = sr_cc.drop(columns=['A','B','C','D','E'])"
      ],
      "metadata": {
        "colab": {
          "base_uri": "https://localhost:8080/"
        },
        "id": "Xww3bhuS60_Y",
        "outputId": "7b62108c-c43c-4416-dd7d-9f59897a20d2"
      },
      "execution_count": 224,
      "outputs": [
        {
          "output_type": "stream",
          "name": "stderr",
          "text": [
            "/usr/local/lib/python3.7/dist-packages/ipykernel_launcher.py:5: SettingWithCopyWarning: \n",
            "A value is trying to be set on a copy of a slice from a DataFrame.\n",
            "Try using .loc[row_indexer,col_indexer] = value instead\n",
            "\n",
            "See the caveats in the documentation: https://pandas.pydata.org/pandas-docs/stable/user_guide/indexing.html#returning-a-view-versus-a-copy\n",
            "  \"\"\"\n"
          ]
        }
      ]
    },
    {
      "cell_type": "code",
      "source": [
        "sr_pc = sr[['Sub System No','Discipline','PC Checksheet Outstanding']]\n",
        "\n",
        "# combine text on different column\n",
        "sr_pc[\"Discipline\"] = sr_pc[\"Discipline\"].astype(str) + \":\" + sr_pc[\"PC Checksheet Outstanding\"].astype(str)\n",
        "sr_pc = sr_pc.drop(columns=['PC Checksheet Outstanding'])\n",
        "sr_pc = sr_pc.set_index('Sub System No')\n",
        "\n",
        "# combine value as string \n",
        "sr_pc = sr_pc.assign(labels = sr_pc.groupby(level = 'Sub System No').cumcount()).groupby([sr_pc.index,'labels']).first().unstack('labels').sort_index(axis =1,level = 1).droplevel(1,axis = 1)\n",
        "\n",
        "#adjustment jumlah column A/B/C/D/E\n",
        "sr_pc.columns = ['PC', 'A','B','C','D','E']\n",
        "sr_pc[\"PC\"] = sr_pc[\"PC\"].astype(str) + \"/\" + sr_pc[\"A\"].astype(str) + \"/\" + sr_pc[\"B\"].astype(str) + \"/\" + sr_pc[\"C\"].astype(str) + \"/\" + sr_pc[\"D\"].astype(str) + \"/\" + sr_pc[\"E\"].astype(str)\n",
        "sr_pc = sr_pc.drop(columns=['A','B','C','D','E'])"
      ],
      "metadata": {
        "colab": {
          "base_uri": "https://localhost:8080/"
        },
        "id": "nVz5GSfr64ZI",
        "outputId": "69202d61-a5a9-41ec-fcd8-a75700a01ae1"
      },
      "execution_count": 225,
      "outputs": [
        {
          "output_type": "stream",
          "name": "stderr",
          "text": [
            "/usr/local/lib/python3.7/dist-packages/ipykernel_launcher.py:4: SettingWithCopyWarning: \n",
            "A value is trying to be set on a copy of a slice from a DataFrame.\n",
            "Try using .loc[row_indexer,col_indexer] = value instead\n",
            "\n",
            "See the caveats in the documentation: https://pandas.pydata.org/pandas-docs/stable/user_guide/indexing.html#returning-a-view-versus-a-copy\n",
            "  after removing the cwd from sys.path.\n"
          ]
        }
      ]
    },
    {
      "cell_type": "code",
      "execution_count": 226,
      "metadata": {
        "id": "bXMg96p4whxs"
      },
      "outputs": [],
      "source": [
        "# merge cc_pc\n",
        "cc_pc = pd.merge(sr_cc, sr_pc, left_on =\"Sub System No\", right_on=\"Sub System No\" , how=\"outer\")\n",
        "# perlu ada fungsi untuk cleaning /nan/\n",
        "cc_pc['CC'] = cc_pc['CC'].str.replace(r'nan[/]','', regex=True).str.replace(r'/nan','', regex=True)\n",
        "cc_pc['PC'] = cc_pc['PC'].str.replace(r'nan[/]','', regex=True).str.replace(r'/nan','', regex=True)\n",
        "\n",
        "cc_pc['CC'] = cc_pc['CC'].str.replace(r'[A-Z]:0/','', regex=True).str.replace(r'/[A-Z]:0','', regex=True).str.replace(r'[A-Z]:0','', regex=True)\n",
        "cc_pc['PC'] = cc_pc['PC'].str.replace(r'[A-Z]:0/','', regex=True).str.replace(r'/[A-Z]:0','', regex=True).str.replace(r'[A-Z]:0','', regex=True)"
      ]
    },
    {
      "cell_type": "code",
      "source": [
        "spread = pd.merge(spread, cc_pc, left_on =\"Sub System No\", right_on=\"Sub System No\" , how=\"left\")"
      ],
      "metadata": {
        "id": "0BPdfTYc6F3f"
      },
      "execution_count": 227,
      "outputs": []
    },
    {
      "cell_type": "code",
      "source": [
        "#write_data(url_sc62, spread, 'spread')"
      ],
      "metadata": {
        "id": "G-Xyz7pH4-SJ"
      },
      "execution_count": 228,
      "outputs": []
    },
    {
      "cell_type": "markdown",
      "metadata": {
        "id": "SrWxQ3pVRKmK"
      },
      "source": [
        "#5. Connect to PunchList Data (cert+sso+summary report + punch)"
      ]
    },
    {
      "cell_type": "code",
      "execution_count": 229,
      "metadata": {
        "id": "hP7R5O3YvwJM"
      },
      "outputs": [],
      "source": [
        "pl = read_data(url_pl,'PL')"
      ]
    },
    {
      "cell_type": "code",
      "execution_count": 230,
      "metadata": {
        "id": "EuqjDFUMOMVg"
      },
      "outputs": [],
      "source": [
        "# select only useful column\n",
        "pl = pl[['Sub System No','Discipline','Category','Punchlist No','Punchlist Description','Status','Phase','Raised By']] \n",
        "pl = pl.loc[pl['Status']=='Outstanding'].drop(columns=['Status']) # hemat data yg outstanding saja yg di olah\n",
        "\n",
        "#membuat buffer percabangan untuk di buat table dedicated dalam worksheet pl_A dan pl_B\n",
        "pl_a = pl.loc[pl['Category'].isin(['A'])]\n",
        "pl_b = pl.loc[pl['Category'].isin(['B'])]\n",
        "pl_c = pl.loc[pl['Category'].isin(['C'])]\n",
        "\n",
        "pl_ab = pl.loc[pl['Category'].isin(['A','B'])]   # saat include C, line ini akan di escape\n",
        "\n"
      ]
    },
    {
      "cell_type": "code",
      "execution_count": 231,
      "metadata": {
        "id": "-2GsZnipK2QD"
      },
      "outputs": [],
      "source": [
        "# Menghitung jumlah punch saja\n",
        "pl_ab = pl_ab.groupby(['Sub System No','Discipline','Category'])['Punchlist No'].count().reset_index(name=\"jumlah\")\n",
        "\n",
        "# Combine text Discipline/Category/Jumlah C:(B=4)\n",
        "pl_ab[\"Discipline\"] = pl_ab[\"Discipline\"].astype(str) + \":(\" + pl_ab[\"Category\"].astype(str) + \"=\" + pl_ab[\"jumlah\"].astype(str) + \")\"\n",
        "\n",
        "pl_ab = pl_ab.drop(columns=['Category','jumlah'])\n",
        "pl_ab = pl_ab.set_index('Sub System No')\n",
        "\n",
        "# combine value as string ref\n",
        "pl_ab = pl_ab.assign(labels = pl_ab.groupby(level = 'Sub System No').cumcount()).groupby([pl_ab.index,'labels']).first().unstack('labels').sort_index(axis =1,level = 1).droplevel(1,axis = 1)"
      ]
    },
    {
      "cell_type": "code",
      "execution_count": 232,
      "metadata": {
        "id": "CeIdYiaKK8XJ",
        "colab": {
          "base_uri": "https://localhost:8080/",
          "height": 175
        },
        "outputId": "eb01e344-f34c-431e-bd64-138fc6fd8e1a"
      },
      "outputs": [
        {
          "output_type": "execute_result",
          "data": {
            "text/plain": [
              "              Discipline Discipline Discipline Discipline Discipline  \\\n",
              "Sub System No                                                          \n",
              "567-20           E:(A=4)        NaN        NaN        NaN        NaN   \n",
              "590-03           E:(A=7)    E:(B=2)    I:(A=1)    I:(B=5)        NaN   \n",
              "492-15           S:(B=1)        NaN        NaN        NaN        NaN   \n",
              "\n",
              "              Discipline Discipline  \n",
              "Sub System No                        \n",
              "567-20               NaN        NaN  \n",
              "590-03               NaN        NaN  \n",
              "492-15               NaN        NaN  "
            ],
            "text/html": [
              "\n",
              "  <div id=\"df-e540047b-b278-440c-956e-56ca58893f7f\">\n",
              "    <div class=\"colab-df-container\">\n",
              "      <div>\n",
              "<style scoped>\n",
              "    .dataframe tbody tr th:only-of-type {\n",
              "        vertical-align: middle;\n",
              "    }\n",
              "\n",
              "    .dataframe tbody tr th {\n",
              "        vertical-align: top;\n",
              "    }\n",
              "\n",
              "    .dataframe thead th {\n",
              "        text-align: right;\n",
              "    }\n",
              "</style>\n",
              "<table border=\"1\" class=\"dataframe\">\n",
              "  <thead>\n",
              "    <tr style=\"text-align: right;\">\n",
              "      <th></th>\n",
              "      <th>Discipline</th>\n",
              "      <th>Discipline</th>\n",
              "      <th>Discipline</th>\n",
              "      <th>Discipline</th>\n",
              "      <th>Discipline</th>\n",
              "      <th>Discipline</th>\n",
              "      <th>Discipline</th>\n",
              "    </tr>\n",
              "    <tr>\n",
              "      <th>Sub System No</th>\n",
              "      <th></th>\n",
              "      <th></th>\n",
              "      <th></th>\n",
              "      <th></th>\n",
              "      <th></th>\n",
              "      <th></th>\n",
              "      <th></th>\n",
              "    </tr>\n",
              "  </thead>\n",
              "  <tbody>\n",
              "    <tr>\n",
              "      <th>567-20</th>\n",
              "      <td>E:(A=4)</td>\n",
              "      <td>NaN</td>\n",
              "      <td>NaN</td>\n",
              "      <td>NaN</td>\n",
              "      <td>NaN</td>\n",
              "      <td>NaN</td>\n",
              "      <td>NaN</td>\n",
              "    </tr>\n",
              "    <tr>\n",
              "      <th>590-03</th>\n",
              "      <td>E:(A=7)</td>\n",
              "      <td>E:(B=2)</td>\n",
              "      <td>I:(A=1)</td>\n",
              "      <td>I:(B=5)</td>\n",
              "      <td>NaN</td>\n",
              "      <td>NaN</td>\n",
              "      <td>NaN</td>\n",
              "    </tr>\n",
              "    <tr>\n",
              "      <th>492-15</th>\n",
              "      <td>S:(B=1)</td>\n",
              "      <td>NaN</td>\n",
              "      <td>NaN</td>\n",
              "      <td>NaN</td>\n",
              "      <td>NaN</td>\n",
              "      <td>NaN</td>\n",
              "      <td>NaN</td>\n",
              "    </tr>\n",
              "  </tbody>\n",
              "</table>\n",
              "</div>\n",
              "      <button class=\"colab-df-convert\" onclick=\"convertToInteractive('df-e540047b-b278-440c-956e-56ca58893f7f')\"\n",
              "              title=\"Convert this dataframe to an interactive table.\"\n",
              "              style=\"display:none;\">\n",
              "        \n",
              "  <svg xmlns=\"http://www.w3.org/2000/svg\" height=\"24px\"viewBox=\"0 0 24 24\"\n",
              "       width=\"24px\">\n",
              "    <path d=\"M0 0h24v24H0V0z\" fill=\"none\"/>\n",
              "    <path d=\"M18.56 5.44l.94 2.06.94-2.06 2.06-.94-2.06-.94-.94-2.06-.94 2.06-2.06.94zm-11 1L8.5 8.5l.94-2.06 2.06-.94-2.06-.94L8.5 2.5l-.94 2.06-2.06.94zm10 10l.94 2.06.94-2.06 2.06-.94-2.06-.94-.94-2.06-.94 2.06-2.06.94z\"/><path d=\"M17.41 7.96l-1.37-1.37c-.4-.4-.92-.59-1.43-.59-.52 0-1.04.2-1.43.59L10.3 9.45l-7.72 7.72c-.78.78-.78 2.05 0 2.83L4 21.41c.39.39.9.59 1.41.59.51 0 1.02-.2 1.41-.59l7.78-7.78 2.81-2.81c.8-.78.8-2.07 0-2.86zM5.41 20L4 18.59l7.72-7.72 1.47 1.35L5.41 20z\"/>\n",
              "  </svg>\n",
              "      </button>\n",
              "      \n",
              "  <style>\n",
              "    .colab-df-container {\n",
              "      display:flex;\n",
              "      flex-wrap:wrap;\n",
              "      gap: 12px;\n",
              "    }\n",
              "\n",
              "    .colab-df-convert {\n",
              "      background-color: #E8F0FE;\n",
              "      border: none;\n",
              "      border-radius: 50%;\n",
              "      cursor: pointer;\n",
              "      display: none;\n",
              "      fill: #1967D2;\n",
              "      height: 32px;\n",
              "      padding: 0 0 0 0;\n",
              "      width: 32px;\n",
              "    }\n",
              "\n",
              "    .colab-df-convert:hover {\n",
              "      background-color: #E2EBFA;\n",
              "      box-shadow: 0px 1px 2px rgba(60, 64, 67, 0.3), 0px 1px 3px 1px rgba(60, 64, 67, 0.15);\n",
              "      fill: #174EA6;\n",
              "    }\n",
              "\n",
              "    [theme=dark] .colab-df-convert {\n",
              "      background-color: #3B4455;\n",
              "      fill: #D2E3FC;\n",
              "    }\n",
              "\n",
              "    [theme=dark] .colab-df-convert:hover {\n",
              "      background-color: #434B5C;\n",
              "      box-shadow: 0px 1px 3px 1px rgba(0, 0, 0, 0.15);\n",
              "      filter: drop-shadow(0px 1px 2px rgba(0, 0, 0, 0.3));\n",
              "      fill: #FFFFFF;\n",
              "    }\n",
              "  </style>\n",
              "\n",
              "      <script>\n",
              "        const buttonEl =\n",
              "          document.querySelector('#df-e540047b-b278-440c-956e-56ca58893f7f button.colab-df-convert');\n",
              "        buttonEl.style.display =\n",
              "          google.colab.kernel.accessAllowed ? 'block' : 'none';\n",
              "\n",
              "        async function convertToInteractive(key) {\n",
              "          const element = document.querySelector('#df-e540047b-b278-440c-956e-56ca58893f7f');\n",
              "          const dataTable =\n",
              "            await google.colab.kernel.invokeFunction('convertToInteractive',\n",
              "                                                     [key], {});\n",
              "          if (!dataTable) return;\n",
              "\n",
              "          const docLinkHtml = 'Like what you see? Visit the ' +\n",
              "            '<a target=\"_blank\" href=https://colab.research.google.com/notebooks/data_table.ipynb>data table notebook</a>'\n",
              "            + ' to learn more about interactive tables.';\n",
              "          element.innerHTML = '';\n",
              "          dataTable['output_type'] = 'display_data';\n",
              "          await google.colab.output.renderOutput(dataTable, element);\n",
              "          const docLink = document.createElement('div');\n",
              "          docLink.innerHTML = docLinkHtml;\n",
              "          element.appendChild(docLink);\n",
              "        }\n",
              "      </script>\n",
              "    </div>\n",
              "  </div>\n",
              "  "
            ]
          },
          "metadata": {},
          "execution_count": 232
        }
      ],
      "source": [
        "pl_ab.sample(3)"
      ]
    },
    {
      "cell_type": "code",
      "execution_count": 233,
      "metadata": {
        "id": "Asd2RGkZcbfF"
      },
      "outputs": [],
      "source": [
        "#jika jumlah column exclude index ada 6\n",
        "#pl_ab.columns = ['Punch', 'A','B','C','D','E'] \n",
        "#pl_ab[\"Punch\"] = pl_ab[\"Punch\"].astype(str) + \"/\" + pl_ab[\"A\"].astype(str) + \"/\" + pl_ab[\"B\"].astype(str) + \"/\" + pl_ab[\"C\"].astype(str) + \"/\" + pl_ab[\"D\"].astype(str) + \"/\" + pl_ab[\"E\"].astype(str)\n",
        "#pl_ab = pl_ab.drop(columns=['A','B','C','D','E'])# jika ada error jumlah element\n",
        "\n",
        "#jika jumlah column exclude index ada 7\n",
        "pl_ab.columns = ['Punch', 'A','B','C','D','E','F'] # jika ada error jumlah element\n",
        "pl_ab[\"Punch\"] = pl_ab[\"Punch\"].astype(str) + \"/\" + pl_ab[\"A\"].astype(str) + \"/\" + pl_ab[\"B\"].astype(str) + \"/\" + pl_ab[\"C\"].astype(str) + \"/\" + pl_ab[\"D\"].astype(str) + \"/\" + pl_ab[\"E\"].astype(str) + \"/\" + pl_ab[\"F\"].astype(str)\n",
        "pl_ab = pl_ab.drop(columns=['A','B','C','D','E','F'])# jika ada error jumlah element\n",
        "\n",
        "#jika jumlah column exclude index ada >7\n",
        "#pl_ab.columns = ['Punch', 'A','B','C','D','E','F','G','H','I']\n",
        "#pl_ab[\"Punch\"] = pl_ab[\"Punch\"].astype(str) + \"/\" + pl_ab[\"A\"].astype(str) + \"/\" + pl_ab[\"B\"].astype(str) + \"/\" + pl_ab[\"C\"].astype(str) + \"/\" + pl_ab[\"D\"].astype(str) + \"/\" + pl_ab[\"E\"].astype(str) + \"/\" + pl_ab[\"F\"].astype(str) + \"/\" + pl_ab[\"G\"].astype(str)\n",
        "#pl_ab = pl_ab.drop(columns=['A','B','C','D','E','F','G','H','I'])\n",
        "\n",
        "pl_ab['Punch'] = pl_ab['Punch'].str.replace(r'nan[/]','', regex=True).str.replace(r'/nan','', regex=True)\n"
      ]
    },
    {
      "cell_type": "code",
      "source": [
        "# Merge dengan data \n",
        "spread = pd.merge(spread, pl_ab, left_on =\"Sub System No\", right_on=\"Sub System No\" , how=\"left\")"
      ],
      "metadata": {
        "id": "ppqJHQ8GE4wV"
      },
      "execution_count": 234,
      "outputs": []
    },
    {
      "cell_type": "code",
      "source": [
        "# tampilkan yg outstanding saja\n",
        "spread = spread.loc[(spread['Status']=='Outstanding')] # uncomment me, jika utk melihat keseluruhan data"
      ],
      "metadata": {
        "id": "PIVYHEFS8SFS"
      },
      "execution_count": 235,
      "outputs": []
    },
    {
      "cell_type": "code",
      "source": [
        "write_data(url_sc62, spread, 'spread')"
      ],
      "metadata": {
        "id": "QQ8kvWFaFA0R"
      },
      "execution_count": 236,
      "outputs": []
    },
    {
      "cell_type": "markdown",
      "source": [
        "# Fungsi check kekompletan certificate"
      ],
      "metadata": {
        "id": "Z_q8VY-4zAnq"
      }
    },
    {
      "cell_type": "code",
      "source": [
        "a = spread['System No']\n",
        "b = spread['Sub System No']\n",
        "f = spread['system owner_x']\n",
        "i = spread['ITR']\n",
        "j = spread['CC']\n",
        "k = spread['PC']\n",
        "l = spread['Punch']"
      ],
      "metadata": {
        "id": "J3wSDG24FGoe"
      },
      "execution_count": 237,
      "outputs": []
    },
    {
      "cell_type": "code",
      "source": [
        "# membuat logic apakah ITR tinggal Piping insulasi saja?\n",
        "'''\n",
        "logic_1 = level subsytem, ada system owner, CC=0, PC=0. punch = 0, ITR = 0  -> Issue Cert !!!\n",
        "logic_2 = level subsytem, ada system owner, CC=0, PC=0. punch = 0, ITR = mempunyai string *L:*  -> itr paint/insul kah? !!\n",
        "logic_3 = ~(logic_1 or logic_2)\n",
        "'''\n",
        "logic_1 = (b != '') & (f != '') & (j == '') & (k == '') & (l == '') & (i == '')\n",
        "logic_2 = (b != '') & (f != '') & (j == '') & (k == '') & (l == '') & (i.str.contains(pat='L:'))\n",
        "logic_3 = ~(logic_1 | logic_2)\n",
        "\n",
        "condition = [\n",
        "    logic_1,\n",
        "    logic_2,\n",
        "    logic_3\n",
        "]\n",
        "result = ['sudah WD?yes -> Issue Cert !!','itr paint/insul?yes -> issue Cert !!', '']\n",
        "\n",
        "spread['autocheck'] = np.select(condition, result)\n",
        "write_data(url_sc62, spread, 'spread')\n"
      ],
      "metadata": {
        "id": "5aIftoOnJfzq"
      },
      "execution_count": 264,
      "outputs": []
    },
    {
      "cell_type": "markdown",
      "metadata": {
        "id": "roeRQcCKvKsr"
      },
      "source": [
        "#8. Refresh List item Outstanding ITR/PC/CC/ITR"
      ]
    },
    {
      "cell_type": "code",
      "source": [
        "itr = read_data(url_itr,'ITR')\n",
        "\n",
        "#Ambil data ITR dan clean up\n",
        "itr = itr[['Sub System No','Discipline','Tag No','ITR No','ITR Description','Status']]\n",
        "# ambil hanya yang outstanding\n",
        "itr = itr.loc[(itr['Status']=='Outstanding')]\n",
        "\n",
        "# Membuat buffer percabangan untuk membuat tabel worksheet remaining ITR, utk digunakan nanti\n",
        "itr_show = itr.drop(columns=['Status'])"
      ],
      "metadata": {
        "id": "e9jEPosO0yJM"
      },
      "execution_count": 239,
      "outputs": []
    },
    {
      "cell_type": "code",
      "source": [
        "# merge dengan table priority \n",
        "itr_show = pd.merge(itr_show, priority , left_on =\"Sub System No\", right_on=\"subsystem\" , how=\"left\")\n",
        "itr_show = itr_show.loc[itr_show['priority'].isin(['phase_1','phase_2'])]\n",
        "itr_show = itr_show.drop(columns=[\"subsystem\"])\n",
        "\n",
        "# Update worksheet remaining ITR \n",
        "write_data(url_sc62, itr_show, 'itr')"
      ],
      "metadata": {
        "id": "cSKHyLC61RI_"
      },
      "execution_count": 240,
      "outputs": []
    },
    {
      "cell_type": "code",
      "execution_count": 241,
      "metadata": {
        "id": "ujERtT0-qywQ",
        "colab": {
          "base_uri": "https://localhost:8080/",
          "height": 35
        },
        "outputId": "b8aa491b-a965-4269-dafc-81e486f272f9"
      },
      "outputs": [
        {
          "output_type": "execute_result",
          "data": {
            "text/plain": [
              "\"\\n#drop row 'ITR No' yg blank\\nitr_show['ITR No'].replace('', np.nan, inplace=True)\\nitr_show.dropna(subset=['ITR No'], inplace=True)\\n\""
            ],
            "application/vnd.google.colaboratory.intrinsic+json": {
              "type": "string"
            }
          },
          "metadata": {},
          "execution_count": 241
        }
      ],
      "source": [
        "'''\n",
        "#drop row 'ITR No' yg blank\n",
        "itr_show['ITR No'].replace('', np.nan, inplace=True)\n",
        "itr_show.dropna(subset=['ITR No'], inplace=True)\n",
        "'''"
      ]
    },
    {
      "cell_type": "markdown",
      "source": [
        "cc"
      ],
      "metadata": {
        "id": "Ao46m1HT3QDZ"
      }
    },
    {
      "cell_type": "code",
      "source": [
        "cc = read_data(url_cc,'CC')"
      ],
      "metadata": {
        "id": "_wTldNpVSuPu"
      },
      "execution_count": 242,
      "outputs": []
    },
    {
      "cell_type": "code",
      "source": [
        "#Ambil data CC dan clean up\n",
        "cc = cc[['Sub System No','Discipline','Tag No','Checksheet Description','Status']]\n",
        "\n",
        "# ambil hanya yang outstanding\n",
        "cc = cc.loc[(cc['Status']=='Outstanding')]\n",
        "cc = cc.drop(columns=['Status'])\n",
        "\n",
        "# merge dengan table phase_2\n",
        "cc = pd.merge(cc, priority, left_on =\"Sub System No\", right_on=\"subsystem\" , how=\"left\")\n",
        "\n",
        "cc = cc.loc[cc['priority'].isin(['phase_1','phase_2'])]\n",
        "\n",
        "# Update worksheet remaining CC\n",
        "write_data(url_sc62, cc, 'cc')"
      ],
      "metadata": {
        "id": "RztqetnVS6Jb"
      },
      "execution_count": 243,
      "outputs": []
    },
    {
      "cell_type": "markdown",
      "source": [
        "pl_a"
      ],
      "metadata": {
        "id": "Xviiu3Tw46Sx"
      }
    },
    {
      "cell_type": "code",
      "source": [
        "pl_a = pl.loc[pl['Category'].isin(['A'])]"
      ],
      "metadata": {
        "id": "Ef0hTnCj49f-"
      },
      "execution_count": 244,
      "outputs": []
    },
    {
      "cell_type": "code",
      "source": [
        "# merge dengan table phase_2\n",
        "pl_a = pd.merge(pl_a, priority, left_on =\"Sub System No\", right_on=\"subsystem\" , how=\"left\")\n",
        "# hanya tunjukan yg ada dalam jalur phase_2\n",
        "pl_a = pl_a.loc[pl_a['priority'].isin(['phase_1','phase_2'])]\n",
        "pl_a = pl_a.drop(columns=[\"subsystem\"])"
      ],
      "metadata": {
        "id": "_pO-BohLpgG2"
      },
      "execution_count": 245,
      "outputs": []
    },
    {
      "cell_type": "code",
      "source": [
        "# Update worksheet remaining PL-A\n",
        "write_data(url_sc62, pl_a, 'pl_a')"
      ],
      "metadata": {
        "id": "mgxLce9_pjJN"
      },
      "execution_count": 246,
      "outputs": []
    },
    {
      "cell_type": "markdown",
      "source": [
        "pc"
      ],
      "metadata": {
        "id": "7wlLs51Hq3O1"
      }
    },
    {
      "cell_type": "code",
      "source": [
        "pc = read_data(url_pc,'PC')"
      ],
      "metadata": {
        "id": "iqXUrDnfq_nD"
      },
      "execution_count": 247,
      "outputs": []
    },
    {
      "cell_type": "code",
      "source": [
        "#Ambil data PC dan clean up\n",
        "pc = pc[['Sub System No','Discipline','Tag No','Checksheet No','Checksheet Description','Status']]\n",
        "\n",
        "# ambil hanya yang outstanding\n",
        "pc = pc.loc[(pc['Status']=='Outstanding')]\n",
        "pc = pc.drop(columns=['Status'])"
      ],
      "metadata": {
        "id": "Qzy4Jqd7rIfL"
      },
      "execution_count": 248,
      "outputs": []
    },
    {
      "cell_type": "code",
      "source": [
        "# merge dengan table phase_2\n",
        "pc = pd.merge(pc, priority, left_on =\"Sub System No\", right_on=\"subsystem\" , how=\"left\")"
      ],
      "metadata": {
        "id": "z9viNIF-rXn3"
      },
      "execution_count": 249,
      "outputs": []
    },
    {
      "cell_type": "code",
      "source": [
        "# hanya tunjukan yg ada dalam jalur phase_2\n",
        "pc = pc.loc[pc['priority'].isin(['phase_1','phase_2'])]\n",
        "pc = pc.drop(columns=[\"subsystem\"])"
      ],
      "metadata": {
        "id": "EU4JHmysreRt"
      },
      "execution_count": 250,
      "outputs": []
    },
    {
      "cell_type": "code",
      "source": [
        "# Update worksheet remaining PC # di pindahkan ke bawah\n",
        "#write_data(url_sc62, pc, 'pc')"
      ],
      "metadata": {
        "id": "320dmA8NrShl"
      },
      "execution_count": 251,
      "outputs": []
    },
    {
      "cell_type": "markdown",
      "source": [
        "pl_b"
      ],
      "metadata": {
        "id": "HlcqbiARrt6O"
      }
    },
    {
      "cell_type": "code",
      "source": [
        "pl_b = pl.loc[pl['Category'].isin(['B'])]"
      ],
      "metadata": {
        "id": "w5uvzidJr22O"
      },
      "execution_count": 252,
      "outputs": []
    },
    {
      "cell_type": "code",
      "source": [
        "# merge dengan table phase_2\n",
        "pl_b = pd.merge(pl_b, priority, left_on =\"Sub System No\", right_on=\"subsystem\" , how=\"left\")\n",
        "# hanya tunjukan yg ada dalam jalur phase_2\n",
        "pl_b = pl_b.loc[pl_b['priority'].isin(['phase_1','phase_2'])]\n",
        "pl_b = pl_b.drop(columns=[\"subsystem\"])"
      ],
      "metadata": {
        "id": "eIiW8LHWsAJO"
      },
      "execution_count": 253,
      "outputs": []
    },
    {
      "cell_type": "code",
      "source": [
        "# Update worksheet remaining PL-B\n",
        "write_data(url_sc62, pl_b, 'pl_b')"
      ],
      "metadata": {
        "id": "w4CHEJIor9dV"
      },
      "execution_count": 254,
      "outputs": []
    },
    {
      "cell_type": "markdown",
      "source": [
        "comm"
      ],
      "metadata": {
        "id": "dJJJhLZlsWuU"
      }
    },
    {
      "cell_type": "code",
      "source": [
        "comm = read_data(url_com,'COM')"
      ],
      "metadata": {
        "id": "LBAicO9wsYFC"
      },
      "execution_count": 255,
      "outputs": []
    },
    {
      "cell_type": "code",
      "source": [
        "#Ambil data comm dan clean up\n",
        "comm = comm[['System No','System Description','Sub System No','Checksheet No','Status']]\n",
        "\n",
        "# ambil hanya yang outstanding\n",
        "comm = comm.loc[(comm['Status']=='Outstanding')]\n",
        "comm = comm.drop(columns=['Status'])"
      ],
      "metadata": {
        "id": "m1dCfp0xtAU2"
      },
      "execution_count": 256,
      "outputs": []
    },
    {
      "cell_type": "code",
      "source": [
        "# Update worksheet remaining PC # di pindahkan ke bawah\n",
        "write_data(url_sc62, comm, 'comm')"
      ],
      "metadata": {
        "id": "Kuvk9J9is1-h"
      },
      "execution_count": 257,
      "outputs": []
    },
    {
      "cell_type": "markdown",
      "source": [
        "pl_2nd, akan dipakai saat arah diskusi sampai dengan prioritas 2"
      ],
      "metadata": {
        "id": "XVMxb30lvZt1"
      }
    },
    {
      "cell_type": "code",
      "source": [
        "# re-input data/subject utk di delete\n",
        "pl_c = pl.loc[pl['Category'].isin(['C'])]\n",
        "pl_ab = pl.loc[pl['Category'].isin(['A','B'])]"
      ],
      "metadata": {
        "id": "MIcc6hs_vbtk"
      },
      "execution_count": 258,
      "outputs": []
    },
    {
      "cell_type": "code",
      "source": [
        "pl_ab_2nd = pd.merge(pl_ab, priority, left_on =\"Sub System No\", right_on=\"subsystem\" , how=\"left\")\n",
        "\n",
        "# invert pemilihan pl_ab yg tidak masuk dalam prioritas\n",
        "pl_ab_2nd = pl_ab_2nd.loc[~pl_ab_2nd['priority'].isin(['phase_1','phase_2'])]\n",
        "pl_ab_2nd = pl_ab_2nd.drop(columns=[\"subsystem\",\"priority\"])\n",
        "\n",
        "#diconcatinasi\n",
        "pl_2nd = pd.concat([pl_ab_2nd,pl_c])\n",
        "\n",
        "# Update worksheet remaining PL-C \n",
        "#write_data(url_sc62, pl_2nd, 'pl_2nd') # normaly tidak aktif utk speed, jika perlu muncul di SC61 uncomment"
      ],
      "metadata": {
        "id": "MvtuzMVDziT7"
      },
      "execution_count": 259,
      "outputs": []
    },
    {
      "cell_type": "markdown",
      "metadata": {
        "id": "-lmJNWBYlkjo"
      },
      "source": [
        "#9. Connect to Transmital SC17 (pc dan certificate)"
      ]
    },
    {
      "cell_type": "markdown",
      "source": [
        "pc"
      ],
      "metadata": {
        "id": "ZpKPqnRILRLW"
      }
    },
    {
      "cell_type": "code",
      "execution_count": 260,
      "metadata": {
        "id": "xNr-VOgelube"
      },
      "outputs": [],
      "source": [
        "# terhubung dengan SC17\n",
        "url_sc17 = 'https://docs.google.com/spreadsheets/d/1nrdtZOiToC_kW95a8rKR_-J8hH5Io5Rp_JG2a8S2T3o/edit#gid=1274212197'\n",
        "\n",
        "sc17_cert = read_data(url_sc17,'Certificate Monitoring')\n",
        "sc17_pc = read_data(url_sc17,'PC Monitoring')\n",
        "sc17_cc = read_data(url_sc17,'CS Monitoring ')"
      ]
    },
    {
      "cell_type": "code",
      "execution_count": 261,
      "metadata": {
        "id": "CeXP3zDxxY9D"
      },
      "outputs": [],
      "source": [
        "#ambil data transmital PC yg diperlukan dan clean up\n",
        "sc17_cc = sc17_cc[['Subsystem','Date','   Discipline','Tag No','Checksheet No','Status','Remarks','Transmital No']]\n",
        "#merge data\n",
        "cc_x1 = pd.merge(cc, sc17_cc, left_on =\"Tag No\", right_on=\"Tag No\" , how=\"left\")\n",
        "\n",
        "#di atur kolomnya\n",
        "cc_x1 = cc_x1.reindex(columns=['Sub System No','Discipline', 'Tag No','Checksheet Description', 'subsystem desc','Date','Status','Remarks','Transmital No'])\n",
        "cc_x1 = cc_x1.rename(columns={\"Date\": \"SC17_submit Date\", \"Remarks\": \"SC17 Status\"})\n",
        "\n",
        "# write cc\n",
        "#write_data(url_sc62, cc_x1, 'cc')"
      ]
    },
    {
      "cell_type": "code",
      "execution_count": 262,
      "metadata": {
        "id": "k9Dro3jru91Z"
      },
      "outputs": [],
      "source": [
        "#ambil data transmital PC yg diperlukan dan clean up\n",
        "sc17_pc = sc17_pc[['Subsystem No.','Date','Discipline','Tag No.','Checksheet No','Checksheet Description','Status','Remarks','Transmital No']]\n",
        "\n",
        "#merge data\n",
        "#pc_x1 = pd.merge(pc, sc17_pc, left_on =\"Tag No\", right_on=\"Tag No.\" , how=\"left\") # ada merging yg kurang pas, karena tag number tidak unique di SC17\n",
        "pc_x1 = pd.merge(pc, sc17_pc, left_on =[\"Tag No\",\"Checksheet No\"], right_on=[\"Tag No.\",\"Checksheet No\"] , how=\"left\") # absorbing comment/finding bug p Adang, perlu check 2 column\n",
        "\n",
        "\n",
        "#di atur kolomnya\n",
        "pc_x1 = pc_x1.reindex(columns=['Sub System No','Discipline_x', 'Tag No','Checksheet No', 'Checksheet Description_x','Date','Remarks','Transmital No'])\n",
        "pc_x1 = pc_x1.rename(columns={\"Date\": \"SC17_submit Date\", \"Remarks\": \"SC17 Status\"})\n",
        "\n",
        "# write pc\n",
        "write_data(url_sc62, pc_x1, 'pc')"
      ]
    },
    {
      "cell_type": "markdown",
      "source": [
        "certificate"
      ],
      "metadata": {
        "id": "qz1HJCUaLTDz"
      }
    },
    {
      "cell_type": "code",
      "execution_count": 263,
      "metadata": {
        "id": "w9kR54hu3H1r",
        "colab": {
          "base_uri": "https://localhost:8080/",
          "height": 87
        },
        "outputId": "01f6990f-e245-421e-86cf-983838600380"
      },
      "outputs": [
        {
          "output_type": "execute_result",
          "data": {
            "text/plain": [
              "'\\nsc17_cert = read_data(url_sc17,\\'Certificate Monitoring\\')\\n\\n#ambil data transmital cert yg diperlukan dan clean up\\n#sc17_cert = sc17_cert[[\\'System/sub-system\\',\\'Date\\',\\'Discipline\\',\\'Certificate\\',\\'Re-submit\\',\\'Remarks\\',\\'Transmital No\\']]\\nsc17_cert = sc17_cert[[\\'Sub-System No.\\',\\'Date\\',\\'Discipline\\',\\'Certificate\\',\\'Submit\\',\\'Remarks\\',\\'Transmital No\\']]\\n\\n#merge data\\nspread_1 = pd.merge(spread, sc17_cert, left_on =[\"Tag No\",\"Checksheet No\"], right_on=[\"Tag No.\",\"Checksheet No\"] , how=\"left\") # absorbing comment/finding bug p Adang, perlu check 2 column\\n\\n# write pc\\nwrite_data(url_sc62, sc17_cert, \\'test\\')\\n\\n'"
            ],
            "application/vnd.google.colaboratory.intrinsic+json": {
              "type": "string"
            }
          },
          "metadata": {},
          "execution_count": 263
        }
      ],
      "source": [
        "'''\n",
        "sc17_cert = read_data(url_sc17,'Certificate Monitoring')\n",
        "\n",
        "#ambil data transmital cert yg diperlukan dan clean up\n",
        "#sc17_cert = sc17_cert[['System/sub-system','Date','Discipline','Certificate','Re-submit','Remarks','Transmital No']]\n",
        "sc17_cert = sc17_cert[['Sub-System No.','Date','Discipline','Certificate','Submit','Remarks','Transmital No']]\n",
        "\n",
        "#merge data\n",
        "spread_1 = pd.merge(spread, sc17_cert, left_on =[\"Tag No\",\"Checksheet No\"], right_on=[\"Tag No.\",\"Checksheet No\"] , how=\"left\") # absorbing comment/finding bug p Adang, perlu check 2 column\n",
        "\n",
        "# write pc\n",
        "write_data(url_sc62, sc17_cert, 'test')\n",
        "\n",
        "'''"
      ]
    }
  ],
  "metadata": {
    "colab": {
      "collapsed_sections": [
        "SrWxQ3pVRKmK"
      ],
      "name": "SC62_LembarKoordinasi  Script.ipynb",
      "provenance": [],
      "include_colab_link": true
    },
    "kernelspec": {
      "display_name": "Python 3",
      "name": "python3"
    },
    "language_info": {
      "name": "python"
    }
  },
  "nbformat": 4,
  "nbformat_minor": 0
}