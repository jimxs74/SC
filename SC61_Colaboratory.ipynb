{
  "nbformat": 4,
  "nbformat_minor": 0,
  "metadata": {
    "colab": {
      "name": "SC61_Colaboratory.ipynb",
      "provenance": [],
      "collapsed_sections": [
        "TlqltVulcEmS",
        "ZyFnc4eaqgpT",
        "SrWxQ3pVRKmK"
      ],
      "include_colab_link": true
    },
    "kernelspec": {
      "name": "python3",
      "display_name": "Python 3"
    },
    "language_info": {
      "name": "python"
    }
  },
  "cells": [
    {
      "cell_type": "markdown",
      "metadata": {
        "id": "view-in-github",
        "colab_type": "text"
      },
      "source": [
        "<a href=\"https://colab.research.google.com/github/jimxs74/SC/blob/main/SC61_Colaboratory.ipynb\" target=\"_parent\"><img src=\"https://colab.research.google.com/assets/colab-badge.svg\" alt=\"Open In Colab\"/></a>"
      ]
    },
    {
      "cell_type": "markdown",
      "source": [
        "# **SC61 Certification Status**\n",
        "\n",
        "Tool ini berguna untuk mendapatkan gambaran progress overall SC project secara angka. agar bisa diidentifikasi letak work volume terbanyak ada diSystem/Disiplin mana\n",
        "\n",
        "UI/UX belum menjadi objective dari tool ini, akan dilanjutkan dengan framework yang lain"
      ],
      "metadata": {
        "id": "j0rJv8nT5Tfo"
      }
    },
    {
      "cell_type": "code",
      "source": [
        "import pandas as pd\n",
        "import numpy as np\n",
        "import gspread"
      ],
      "metadata": {
        "id": "QZPNdd0pLL5y"
      },
      "execution_count": 1,
      "outputs": []
    },
    {
      "cell_type": "code",
      "source": [
        "from gspread_dataframe import set_with_dataframe\n",
        "from google.colab import auth\n",
        "auth.authenticate_user()\n",
        "\n",
        "import gspread\n",
        "from gspread_dataframe import set_with_dataframe\n",
        "from google.auth import default\n",
        "creds, _ = default()\n",
        "\n",
        "gc = gspread.authorize(creds)"
      ],
      "metadata": {
        "id": "mW1m_tCNWRS0"
      },
      "execution_count": 2,
      "outputs": []
    },
    {
      "cell_type": "code",
      "source": [
        "def read_data(url, sheet='sheet1'):\n",
        "  gs = gc.open_by_url(url).worksheet(sheet).get_all_values()\n",
        "  gs = pd.DataFrame.from_records(gs)\n",
        "  gs.columns = gs.iloc[0]\n",
        "  gs = gs[1:]\n",
        "  return gs\n",
        "\n",
        "def write_data(url, result, sheet):\n",
        "  write = gc.open_by_url(url)\n",
        "  write = write.worksheet(sheet)\n",
        "  write.clear()\n",
        "  set_with_dataframe(worksheet=write, dataframe=result, include_index=False,include_column_header=True, resize=True)\n",
        "  return"
      ],
      "metadata": {
        "id": "xoSG03msszmL"
      },
      "execution_count": 3,
      "outputs": []
    },
    {
      "cell_type": "markdown",
      "source": [
        "Update Data System Owner"
      ],
      "metadata": {
        "id": "VcDsDhbtIHpB"
      }
    },
    {
      "cell_type": "code",
      "source": [
        "# Connect dan Ambil data dari SC18\n",
        "url_sc18 = 'https://docs.google.com/spreadsheets/d/1wrvBoSNka1f51hk8QuLd_bF7irVzSB6nDpg-Z_XqcG4/edit#gid=532748829'\n",
        "url_sc61 = 'https://docs.google.com/spreadsheets/d/1vrdgQtQEfgirlOOzfVxcxuZizaETIxQ9XvdN1Qryg40/edit#gid=689240321'\n",
        "\n",
        "gs_read = gc.open_by_url(url_sc18).worksheet('System List')\n",
        "gs_write = gc.open_by_url(url_sc61)\n",
        "\n",
        "df = gs_read.get_all_values()\n",
        "df = pd.DataFrame.from_records(df)\n",
        "\n",
        "# Ambil kolom yg di perlukan saja dari SC18\n",
        "df = df[[1,2,3,4,32]] \n",
        "df.columns = ['system','system desc','subsystem','subsystem desc', 'system owner']\n",
        "df['system'].replace('',np.nan, inplace=True)\n",
        "df['subsystem'].replace('',np.nan, inplace=True)\n",
        "\n",
        "# pilih row yang diperlukan saja\n",
        "df_so = df[6:]\n",
        "df_so = df_so.drop(['subsystem','subsystem desc'], axis=1)\n",
        "\n",
        "# drop row yg mengandung blank pada column subsystem\n",
        "df_so.dropna(subset=['system'], inplace=True)\n",
        "df_so.reset_index(drop=True)\n",
        "\n",
        "# save to gsheet diworksheet so\n",
        "write_data(url_sc61, df_so, 'so')\n",
        "\n",
        "# Generate summary table Sub-System Owner dari SC18\n",
        "# pilih row yang diperlukan saja\n",
        "df_sso = df[6:]\n",
        "df_sso = df_sso.drop(['system','system desc'], axis=1)\n",
        "\n",
        "# drop row yg mengandung blank pada column subsystem\n",
        "df_sso.dropna(subset=['subsystem'], inplace=True)\n",
        "df_sso.reset_index(drop=True)\n",
        "\n",
        "# save to gsheet diworksheet sso\n",
        "write_data(url_sc61, df_sso, 'sso')\n"
      ],
      "metadata": {
        "id": "GSEp-M4KIKXX"
      },
      "execution_count": 4,
      "outputs": []
    },
    {
      "cell_type": "markdown",
      "source": [
        "#1. Connect ke Data"
      ],
      "metadata": {
        "id": "_RnCl5FoLT3I"
      }
    },
    {
      "cell_type": "code",
      "source": [
        "# link data dari p Supri. di update harian oleh p Supri\n",
        "# convert to DataFrame\n",
        "\n",
        "url_cert = \"https://docs.google.com/spreadsheets/d/1xPQanRi1XDmo7FlUyiV6Rt8pro_zjEHLOE0GLROTReQ/edit#gid=1035965456\"\n",
        "url_itr = \"https://docs.google.com/spreadsheets/d/1aB57SwMedoMSjBxt5w_EBNYgmMoUACTJC056gEbD9a0/edit#gid=1491426671\"\n",
        "url_cc = \"https://docs.google.com/spreadsheets/d/1ZrQjq30E58bFFiuuZ9aqAYy2StB4uKDRb2oDtM3m8wk/edit#gid=1688767959\"\n",
        "url_pc = \"https://docs.google.com/spreadsheets/d/1DHwpGa_I0sd42o9zfC5cUMSud9XfKwPtyYm7UHY9xl0/edit#gid=1494113475\"\n",
        "url_pl = \"https://docs.google.com/spreadsheets/d/19VIlyxleK14LjZCPls-4F9fjg0Sh46Q8oTk5UawJzhI/edit#gid=622809212\"\n",
        "url_sr = \"https://docs.google.com/spreadsheets/d/1X3Zy083zX2spgZWqlw9TfnzUpHh_LR_C3H1jXyEdB4A/edit#gid=253348165\"\n",
        "\n",
        "#SC61 Actual\n",
        "url_sc61 = 'https://docs.google.com/spreadsheets/d/1vrdgQtQEfgirlOOzfVxcxuZizaETIxQ9XvdN1Qryg40/edit#gid=0' # yg asli\n",
        "\n",
        "# SC61 test\n",
        "#url_sc61 = 'https://docs.google.com/spreadsheets/d/1LqkgoSVrjKQjVUi1VctEA9SdPBypNEai1HvNjkqQg5w/edit#gid=1588063696' # uji coba\n",
        "\n",
        "cert = read_data(url_cert,'CERT')\n",
        "itr = read_data(url_itr,'ITR')\n",
        "cc = read_data(url_cc,'CC')\n",
        "pc = read_data(url_pc,'PC')\n",
        "pl = read_data(url_pl,'PL')\n",
        "sr = read_data(url_sr,'PHASE')"
      ],
      "metadata": {
        "id": "BpMZ7a1job4D"
      },
      "execution_count": 5,
      "outputs": []
    },
    {
      "cell_type": "markdown",
      "source": [
        "#2. Certificate connect dengan subsystem owner (cert+sso)"
      ],
      "metadata": {
        "id": "TlqltVulcEmS"
      }
    },
    {
      "cell_type": "markdown",
      "source": [
        " kelebihan : join system owner lebih specifik pada subsystem, lebih akurat <br>\n",
        " kekurangan : ada bug, SHOC/SCCC/RFSU tidak terambil datanya dan teralamatkan ke PIC SO"
      ],
      "metadata": {
        "id": "-6jt0XdQcQ2C"
      }
    },
    {
      "cell_type": "code",
      "source": [
        "#ambil data certificate\n",
        "cert = cert[['Certificate No','System No','System Description','Sub System No','Sub System Description','Discipline','Status']]\n",
        "#cert['System No'] = pd.to_numeric(cert['System No'], errors='coerce').astype('Int64')\n",
        "\n",
        "#ambil data SC61 worksheet sso\n",
        "sso = read_data(url_sc61,'sso')\n",
        "\n",
        "# Merge data dengan CSystem Report Certificate Status dengan SC61\n",
        "sert_sso = pd.merge(cert, sso, left_on =\"Sub System No\", right_on=\"subsystem\" , how=\"left\") # previous is inner\n",
        "sert_sso = sert_sso.drop(['System No','System Description','subsystem','subsystem desc'], axis=1)\n",
        "\n",
        "# Sebaran Outstanding Certificate\n",
        "sert_sso = sert_sso[sert_sso['Status'].str.contains('Outstanding')]\n",
        "sso_load= sert_sso[\"system owner\"].value_counts()\n",
        "#print(\"Beban System Owner dalam subsystem lebih akurat : \")\n",
        "#print(sso_load)"
      ],
      "metadata": {
        "id": "OaTc1an6VAn0"
      },
      "execution_count": 6,
      "outputs": []
    },
    {
      "cell_type": "code",
      "source": [
        "# save to gsheet diworksheet sso\n",
        "#write_data(url_sc61, sert_sso, sheet='sso_wf_sert')"
      ],
      "metadata": {
        "id": "C55Ld8tQKGmF"
      },
      "execution_count": 7,
      "outputs": []
    },
    {
      "cell_type": "code",
      "source": [
        "#update ke data system owner sertificate, untuk fungsi vlookup di lembar koordinasi\n",
        "so = read_data(url_sc61,'so')\n",
        "sert_so = pd.merge(cert, so, left_on =\"System No\", right_on=\"system\" , how=\"left\") # previosly inner\n",
        "sert_so = sert_so.drop(['Sub System No','Sub System Description','system','system desc'], axis=1)\n",
        "sert_so = sert_so.sort_values(by=['System No'])\n",
        "\n",
        "write_data(url_sc61, sert_so, sheet='so_wf_sert')"
      ],
      "metadata": {
        "id": "PdbLh3wqo6RY"
      },
      "execution_count": 8,
      "outputs": []
    },
    {
      "cell_type": "markdown",
      "source": [
        "#3. Connect to Summary Report (cert+sso+summary report)"
      ],
      "metadata": {
        "id": "ZyFnc4eaqgpT"
      }
    },
    {
      "cell_type": "code",
      "source": [
        "sr = sr[['System No', 'System Description', 'Sub System No','Sub System Description', 'Discipline', 'ITR Outstanding', 'CC Checksheet Outstanding', 'PC Checksheet Outstanding', 'COMM Checksheet Outstanding']]\n",
        "#sr = sr.fillna(0)\n",
        "\n",
        "sr['System No'] = pd.to_numeric(sr['System No'], errors='coerce').astype('Int64')\n",
        "sr['ITR Outstanding'] = pd.to_numeric(sr['ITR Outstanding'], errors='coerce').astype('Int64')\n",
        "sr['CC Checksheet Outstanding'] = pd.to_numeric(sr['CC Checksheet Outstanding'], errors='coerce').astype('Int64')\n",
        "sr['PC Checksheet Outstanding'] = pd.to_numeric(sr['PC Checksheet Outstanding'], errors='coerce').astype('Int64')\n",
        "sr['COMM Checksheet Outstanding'] = pd.to_numeric(sr['COMM Checksheet Outstanding'], errors='coerce').astype('Int64')\n",
        "\n",
        "sr = sr.fillna(0)"
      ],
      "metadata": {
        "id": "xRCjW2107-jc",
        "colab": {
          "base_uri": "https://localhost:8080/"
        },
        "outputId": "772162d7-854d-450f-8046-68538ed8feed"
      },
      "execution_count": 9,
      "outputs": [
        {
          "output_type": "stream",
          "name": "stderr",
          "text": [
            "/usr/local/lib/python3.7/dist-packages/ipykernel_launcher.py:4: SettingWithCopyWarning: \n",
            "A value is trying to be set on a copy of a slice from a DataFrame.\n",
            "Try using .loc[row_indexer,col_indexer] = value instead\n",
            "\n",
            "See the caveats in the documentation: https://pandas.pydata.org/pandas-docs/stable/user_guide/indexing.html#returning-a-view-versus-a-copy\n",
            "  after removing the cwd from sys.path.\n",
            "/usr/local/lib/python3.7/dist-packages/ipykernel_launcher.py:5: SettingWithCopyWarning: \n",
            "A value is trying to be set on a copy of a slice from a DataFrame.\n",
            "Try using .loc[row_indexer,col_indexer] = value instead\n",
            "\n",
            "See the caveats in the documentation: https://pandas.pydata.org/pandas-docs/stable/user_guide/indexing.html#returning-a-view-versus-a-copy\n",
            "  \"\"\"\n",
            "/usr/local/lib/python3.7/dist-packages/ipykernel_launcher.py:6: SettingWithCopyWarning: \n",
            "A value is trying to be set on a copy of a slice from a DataFrame.\n",
            "Try using .loc[row_indexer,col_indexer] = value instead\n",
            "\n",
            "See the caveats in the documentation: https://pandas.pydata.org/pandas-docs/stable/user_guide/indexing.html#returning-a-view-versus-a-copy\n",
            "  \n",
            "/usr/local/lib/python3.7/dist-packages/ipykernel_launcher.py:7: SettingWithCopyWarning: \n",
            "A value is trying to be set on a copy of a slice from a DataFrame.\n",
            "Try using .loc[row_indexer,col_indexer] = value instead\n",
            "\n",
            "See the caveats in the documentation: https://pandas.pydata.org/pandas-docs/stable/user_guide/indexing.html#returning-a-view-versus-a-copy\n",
            "  import sys\n",
            "/usr/local/lib/python3.7/dist-packages/ipykernel_launcher.py:8: SettingWithCopyWarning: \n",
            "A value is trying to be set on a copy of a slice from a DataFrame.\n",
            "Try using .loc[row_indexer,col_indexer] = value instead\n",
            "\n",
            "See the caveats in the documentation: https://pandas.pydata.org/pandas-docs/stable/user_guide/indexing.html#returning-a-view-versus-a-copy\n",
            "  \n"
          ]
        }
      ]
    },
    {
      "cell_type": "code",
      "source": [
        "# Filter yg masih outstanding saja di bagian CC Checksheet\n",
        "sr_cc = sr[['Sub System No','Discipline','CC Checksheet Outstanding']]\n",
        "sr_cc = sr_cc[sr_cc['CC Checksheet Outstanding'] != 0]\n",
        "\n",
        "# combine text on different column\n",
        "sr_cc[\"Discipline\"] = sr_cc[\"Discipline\"].astype(str) + \":\" + sr_cc[\"CC Checksheet Outstanding\"].astype(str)\n",
        "sr_cc = sr_cc.drop(columns=['CC Checksheet Outstanding'])\n",
        "sr_cc = sr_cc.set_index('Sub System No')\n",
        "\n",
        "# combine value as string ref : https://stackoverflow.com/questions/59914167/putting-all-the-same-value-indices-into-one-row\n",
        "sr_cc = sr_cc.assign(labels = sr_cc.groupby(level = 'Sub System No').cumcount()).groupby([sr_cc.index,'labels']).first().unstack('labels').sort_index(axis =1,level = 1).droplevel(1,axis = 1)\n",
        "sr_cc.columns = ['CC Outstanding', 'A','B','C']\n",
        "\n",
        "sr_cc[\"CC Outstanding\"] = sr_cc[\"CC Outstanding\"].astype(str) + \"/\" + sr_cc[\"A\"].astype(str) + \"/\" + sr_cc[\"B\"].astype(str) + \"/\" + sr_cc[\"C\"].astype(str)\n",
        "sr_cc = sr_cc.drop(columns=['A','B','C'])"
      ],
      "metadata": {
        "id": "HBDjtFkigA1b"
      },
      "execution_count": 10,
      "outputs": []
    },
    {
      "cell_type": "code",
      "source": [
        "# Filter yg masih outstanding saja di bagian PC Checksheet\n",
        "sr_pc = sr[['Sub System No','Discipline','PC Checksheet Outstanding']]\n",
        "sr_pc = sr_pc[sr_pc['PC Checksheet Outstanding'] != 0]\n",
        "\n",
        "# combine text on different column\n",
        "sr_pc[\"Discipline\"] = sr_pc[\"Discipline\"].astype(str) + \":\" + sr_pc[\"PC Checksheet Outstanding\"].astype(str)\n",
        "sr_pc = sr_pc.drop(columns=['PC Checksheet Outstanding'])\n",
        "sr_pc = sr_pc.set_index('Sub System No')\n",
        "\n",
        "# combine value as string \n",
        "sr_pc = sr_pc.assign(labels = sr_pc.groupby(level = 'Sub System No').cumcount()).groupby([sr_pc.index,'labels']).first().unstack('labels').sort_index(axis =1,level = 1).droplevel(1,axis = 1)\n",
        "sr_pc.columns = ['PC Outstanding', 'A','B','C','D']\n",
        "\n",
        "sr_pc[\"PC Outstanding\"] = sr_pc[\"PC Outstanding\"].astype(str) + \"/\" + sr_pc[\"A\"].astype(str) + \"/\" + sr_pc[\"B\"].astype(str) + \"/\" + sr_pc[\"C\"].astype(str) + \"/\" + sr_pc[\"D\"].astype(str)\n",
        "sr_pc = sr_pc.drop(columns=['A','B','C','D'])"
      ],
      "metadata": {
        "id": "rBz98hqyL0a8"
      },
      "execution_count": 11,
      "outputs": []
    },
    {
      "cell_type": "markdown",
      "source": [
        "##4. Merge Certificate + SSO + Summary Report"
      ],
      "metadata": {
        "id": "NX5wmtkWDu2h"
      }
    },
    {
      "cell_type": "code",
      "source": [
        "# merge cc_pc\n",
        "cc_pc = pd.merge(sr_cc, sr_pc, left_on =\"Sub System No\", right_on=\"Sub System No\" , how=\"outer\")\n",
        "# perlu ada fungsi untuk cleaning /nan/\n",
        "cc_pc['CC Outstanding'] = cc_pc['CC Outstanding'].str.replace(r'nan[/]','', regex=True).str.replace(r'/nan','', regex=True)\n",
        "cc_pc['PC Outstanding'] = cc_pc['PC Outstanding'].str.replace(r'nan[/]','', regex=True).str.replace(r'/nan','', regex=True)"
      ],
      "metadata": {
        "id": "bXMg96p4whxs"
      },
      "execution_count": 12,
      "outputs": []
    },
    {
      "cell_type": "code",
      "source": [
        "# Merge dengan data system owner sert_so dengan sr_pc\n",
        "sert_sso = pd.merge(sso, cc_pc, left_on =\"subsystem\", right_on=\"Sub System No\" , how=\"inner\")"
      ],
      "metadata": {
        "id": "J3QGqIN8_gve"
      },
      "execution_count": 13,
      "outputs": []
    },
    {
      "cell_type": "markdown",
      "source": [
        "#5. Connect to PunchList Data (cert+sso+summary report + punch)"
      ],
      "metadata": {
        "id": "SrWxQ3pVRKmK"
      }
    },
    {
      "cell_type": "code",
      "source": [
        "# select only useful column\n",
        "pl = pl[['Sub System No','Discipline','Category','Punchlist No','Punchlist Description','Status','Phase','Raised By']] \n",
        "pl = pl.loc[pl['Status']=='Outstanding'].drop(columns=['Status'])\n",
        "pl = pl.loc[pl['Category'].isin(['A','B'])]   # saat include C, line ini akan di escape\n",
        "\n",
        "#membuat buffer percabangan untuk di buat table dedicated dalam worksheet pl_A dan pl_B\n",
        "pl_a = pl.loc[pl['Category'].isin(['A'])]\n",
        "pl_b = pl.loc[pl['Category'].isin(['B'])]"
      ],
      "metadata": {
        "id": "EuqjDFUMOMVg"
      },
      "execution_count": 14,
      "outputs": []
    },
    {
      "cell_type": "code",
      "source": [
        "# Menghitung jumlah punch saja\n",
        "pl = pl.groupby(['Sub System No','Discipline','Category'])['Punchlist No'].count().reset_index(name=\"jumlah\")\n",
        "\n",
        "# Combine text Discipline/Category/Jumlah C:(B=4)\n",
        "pl[\"Discipline\"] = pl[\"Discipline\"].astype(str) + \":(\" + pl[\"Category\"].astype(str) + \"=\" + pl[\"jumlah\"].astype(str) + \")\"\n",
        "\n",
        "pl = pl.drop(columns=['Category','jumlah'])\n",
        "pl = pl.set_index('Sub System No')\n",
        "\n",
        "# combine value as string ref\n",
        "pl = pl.assign(labels = pl.groupby(level = 'Sub System No').cumcount()).groupby([pl.index,'labels']).first().unstack('labels').sort_index(axis =1,level = 1).droplevel(1,axis = 1)\n",
        "pl.columns = ['Punch', 'A','B','C','D','E','F'] # jika ada error jumlah element\n",
        "#pl.columns = ['Punch', 'A','B','C','D','E','F','G']\n",
        "\n",
        "pl[\"Punch\"] = pl[\"Punch\"].astype(str) + \"/\" + pl[\"A\"].astype(str) + \"/\" + pl[\"B\"].astype(str) + \"/\" + pl[\"C\"].astype(str) + \"/\" + pl[\"D\"].astype(str) + \"/\" + pl[\"E\"].astype(str) + \"/\" + pl[\"F\"].astype(str)\n",
        "#pl[\"Punch\"] = pl[\"Punch\"].astype(str) + \"/\" + pl[\"A\"].astype(str) + \"/\" + pl[\"B\"].astype(str) + \"/\" + pl[\"C\"].astype(str) + \"/\" + pl[\"D\"].astype(str) + \"/\" + pl[\"E\"].astype(str) + \"/\" + pl[\"F\"].astype(str) + \"/\" + pl[\"G\"].astype(str)\n",
        "pl = pl.drop(columns=['A','B','C','D','E','F'])# jika ada error jumlah element\n",
        "#pl = pl.drop(columns=['A','B','C','D','E','F','G'])\n",
        "\n",
        "pl['Punch'] = pl['Punch'].str.replace(r'nan[/]','', regex=True).str.replace(r'/nan','', regex=True)\n"
      ],
      "metadata": {
        "id": "Asd2RGkZcbfF"
      },
      "execution_count": 15,
      "outputs": []
    },
    {
      "cell_type": "code",
      "source": [
        "# Merge dengan data subsystem owner sertificate sert_sso\n",
        "sert_sso = pd.merge(sert_sso, pl, left_on =\"subsystem\", right_on=\"Sub System No\" , how=\"left\")"
      ],
      "metadata": {
        "id": "N5wLdCeJ4uXZ"
      },
      "execution_count": 16,
      "outputs": []
    },
    {
      "cell_type": "code",
      "source": [
        "# save to gsheet diworksheet sso_wf_sert\n",
        "#write_data(url_sc61, sert_sso, 'sso_wf_sert')"
      ],
      "metadata": {
        "id": "uBVMDKwd5mWh"
      },
      "execution_count": 17,
      "outputs": []
    },
    {
      "cell_type": "markdown",
      "source": [
        "#6. Connect to System Priority untuk dimasukan dalam tol Gasin  (cert+sso+summary report + punch + tol)"
      ],
      "metadata": {
        "id": "6om1S5xLmVpz"
      }
    },
    {
      "cell_type": "code",
      "source": [
        "# Mengambil data dari SC61 worksheet tol gasin dan clean up\n",
        "tol = read_data(url_sc61,'tol gasin')\n",
        "\n",
        "# select only yg tol yes\n",
        "tol = tol.loc[tol['Tol']=='yes']\n",
        "\n",
        "# merge dengan table di sert_sso (worksheet sso_wf_sert)\n",
        "sert_ssox = pd.merge(sert_sso, tol, left_on =\"subsystem\", right_on=\"subsystem\" , how=\"left\")\n",
        "# reconfigure position column\n",
        "sert_ssox = sert_ssox.reindex(columns=['subsystem','subsystem desc_x', 'Tol','system owner','CC Outstanding','PC Outstanding','Punch']) # letak posisi salah."
      ],
      "metadata": {
        "id": "dZGrcFf_PXU3"
      },
      "execution_count": 18,
      "outputs": []
    },
    {
      "cell_type": "code",
      "source": [
        "# save to gsheet diworksheet sso_wf_sert\n",
        "#write_data(url_sc61, sert_ssox, 'sso_wf_sert')"
      ],
      "metadata": {
        "id": "3OU8EHSEnSZd"
      },
      "execution_count": 19,
      "outputs": []
    },
    {
      "cell_type": "markdown",
      "source": [
        "#7. Connect to Data ITR"
      ],
      "metadata": {
        "id": "yF3UCb-vqNu_"
      }
    },
    {
      "cell_type": "code",
      "source": [
        "#Ambil data ITR dan clean up\n",
        "itr = itr[['Sub System No','Discipline','Tag No','ITR No','ITR Description','Status']]\n",
        "# ambil hanya yang outstanding\n",
        "itr = itr.loc[(itr['Status']=='Outstanding')]\n",
        "# Membuat buffer percabangan untuk membuat tabel worksheet remaining ITR, utk digunakan nanti\n",
        "itr_show = itr.drop(columns=['Status'])\n",
        "# Menghitung jumlah ITR per subsystem\n",
        "itr = itr.groupby(['Sub System No','Discipline'])['ITR No'].count().reset_index(name=\"jumlah\")\n",
        "\n",
        "# Combine text Discipline/Category/Jumlah C:1\n",
        "itr[\"Discipline\"] = itr[\"Discipline\"].astype(str) + \":\" + itr[\"jumlah\"].astype(str)\n",
        "itr = itr.drop(columns=['jumlah'])\n",
        "itr = itr.set_index('Sub System No')\n",
        "\n",
        "# combine value as string\n",
        "itr = itr.assign(labels = itr.groupby(level = 'Sub System No').cumcount()).groupby([itr.index,'labels']).first().unstack('labels').sort_index(axis =1,level = 1).droplevel(1,axis = 1)\n",
        "itr.columns = ['ITR','A','B','C','D','E','F','G','H']\n",
        "\n",
        "itr[\"ITR\"] = itr[\"ITR\"].astype(str) + \"/\" + itr[\"A\"].astype(str) + \"/\" + itr[\"B\"].astype(str) + \"/\" + itr[\"C\"].astype(str) + \"/\" + itr[\"D\"].astype(str) + \"/\" + itr[\"E\"].astype(str) + \"/\" + itr[\"F\"].astype(str) + \"/\" + itr[\"G\"].astype(str) + \"/\" + itr[\"H\"].astype(str)\n",
        "itr = itr.drop(columns=['A','B','C','D','E','F','G','H'])\n",
        "\n",
        "# cleaning /nan/\n",
        "itr['ITR'] = itr['ITR'].str.replace(r'nan[/]','', regex=True).str.replace(r'/nan','', regex=True)"
      ],
      "metadata": {
        "id": "xBQMpicziAE2"
      },
      "execution_count": 20,
      "outputs": []
    },
    {
      "cell_type": "code",
      "source": [
        "# merge dengan table di sert_sso (worksheet sso_wf_sert)\n",
        "sert_ssox2 = pd.merge(sert_ssox, itr, left_on =\"subsystem\", right_on=\"Sub System No\" , how=\"left\")\n",
        "sert_ssox2 = sert_ssox2.reindex(columns=['subsystem','subsystem desc_x', 'Tol','system owner', 'ITR', 'CC Outstanding','PC Outstanding','Punch'])"
      ],
      "metadata": {
        "id": "7A0QPmdykDxy"
      },
      "execution_count": 21,
      "outputs": []
    },
    {
      "cell_type": "code",
      "source": [
        "# save to gsheet diworksheet sso_wf_sert\n",
        "write_data(url_sc61, sert_ssox2, 'sso_wf_sert')"
      ],
      "metadata": {
        "id": "8K0rlLuiVC3h"
      },
      "execution_count": 22,
      "outputs": []
    },
    {
      "cell_type": "markdown",
      "source": [
        "#8. Refresh Outstanding ITR/PC/CC/ITR"
      ],
      "metadata": {
        "id": "roeRQcCKvKsr"
      }
    },
    {
      "cell_type": "code",
      "source": [
        "# merge dengan table tol\n",
        "itr_show = pd.merge(itr_show, tol, left_on =\"Sub System No\", right_on=\"subsystem\" , how=\"left\")\n",
        "# hanya tunjukan yg ada dalam jalur tol\n",
        "itr_show = itr_show.loc[(itr_show['Tol']=='yes')]\n",
        "itr_show = itr_show.drop(columns=[\"subsystem\"])\n",
        "\n",
        "# Update worksheet remaining ITR \n",
        "write_data(url_sc61, itr_show, 'itr')"
      ],
      "metadata": {
        "id": "ujERtT0-qywQ"
      },
      "execution_count": 23,
      "outputs": []
    },
    {
      "cell_type": "code",
      "source": [
        "#Ambil data CC dan clean up\n",
        "cc = cc[['Sub System No','Discipline','Tag No','Checksheet Description','Status']]\n",
        "\n",
        "# ambil hanya yang outstanding\n",
        "cc = cc.loc[(cc['Status']=='Outstanding')]\n",
        "cc = cc.drop(columns=['Status'])\n",
        "\n",
        "# merge dengan table tol\n",
        "cc = pd.merge(cc, tol, left_on =\"Sub System No\", right_on=\"subsystem\" , how=\"left\")\n",
        "# hanya tunjukan yg ada dalam jalur tol\n",
        "cc = cc.loc[(cc['Tol']=='yes')]\n",
        "cc = cc.drop(columns=[\"subsystem\"])\n",
        "\n",
        "# Update worksheet remaining CC\n",
        "write_data(url_sc61, cc, 'cc')"
      ],
      "metadata": {
        "id": "Km9y6dOdxlfW"
      },
      "execution_count": 24,
      "outputs": []
    },
    {
      "cell_type": "code",
      "source": [
        "# merge dengan table tol\n",
        "pl_a = pd.merge(pl_a, tol, left_on =\"Sub System No\", right_on=\"subsystem\" , how=\"left\")\n",
        "# hanya tunjukan yg ada dalam jalur tol\n",
        "pl_a = pl_a.loc[(pl_a['Tol']=='yes')]\n",
        "pl_a = pl_a.drop(columns=[\"subsystem\"])\n",
        "\n",
        "# Update worksheet remaining PL-A\n",
        "write_data(url_sc61, pl_a, 'pl_A')"
      ],
      "metadata": {
        "id": "sOxdKjz7xYhb"
      },
      "execution_count": 25,
      "outputs": []
    },
    {
      "cell_type": "code",
      "source": [
        "#Ambil data PC dan clean up\n",
        "pc = pc[['Sub System No','Discipline','Tag No','Checksheet No','Checksheet Description','Status']]\n",
        "\n",
        "# ambil hanya yang outstanding\n",
        "pc = pc.loc[(pc['Status']=='Outstanding')]\n",
        "pc = pc.drop(columns=['Status'])\n",
        "\n",
        "# merge dengan table tol\n",
        "pc = pd.merge(pc, tol, left_on =\"Sub System No\", right_on=\"subsystem\" , how=\"left\")\n",
        "# hanya tunjukan yg ada dalam jalur tol\n",
        "pc = pc.loc[(pc['Tol']=='yes')]\n",
        "pc = pc.drop(columns=[\"subsystem\"])\n",
        "\n",
        "# Update worksheet remaining PC # di pindahkan ke bawah\n",
        "write_data(url_sc61, pc, 'pc')"
      ],
      "metadata": {
        "id": "TshreR1mxy3V"
      },
      "execution_count": 26,
      "outputs": []
    },
    {
      "cell_type": "code",
      "source": [
        "# merge dengan table tol\n",
        "pl_b = pd.merge(pl_b, tol, left_on =\"Sub System No\", right_on=\"subsystem\" , how=\"left\")\n",
        "# hanya tunjukan yg ada dalam jalur tol\n",
        "pl_b = pl_b.loc[(pl_b['Tol']=='yes')]\n",
        "pl_b = pl_b.drop(columns=[\"subsystem\"])\n",
        "\n",
        "# Update worksheet remaining PL-B\n",
        "write_data(url_sc61, pl_b, 'pl_B')"
      ],
      "metadata": {
        "id": "bw3ipaf6x1AT"
      },
      "execution_count": 27,
      "outputs": []
    },
    {
      "cell_type": "markdown",
      "source": [
        "#9. Connect to Transmital SC17 (cc dan pc)"
      ],
      "metadata": {
        "id": "-lmJNWBYlkjo"
      }
    },
    {
      "cell_type": "code",
      "source": [
        "# terhubung dengan SC17\n",
        "url_sc17 = 'https://docs.google.com/spreadsheets/d/1nrdtZOiToC_kW95a8rKR_-J8hH5Io5Rp_JG2a8S2T3o/edit#gid=1274212197'\n",
        "\n",
        "sc17_cc = read_data(url_sc17,'CS Monitoring ')\n",
        "sc17_pc = read_data(url_sc17,'PC Monitoring')\n",
        "sc17_cert = read_data(url_sc17,'Certificate Monitoring')"
      ],
      "metadata": {
        "id": "xNr-VOgelube"
      },
      "execution_count": 28,
      "outputs": []
    },
    {
      "cell_type": "code",
      "source": [
        "#ambil data transmital PC yg diperlukan dan clean up\n",
        "sc17_cc = sc17_cc[['Subsystem','Date','   Discipline','Tag No','Checksheet No','Status','Remarks','Transmital No']]\n",
        "#merge data\n",
        "cc_x1 = pd.merge(cc, sc17_cc, left_on =\"Tag No\", right_on=\"Tag No\" , how=\"left\")\n",
        "\n",
        "#di atur kolomnya\n",
        "cc_x1 = cc_x1.reindex(columns=['Sub System No','Discipline', 'Tag No','Checksheet Description', 'subsystem desc','Tol','Date','Status','Remarks','Transmital No'])\n",
        "cc_x1 = cc_x1.rename(columns={\"Date\": \"SC17_submit Date\", \"Remarks\": \"SC17 Status\"})\n",
        "\n",
        "# write cc\n",
        "#write_data(url_sc61, cc_x1, 'cc')"
      ],
      "metadata": {
        "id": "CeXP3zDxxY9D"
      },
      "execution_count": 29,
      "outputs": []
    },
    {
      "cell_type": "code",
      "source": [
        "#ambil data transmital PC yg diperlukan dan clean up\n",
        "sc17_pc = sc17_pc[['Subsystem No.','Date','Discipline','Tag No.','Checksheet Description','Status','Remarks','Transmital No']]\n",
        "\n",
        "#merge data\n",
        "pc_x1 = pd.merge(pc, sc17_pc, left_on =\"Tag No\", right_on=\"Tag No.\" , how=\"left\")\n",
        "\n",
        "#di atur kolomnya\n",
        "pc_x1 = pc_x1.reindex(columns=['Sub System No','Discipline_x', 'Tag No','Checksheet No', 'Checksheet Description_x',\n",
        "'Tol','Date','Remarks','Transmital No'])\n",
        "pc_x1 = pc_x1.rename(columns={\"Date\": \"SC17_submit Date\", \"Remarks\": \"SC17 Status\"})\n",
        "\n",
        "# write pc\n",
        "#write_data(url_sc61, pc_x1, 'pc')"
      ],
      "metadata": {
        "id": "k9Dro3jru91Z"
      },
      "execution_count": 30,
      "outputs": []
    },
    {
      "cell_type": "code",
      "source": [
        "sc17_cert = read_data(url_sc17,'Certificate Monitoring')"
      ],
      "metadata": {
        "id": "w9kR54hu3H1r"
      },
      "execution_count": 31,
      "outputs": []
    },
    {
      "cell_type": "code",
      "source": [
        "#ambil data transmital cert yg diperlukan dan clean up\n",
        "sc17_cert = sc17_cert[['System/sub-system','Date','Discipline','Certificate','Re-submit','Remarks','Transmital No']]"
      ],
      "metadata": {
        "id": "lwY85OG_1FLs"
      },
      "execution_count": 32,
      "outputs": []
    },
    {
      "cell_type": "markdown",
      "source": [
        "#10. Connect dengan Status loop vs PC (instrument)"
      ],
      "metadata": {
        "id": "oTj6xZzOez5C"
      }
    },
    {
      "cell_type": "code",
      "source": [
        "# terhubung dengan SC17\n",
        "url_loop = 'https://docs.google.com/spreadsheets/d/1XvvMfzp0nfaocgS3x2mDWQ1cMLARSCDOFkMPoygiEHk/edit#gid=162693662'\n",
        "loop = read_data(url_loop,'Source2')\n",
        "\n",
        "#merge data\n",
        "pc_x2 = pd.merge(pc_x1, loop, left_on =\"Tag No\", right_on=\"TAG NO PC\" , how=\"left\")\n",
        "\n",
        "pc_x2 = pc_x2[['Sub System No','Discipline_x','Tag No','Checksheet No','Checksheet Description_x','Tol','SC17_submit Date','SC17 Status','Transmital No','STATUS PC','PC POSITION ENG','PC POSITION SC','TOTAL LOOP','LOOP TESTED','LOOP REMAINING']]\n",
        "\n",
        "#write to sc61\n",
        "#write_data(url_sc61, pc_x2, 'pc')"
      ],
      "metadata": {
        "id": "2z2rlN9ee6aU"
      },
      "execution_count": 33,
      "outputs": []
    },
    {
      "cell_type": "code",
      "source": [
        "# loop package\n",
        "pc_i = pc_x2.loc[pc_x2['Discipline_x'].isin(['I'])]\n",
        "pc_i_nonpackage = pc_i[~pc_i['STATUS PC'].isna()]\n",
        "pc_i_nonpackage = pc_i_nonpackage.drop(columns=['SC17_submit Date','Transmital No','STATUS PC','TOTAL LOOP','LOOP TESTED'])"
      ],
      "metadata": {
        "id": "6I2y_wcDgRCo"
      },
      "execution_count": 34,
      "outputs": []
    },
    {
      "cell_type": "code",
      "source": [
        "#write to sc61\n",
        "write_data(url_sc61, pc_i_nonpackage, 'loop_nonPackage')"
      ],
      "metadata": {
        "id": "97LzGOaziCuR"
      },
      "execution_count": 35,
      "outputs": []
    },
    {
      "cell_type": "code",
      "source": [
        "loop_package = pc_i[pc_i['STATUS PC'].isna()]\n",
        "loop_package = loop_package.drop(columns=['SC17_submit Date','Transmital No','PC POSITION ENG','PC POSITION SC','STATUS PC','TOTAL LOOP','LOOP TESTED'])"
      ],
      "metadata": {
        "id": "eCpxOofegi_X"
      },
      "execution_count": 36,
      "outputs": []
    },
    {
      "cell_type": "code",
      "source": [
        "#write to sc61\n",
        "write_data(url_sc61, loop_package, 'loop_package')"
      ],
      "metadata": {
        "id": "QkDyzGdGOngs"
      },
      "execution_count": 37,
      "outputs": []
    }
  ]
}